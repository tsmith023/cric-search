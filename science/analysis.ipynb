{
 "cells": [
  {
   "cell_type": "code",
   "execution_count": 166,
   "metadata": {},
   "outputs": [],
   "source": [
    "# src = \"https://cricsheet.org/\"\n",
    "import json\n",
    "import os\n",
    "import polars as pl\n",
    "root = \"/home/tommy/Desktop/tbs-dev/cric-search/science/data\""
   ]
  },
  {
   "cell_type": "code",
   "execution_count": 167,
   "metadata": {},
   "outputs": [],
   "source": [
    "jmb = \"JM Bairstow\"\n",
    "btf = \"BT Foakes\""
   ]
  },
  {
   "cell_type": "code",
   "execution_count": 168,
   "metadata": {},
   "outputs": [],
   "source": [
    "from typing import TypedDict\n",
    "\n",
    "class Extras(TypedDict):\n",
    "    wides: int | None\n",
    "    legbyes: int | None\n",
    "    byes: int | None\n",
    "    noballs: int | None\n",
    "    penalty: int | None\n",
    "\n",
    "class Runs(TypedDict):\n",
    "    batter: int\n",
    "    extras: int\n",
    "    total: int\n",
    "\n",
    "class Delivery(TypedDict):\n",
    "    batter: str\n",
    "    bowler: str\n",
    "    extras: Extras | None\n",
    "    non_striker: str\n",
    "    runs: Runs\n",
    "\n",
    "class Over(TypedDict):\n",
    "    over: int\n",
    "    deliveries: list[Delivery]\n",
    "\n",
    "class Inning(TypedDict):\n",
    "    team: str\n",
    "    overs: list[Over]"
   ]
  },
  {
   "cell_type": "code",
   "execution_count": 169,
   "metadata": {},
   "outputs": [],
   "source": [
    "from dataclasses import dataclass\n",
    "\n",
    "@dataclass\n",
    "class Data:\n",
    "    byes: int\n",
    "    catches: int\n",
    "    net: int\n",
    "    runs: int\n",
    "    stumpings: int\n",
    "\n",
    "    @classmethod\n",
    "    def new(cls) -> \"Data\":\n",
    "        return cls(0, 0, 0, 0, 0)\n",
    "\n",
    "    def __str__(self) -> str:\n",
    "        return f\"Runs: {self.runs}, Byes: {self.byes}, Net: {self.net}, Catches: {self.catches}, Stumpings: {self.stumpings}\"\n",
    "    \n",
    "    def __repr__(self) -> str:\n",
    "        return self.__str__()\n",
    "    \n",
    "    def __add__(self, other: \"Data\") -> \"Data\":\n",
    "        return Data(\n",
    "            self.byes + other.byes,\n",
    "            self.catches + other.catches,\n",
    "            self.net + other.net,\n",
    "            self.runs + other.runs,\n",
    "            self.stumpings + other.stumpings,\n",
    "        )\n",
    "    \n",
    "    def __sub__(self, other: \"Data\") -> \"Data\":\n",
    "        return Data(\n",
    "            self.byes - other.byes,\n",
    "            self.catches - other.catches,\n",
    "            self.net - other.net,\n",
    "            self.runs - other.runs,\n",
    "            self.stumpings - other.stumpings,\n",
    "        )\n",
    "    \n",
    "    def efficiency(self) -> float | None:\n",
    "        ''' Only none when there is no net contribution, e.g. 0 runs scored and 0 byes conceded '''\n",
    "        denom = self.runs + self.byes\n",
    "        if denom == 0:\n",
    "            return None\n",
    "        return self.runs / denom\n",
    "    \n",
    "    def dismissals(self) -> int:\n",
    "        return self.catches + self.stumpings\n",
    "    \n",
    "\n",
    "@dataclass\n",
    "class Player:\n",
    "    name: str\n",
    "    matches: list[Data]\n",
    "    total: Data\n",
    "\n",
    "    def dismissal_weighted_average(self) -> float:\n",
    "        ''' The summed net contribution weighted by the dismissals across all matches '''\n",
    "        return sum([match.dismissals() * match.net for match in self.matches]) / sum([match.dismissals() for match in self.matches])\n",
    "\n",
    "    def dismissals_per_match(self) -> float:\n",
    "        return self.total.dismissals() / len(self.matches)\n",
    "    \n",
    "    def runs_per_match(self) -> float:\n",
    "        return self.total.runs / len(self.matches)\n",
    "    \n",
    "    def byes_per_match(self) -> float:\n",
    "        return self.total.byes / len(self.matches)\n",
    "\n",
    "    def to_df(self) -> pl.DataFrame:\n",
    "        x: list[int] = []\n",
    "        runs: list[int] = []\n",
    "        byes: list[int] = []\n",
    "        net: list[int] = []\n",
    "        efficiency: list[float] = []\n",
    "        for i, match in enumerate(self.matches):\n",
    "            x.append(i)\n",
    "            runs.append(match.runs)\n",
    "            byes.append(match.byes)\n",
    "            net.append(match.net)\n",
    "            efficiency.append(match.efficiency())\n",
    "        return pl.DataFrame({\n",
    "            \"test #\": x,\n",
    "            \"runs\": runs,\n",
    "            \"byes\": byes,\n",
    "            \"net\": net,\n",
    "            \"efficiency\": efficiency\n",
    "        })\n",
    "\n",
    "@dataclass\n",
    "class Match:\n",
    "    innings: list[Inning]"
   ]
  },
  {
   "cell_type": "code",
   "execution_count": 170,
   "metadata": {},
   "outputs": [
    {
     "name": "stdout",
     "output_type": "stream",
     "text": [
      "{'meta': {'data_version': '1.1.0', 'created': '2022-12-29', 'revision': 1}, 'info': {'balls_per_over': 6, 'city': 'Melbourne', 'dates': ['2022-12-26', '2022-12-27', '2022-12-28', '2022-12-29'], 'event': {'name': 'South Africa tour of Australia', 'match_number': 2}, 'gender': 'male', 'match_type': 'Test', 'match_type_number': 2485, 'officials': {'match_referees': ['RB Richardson'], 'reserve_umpires': ['PJ Gillespie'], 'tv_umpires': ['CB Gaffaney'], 'umpires': ['PR Reiffel', 'RA Kettleborough']}, 'outcome': {'winner': 'Australia', 'by': {'innings': 1, 'runs': 182}}, 'player_of_match': ['DA Warner'], 'players': {'South Africa': ['D Elgar', 'SJ Erwee', 'TB de Bruyn', 'T Bavuma', 'K Zondo', 'K Verreynne', 'M Jansen', 'KA Maharaj', 'K Rabada', 'A Nortje', 'L Ngidi'], 'Australia': ['DA Warner', 'UT Khawaja', 'M Labuschagne', 'SPD Smith', 'TM Head', 'C Green', 'AT Carey', 'PJ Cummins', 'NM Lyon', 'MA Starc', 'SM Boland']}, 'registry': {'people': {'A Nortje': 'acdc62f5', 'AT Carey': '69d03465', 'C Green': 'eaa76d3c', 'CB Gaffaney': 'd5ac41d8', 'D Elgar': '33085ffb', 'DA Warner': 'dcce6f09', 'K Rabada': 'e62dd25d', 'K Verreynne': 'bf814547', 'K Zondo': '4aad78d3', 'KA Maharaj': '0b60eb09', 'L Ngidi': 'f834dcfc', 'M Jansen': '81c36ee9', 'M Labuschagne': 'fa433be6', 'MA Starc': '3fb19989', 'MS Harris': '9e85455c', 'NM Lyon': '96a6a7ad', 'PJ Cummins': 'ded9240e', 'PJ Gillespie': '3e253a50', 'PR Reiffel': 'c9354f29', 'RA Kettleborough': '4017868f', 'RB Richardson': '410e2f12', 'SJ Erwee': 'a3ce3d1d', 'SM Boland': 'd167edd3', 'SPD Smith': '30a45b23', 'T Bavuma': '9ffd1ac1', 'TB de Bruyn': '90d6cdea', 'TM Head': '12b610c2', 'UT Khawaja': '331ea488'}}, 'season': '2022/23', 'team_type': 'international', 'teams': ['South Africa', 'Australia'], 'toss': {'decision': 'field', 'winner': 'Australia'}, 'venue': 'Melbourne Cricket Ground'}, 'innings': [{'team': 'South Africa', 'overs': [{'over': 0, 'deliveries': [{'batter': 'D Elgar', 'bowler': 'MA Starc', 'non_striker': 'SJ Erwee', 'runs': {'batter': 0, 'extras': 0, 'total': 0}}, {'batter': 'D Elgar', 'bowler': 'MA Starc', 'non_striker': 'SJ Erwee', 'runs': {'batter': 0, 'extras': 0, 'total': 0}}, {'batter': 'D Elgar', 'bowler': 'MA Starc', 'non_striker': 'SJ Erwee', 'runs': {'batter': 2, 'extras': 0, 'total': 2}}, {'batter': 'D Elgar', 'bowler': 'MA Starc', 'non_striker': 'SJ Erwee', 'runs': {'batter': 0, 'extras': 0, 'total': 0}}, {'batter': 'D Elgar', 'bowler': 'MA Starc', 'non_striker': 'SJ Erwee', 'runs': {'batter': 3, 'extras': 0, 'total': 3}}, {'batter': 'SJ Erwee', 'bowler': 'MA Starc', 'non_striker': 'D Elgar', 'runs': {'batter': 0, 'extras': 0, 'total': 0}}]}, {'over': 1, 'deliveries': [{'batter': 'D Elgar', 'bowler': 'PJ Cummins', 'non_striker': 'SJ Erwee', 'runs': {'batter': 1, 'extras': 0, 'total': 1}}, {'batter': 'SJ Erwee', 'bowler': 'PJ Cummins', 'non_striker': 'D Elgar', 'runs': {'batter': 0, 'extras': 0, 'total': 0}}, {'batter': 'SJ Erwee', 'bowler': 'PJ Cummins', 'non_striker': 'D Elgar', 'runs': {'batter': 0, 'extras': 0, 'total': 0}}, {'batter': 'SJ Erwee', 'bowler': 'PJ Cummins', 'non_striker': 'D Elgar', 'runs': {'batter': 0, 'extras': 0, 'total': 0}}, {'batter': 'SJ Erwee', 'bowler': 'PJ Cummins', 'non_striker': 'D Elgar', 'runs': {'batter': 0, 'extras': 0, 'total': 0}}, {'batter': 'SJ Erwee', 'bowler': 'PJ Cummins', 'non_striker': 'D Elgar', 'runs': {'batter': 0, 'extras': 0, 'total': 0}}]}, {'over': 2, 'deliveries': [{'batter': 'D Elgar', 'bowler': 'MA Starc', 'non_striker': 'SJ Erwee', 'runs': {'batter': 0, 'extras': 0, 'total': 0}}, {'batter': 'D Elgar', 'bowler': 'MA Starc', 'non_striker': 'SJ Erwee', 'runs': {'batter': 0, 'extras': 0, 'total': 0}}, {'batter': 'D Elgar', 'bowler': 'MA Starc', 'non_striker': 'SJ Erwee', 'runs': {'batter': 1, 'extras': 0, 'total': 1}}, {'batter': 'SJ Erwee', 'bowler': 'MA Starc', 'non_striker': 'D Elgar', 'runs': {'batter': 1, 'extras': 0, 'total': 1}}, {'batter': 'D Elgar', 'bowler': 'MA Starc', 'non_striker': 'SJ Erwee', 'runs': {'batter': 0, 'extras': 0, 'total': 0}}, {'batter': 'D Elgar', 'bowler': 'MA Starc', 'non_striker': 'SJ Erwee', 'runs': {'batter': 0, 'extras': 0, 'total': 0}}]}, {'over': 3, 'deliveries': [{'batter': 'SJ Erwee', 'bowler': 'PJ Cummins', 'non_striker': 'D Elgar', 'runs': {'batter': 0, 'extras': 0, 'total': 0}}, {'batter': 'SJ Erwee', 'bowler': 'PJ Cummins', 'non_striker': 'D Elgar', 'runs': {'batter': 1, 'extras': 0, 'total': 1}}, {'batter': 'D Elgar', 'bowler': 'PJ Cummins', 'non_striker': 'SJ Erwee', 'runs': {'batter': 0, 'extras': 0, 'total': 0}}, {'batter': 'D Elgar', 'bowler': 'PJ Cummins', 'non_striker': 'SJ Erwee', 'runs': {'batter': 0, 'extras': 0, 'total': 0}}, {'batter': 'D Elgar', 'bowler': 'PJ Cummins', 'non_striker': 'SJ Erwee', 'runs': {'batter': 0, 'extras': 0, 'total': 0}}, {'batter': 'D Elgar', 'bowler': 'PJ Cummins', 'non_striker': 'SJ Erwee', 'runs': {'batter': 0, 'extras': 0, 'total': 0}}]}, {'over': 4, 'deliveries': [{'batter': 'SJ Erwee', 'bowler': 'MA Starc', 'non_striker': 'D Elgar', 'runs': {'batter': 0, 'extras': 0, 'total': 0}}, {'batter': 'SJ Erwee', 'bowler': 'MA Starc', 'non_striker': 'D Elgar', 'runs': {'batter': 0, 'extras': 0, 'total': 0}}, {'batter': 'SJ Erwee', 'bowler': 'MA Starc', 'non_striker': 'D Elgar', 'runs': {'batter': 0, 'extras': 0, 'total': 0}}, {'batter': 'SJ Erwee', 'bowler': 'MA Starc', 'non_striker': 'D Elgar', 'runs': {'batter': 3, 'extras': 0, 'total': 3}}, {'batter': 'D Elgar', 'bowler': 'MA Starc', 'non_striker': 'SJ Erwee', 'runs': {'batter': 0, 'extras': 0, 'total': 0}}, {'batter': 'D Elgar', 'bowler': 'MA Starc', 'non_striker': 'SJ Erwee', 'runs': {'batter': 0, 'extras': 0, 'total': 0}}]}, {'over': 5, 'deliveries': [{'batter': 'SJ Erwee', 'bowler': 'PJ Cummins', 'non_striker': 'D Elgar', 'runs': {'batter': 0, 'extras': 0, 'total': 0}}, {'batter': 'SJ Erwee', 'bowler': 'PJ Cummins', 'non_striker': 'D Elgar', 'runs': {'batter': 0, 'extras': 0, 'total': 0}}, {'batter': 'SJ Erwee', 'bowler': 'PJ Cummins', 'non_striker': 'D Elgar', 'runs': {'batter': 0, 'extras': 0, 'total': 0}}, {'batter': 'SJ Erwee', 'bowler': 'PJ Cummins', 'non_striker': 'D Elgar', 'runs': {'batter': 4, 'extras': 0, 'total': 4}}, {'batter': 'SJ Erwee', 'bowler': 'PJ Cummins', 'non_striker': 'D Elgar', 'runs': {'batter': 4, 'extras': 0, 'total': 4}}, {'batter': 'SJ Erwee', 'bowler': 'PJ Cummins', 'non_striker': 'D Elgar', 'runs': {'batter': 0, 'extras': 0, 'total': 0}}]}, {'over': 6, 'deliveries': [{'batter': 'D Elgar', 'bowler': 'MA Starc', 'non_striker': 'SJ Erwee', 'runs': {'batter': 1, 'extras': 0, 'total': 1}}, {'batter': 'SJ Erwee', 'bowler': 'MA Starc', 'non_striker': 'D Elgar', 'runs': {'batter': 0, 'extras': 0, 'total': 0}}, {'batter': 'SJ Erwee', 'bowler': 'MA Starc', 'non_striker': 'D Elgar', 'runs': {'batter': 0, 'extras': 0, 'total': 0}}, {'batter': 'SJ Erwee', 'bowler': 'MA Starc', 'non_striker': 'D Elgar', 'runs': {'batter': 0, 'extras': 0, 'total': 0}}, {'batter': 'SJ Erwee', 'bowler': 'MA Starc', 'non_striker': 'D Elgar', 'runs': {'batter': 0, 'extras': 0, 'total': 0}}, {'batter': 'SJ Erwee', 'bowler': 'MA Starc', 'non_striker': 'D Elgar', 'runs': {'batter': 0, 'extras': 0, 'total': 0}}]}, {'over': 7, 'deliveries': [{'batter': 'D Elgar', 'bowler': 'PJ Cummins', 'non_striker': 'SJ Erwee', 'runs': {'batter': 0, 'extras': 0, 'total': 0}}, {'batter': 'D Elgar', 'bowler': 'PJ Cummins', 'non_striker': 'SJ Erwee', 'runs': {'batter': 0, 'extras': 0, 'total': 0}}, {'batter': 'D Elgar', 'bowler': 'PJ Cummins', 'non_striker': 'SJ Erwee', 'runs': {'batter': 0, 'extras': 0, 'total': 0}}, {'batter': 'D Elgar', 'bowler': 'PJ Cummins', 'non_striker': 'SJ Erwee', 'runs': {'batter': 0, 'extras': 0, 'total': 0}}, {'batter': 'D Elgar', 'bowler': 'PJ Cummins', 'non_striker': 'SJ Erwee', 'runs': {'batter': 0, 'extras': 0, 'total': 0}}, {'batter': 'D Elgar', 'bowler': 'PJ Cummins', 'non_striker': 'SJ Erwee', 'runs': {'batter': 0, 'extras': 0, 'total': 0}}]}, {'over': 8, 'deliveries': [{'batter': 'SJ Erwee', 'bowler': 'SM Boland', 'non_striker': 'D Elgar', 'runs': {'batter': 0, 'extras': 0, 'total': 0}}, {'batter': 'SJ Erwee', 'bowler': 'SM Boland', 'non_striker': 'D Elgar', 'runs': {'batter': 1, 'extras': 0, 'total': 1}}, {'batter': 'D Elgar', 'bowler': 'SM Boland', 'non_striker': 'SJ Erwee', 'runs': {'batter': 0, 'extras': 0, 'total': 0}}, {'batter': 'D Elgar', 'bowler': 'SM Boland', 'non_striker': 'SJ Erwee', 'runs': {'batter': 0, 'extras': 0, 'total': 0}}, {'batter': 'D Elgar', 'bowler': 'SM Boland', 'non_striker': 'SJ Erwee', 'runs': {'batter': 1, 'extras': 0, 'total': 1}}, {'batter': 'SJ Erwee', 'bowler': 'SM Boland', 'non_striker': 'D Elgar', 'runs': {'batter': 0, 'extras': 0, 'total': 0}}]}, {'over': 9, 'deliveries': [{'batter': 'D Elgar', 'bowler': 'PJ Cummins', 'non_striker': 'SJ Erwee', 'runs': {'batter': 0, 'extras': 0, 'total': 0}}, {'batter': 'D Elgar', 'bowler': 'PJ Cummins', 'non_striker': 'SJ Erwee', 'runs': {'batter': 0, 'extras': 0, 'total': 0}}, {'batter': 'D Elgar', 'bowler': 'PJ Cummins', 'non_striker': 'SJ Erwee', 'runs': {'batter': 0, 'extras': 0, 'total': 0}}, {'batter': 'D Elgar', 'bowler': 'PJ Cummins', 'non_striker': 'SJ Erwee', 'runs': {'batter': 1, 'extras': 0, 'total': 1}}, {'batter': 'SJ Erwee', 'bowler': 'PJ Cummins', 'non_striker': 'D Elgar', 'runs': {'batter': 4, 'extras': 0, 'total': 4}}, {'batter': 'SJ Erwee', 'bowler': 'PJ Cummins', 'non_striker': 'D Elgar', 'runs': {'batter': 0, 'extras': 0, 'total': 0}}]}, {'over': 10, 'deliveries': [{'batter': 'D Elgar', 'bowler': 'SM Boland', 'non_striker': 'SJ Erwee', 'runs': {'batter': 0, 'extras': 0, 'total': 0}}, {'batter': 'D Elgar', 'bowler': 'SM Boland', 'non_striker': 'SJ Erwee', 'runs': {'batter': 1, 'extras': 0, 'total': 1}}, {'batter': 'SJ Erwee', 'bowler': 'SM Boland', 'non_striker': 'D Elgar', 'runs': {'batter': 0, 'extras': 0, 'total': 0}}, {'batter': 'SJ Erwee', 'bowler': 'SM Boland', 'non_striker': 'D Elgar', 'runs': {'batter': 0, 'extras': 0, 'total': 0}, 'wickets': [{'player_out': 'SJ Erwee', 'fielders': [{'name': 'UT Khawaja'}], 'kind': 'caught'}]}, {'batter': 'TB de Bruyn', 'bowler': 'SM Boland', 'non_striker': 'D Elgar', 'runs': {'batter': 0, 'extras': 0, 'total': 0}}, {'batter': 'TB de Bruyn', 'bowler': 'SM Boland', 'non_striker': 'D Elgar', 'runs': {'batter': 0, 'extras': 0, 'total': 0}}]}, {'over': 11, 'deliveries': [{'batter': 'D Elgar', 'bowler': 'NM Lyon', 'non_striker': 'TB de Bruyn', 'runs': {'batter': 0, 'extras': 0, 'total': 0}}, {'batter': 'D Elgar', 'bowler': 'NM Lyon', 'non_striker': 'TB de Bruyn', 'runs': {'batter': 0, 'extras': 0, 'total': 0}}, {'batter': 'D Elgar', 'bowler': 'NM Lyon', 'non_striker': 'TB de Bruyn', 'runs': {'batter': 2, 'extras': 0, 'total': 2}}, {'batter': 'D Elgar', 'bowler': 'NM Lyon', 'non_striker': 'TB de Bruyn', 'runs': {'batter': 0, 'extras': 0, 'total': 0}}, {'batter': 'D Elgar', 'bowler': 'NM Lyon', 'non_striker': 'TB de Bruyn', 'runs': {'batter': 0, 'extras': 0, 'total': 0}}, {'batter': 'D Elgar', 'bowler': 'NM Lyon', 'non_striker': 'TB de Bruyn', 'runs': {'batter': 1, 'extras': 0, 'total': 1}}]}, {'over': 12, 'deliveries': [{'batter': 'D Elgar', 'bowler': 'SM Boland', 'non_striker': 'TB de Bruyn', 'runs': {'batter': 0, 'extras': 0, 'total': 0}}, {'batter': 'D Elgar', 'bowler': 'SM Boland', 'non_striker': 'TB de Bruyn', 'runs': {'batter': 0, 'extras': 0, 'total': 0}}, {'batter': 'D Elgar', 'bowler': 'SM Boland', 'non_striker': 'TB de Bruyn', 'runs': {'batter': 4, 'extras': 0, 'total': 4}}, {'batter': 'D Elgar', 'bowler': 'SM Boland', 'non_striker': 'TB de Bruyn', 'runs': {'batter': 0, 'extras': 0, 'total': 0}}, {'batter': 'D Elgar', 'bowler': 'SM Boland', 'non_striker': 'TB de Bruyn', 'runs': {'batter': 0, 'extras': 0, 'total': 0}}, {'batter': 'D Elgar', 'bowler': 'SM Boland', 'non_striker': 'TB de Bruyn', 'runs': {'batter': 0, 'extras': 0, 'total': 0}}]}, {'over': 13, 'deliveries': [{'batter': 'TB de Bruyn', 'bowler': 'NM Lyon', 'extras': {'byes': 1}, 'non_striker': 'D Elgar', 'runs': {'batter': 0, 'extras': 1, 'total': 1}}, {'batter': 'D Elgar', 'bowler': 'NM Lyon', 'non_striker': 'TB de Bruyn', 'runs': {'batter': 0, 'extras': 0, 'total': 0}}, {'batter': 'D Elgar', 'bowler': 'NM Lyon', 'non_striker': 'TB de Bruyn', 'runs': {'batter': 1, 'extras': 0, 'total': 1}}, {'batter': 'TB de Bruyn', 'bowler': 'NM Lyon', 'non_striker': 'D Elgar', 'runs': {'batter': 0, 'extras': 0, 'total': 0}}, {'batter': 'TB de Bruyn', 'bowler': 'NM Lyon', 'non_striker': 'D Elgar', 'runs': {'batter': 0, 'extras': 0, 'total': 0}}, {'batter': 'TB de Bruyn', 'bowler': 'NM Lyon', 'non_striker': 'D Elgar', 'runs': {'batter': 1, 'extras': 0, 'total': 1}}]}, {'over': 14, 'deliveries': [{'batter': 'TB de Bruyn', 'bowler': 'SM Boland', 'non_striker': 'D Elgar', 'runs': {'batter': 0, 'extras': 0, 'total': 0}}, {'batter': 'TB de Bruyn', 'bowler': 'SM Boland', 'non_striker': 'D Elgar', 'runs': {'batter': 0, 'extras': 0, 'total': 0}}, {'batter': 'TB de Bruyn', 'bowler': 'SM Boland', 'non_striker': 'D Elgar', 'runs': {'batter': 0, 'extras': 0, 'total': 0}}, {'batter': 'TB de Bruyn', 'bowler': 'SM Boland', 'non_striker': 'D Elgar', 'runs': {'batter': 2, 'extras': 0, 'total': 2}}, {'batter': 'TB de Bruyn', 'bowler': 'SM Boland', 'non_striker': 'D Elgar', 'runs': {'batter': 0, 'extras': 0, 'total': 0}}, {'batter': 'TB de Bruyn', 'bowler': 'SM Boland', 'non_striker': 'D Elgar', 'runs': {'batter': 0, 'extras': 0, 'total': 0}}]}, {'over': 15, 'deliveries': [{'batter': 'D Elgar', 'bowler': 'NM Lyon', 'non_striker': 'TB de Bruyn', 'runs': {'batter': 0, 'extras': 0, 'total': 0}}, {'batter': 'D Elgar', 'bowler': 'NM Lyon', 'non_striker': 'TB de Bruyn', 'runs': {'batter': 0, 'extras': 0, 'total': 0}}, {'batter': 'D Elgar', 'bowler': 'NM Lyon', 'non_striker': 'TB de Bruyn', 'runs': {'batter': 0, 'extras': 0, 'total': 0}}, {'batter': 'D Elgar', 'bowler': 'NM Lyon', 'non_striker': 'TB de Bruyn', 'runs': {'batter': 0, 'extras': 0, 'total': 0}}, {'batter': 'D Elgar', 'bowler': 'NM Lyon', 'non_striker': 'TB de Bruyn', 'runs': {'batter': 0, 'extras': 0, 'total': 0}}, {'batter': 'D Elgar', 'bowler': 'NM Lyon', 'non_striker': 'TB de Bruyn', 'runs': {'batter': 0, 'extras': 0, 'total': 0}}]}, {'over': 16, 'deliveries': [{'batter': 'TB de Bruyn', 'bowler': 'SM Boland', 'non_striker': 'D Elgar', 'runs': {'batter': 0, 'extras': 0, 'total': 0}}, {'batter': 'TB de Bruyn', 'bowler': 'SM Boland', 'non_striker': 'D Elgar', 'runs': {'batter': 0, 'extras': 0, 'total': 0}}, {'batter': 'TB de Bruyn', 'bowler': 'SM Boland', 'non_striker': 'D Elgar', 'runs': {'batter': 0, 'extras': 0, 'total': 0}}, {'batter': 'TB de Bruyn', 'bowler': 'SM Boland', 'non_striker': 'D Elgar', 'runs': {'batter': 0, 'extras': 0, 'total': 0}}, {'batter': 'TB de Bruyn', 'bowler': 'SM Boland', 'non_striker': 'D Elgar', 'runs': {'batter': 0, 'extras': 0, 'total': 0}}, {'batter': 'TB de Bruyn', 'bowler': 'SM Boland', 'non_striker': 'D Elgar', 'runs': {'batter': 0, 'extras': 0, 'total': 0}}]}, {'over': 17, 'deliveries': [{'batter': 'D Elgar', 'bowler': 'C Green', 'non_striker': 'TB de Bruyn', 'runs': {'batter': 1, 'extras': 0, 'total': 1}}, {'batter': 'TB de Bruyn', 'bowler': 'C Green', 'non_striker': 'D Elgar', 'runs': {'batter': 4, 'extras': 0, 'total': 4}}, {'batter': 'TB de Bruyn', 'bowler': 'C Green', 'non_striker': 'D Elgar', 'runs': {'batter': 4, 'extras': 0, 'total': 4}}, {'batter': 'TB de Bruyn', 'bowler': 'C Green', 'non_striker': 'D Elgar', 'runs': {'batter': 0, 'extras': 0, 'total': 0}}, {'batter': 'TB de Bruyn', 'bowler': 'C Green', 'non_striker': 'D Elgar', 'runs': {'batter': 0, 'extras': 0, 'total': 0}}, {'batter': 'TB de Bruyn', 'bowler': 'C Green', 'non_striker': 'D Elgar', 'runs': {'batter': 0, 'extras': 0, 'total': 0}}]}, {'over': 18, 'deliveries': [{'batter': 'D Elgar', 'bowler': 'SM Boland', 'non_striker': 'TB de Bruyn', 'runs': {'batter': 1, 'extras': 0, 'total': 1}}, {'batter': 'TB de Bruyn', 'bowler': 'SM Boland', 'non_striker': 'D Elgar', 'runs': {'batter': 0, 'extras': 0, 'total': 0}}, {'batter': 'TB de Bruyn', 'bowler': 'SM Boland', 'non_striker': 'D Elgar', 'runs': {'batter': 1, 'extras': 0, 'total': 1}}, {'batter': 'D Elgar', 'bowler': 'SM Boland', 'non_striker': 'TB de Bruyn', 'runs': {'batter': 0, 'extras': 0, 'total': 0}}, {'batter': 'D Elgar', 'bowler': 'SM Boland', 'non_striker': 'TB de Bruyn', 'runs': {'batter': 0, 'extras': 0, 'total': 0}}, {'batter': 'D Elgar', 'bowler': 'SM Boland', 'non_striker': 'TB de Bruyn', 'runs': {'batter': 4, 'extras': 0, 'total': 4}}]}, {'over': 19, 'deliveries': [{'batter': 'TB de Bruyn', 'bowler': 'C Green', 'non_striker': 'D Elgar', 'runs': {'batter': 0, 'extras': 0, 'total': 0}}, {'batter': 'TB de Bruyn', 'bowler': 'C Green', 'non_striker': 'D Elgar', 'runs': {'batter': 0, 'extras': 0, 'total': 0}}, {'batter': 'TB de Bruyn', 'bowler': 'C Green', 'non_striker': 'D Elgar', 'runs': {'batter': 0, 'extras': 0, 'total': 0}}, {'batter': 'TB de Bruyn', 'bowler': 'C Green', 'non_striker': 'D Elgar', 'runs': {'batter': 0, 'extras': 0, 'total': 0}}, {'batter': 'TB de Bruyn', 'bowler': 'C Green', 'non_striker': 'D Elgar', 'runs': {'batter': 0, 'extras': 0, 'total': 0}}, {'batter': 'TB de Bruyn', 'bowler': 'C Green', 'non_striker': 'D Elgar', 'runs': {'batter': 0, 'extras': 0, 'total': 0}, 'wickets': [{'player_out': 'TB de Bruyn', 'fielders': [{'name': 'AT Carey'}], 'kind': 'caught'}]}]}, {'over': 20, 'deliveries': [{'batter': 'D Elgar', 'bowler': 'MA Starc', 'non_striker': 'T Bavuma', 'runs': {'batter': 0, 'extras': 0, 'total': 0}}, {'batter': 'D Elgar', 'bowler': 'MA Starc', 'non_striker': 'T Bavuma', 'runs': {'batter': 0, 'extras': 0, 'total': 0}}, {'batter': 'D Elgar', 'bowler': 'MA Starc', 'non_striker': 'T Bavuma', 'runs': {'batter': 0, 'extras': 0, 'total': 0}}, {'batter': 'D Elgar', 'bowler': 'MA Starc', 'non_striker': 'T Bavuma', 'runs': {'batter': 0, 'extras': 0, 'total': 0}}, {'batter': 'D Elgar', 'bowler': 'MA Starc', 'non_striker': 'T Bavuma', 'runs': {'batter': 1, 'extras': 0, 'total': 1}}, {'batter': 'T Bavuma', 'bowler': 'MA Starc', 'non_striker': 'D Elgar', 'runs': {'batter': 1, 'extras': 0, 'total': 1}}]}, {'over': 21, 'deliveries': [{'batter': 'T Bavuma', 'bowler': 'PJ Cummins', 'non_striker': 'D Elgar', 'runs': {'batter': 0, 'extras': 0, 'total': 0}}, {'batter': 'T Bavuma', 'bowler': 'PJ Cummins', 'non_striker': 'D Elgar', 'runs': {'batter': 0, 'extras': 0, 'total': 0}}, {'batter': 'T Bavuma', 'bowler': 'PJ Cummins', 'non_striker': 'D Elgar', 'runs': {'batter': 0, 'extras': 0, 'total': 0}}, {'batter': 'T Bavuma', 'bowler': 'PJ Cummins', 'non_striker': 'D Elgar', 'runs': {'batter': 0, 'extras': 0, 'total': 0}}, {'batter': 'T Bavuma', 'bowler': 'PJ Cummins', 'non_striker': 'D Elgar', 'runs': {'batter': 0, 'extras': 0, 'total': 0}}, {'batter': 'T Bavuma', 'bowler': 'PJ Cummins', 'non_striker': 'D Elgar', 'runs': {'batter': 0, 'extras': 0, 'total': 0}}]}, {'over': 22, 'deliveries': [{'batter': 'D Elgar', 'bowler': 'MA Starc', 'non_striker': 'T Bavuma', 'runs': {'batter': 0, 'extras': 0, 'total': 0}}, {'batter': 'D Elgar', 'bowler': 'MA Starc', 'non_striker': 'T Bavuma', 'runs': {'batter': 0, 'extras': 0, 'total': 0}}, {'batter': 'D Elgar', 'bowler': 'MA Starc', 'non_striker': 'T Bavuma', 'runs': {'batter': 0, 'extras': 0, 'total': 0}}, {'batter': 'D Elgar', 'bowler': 'MA Starc', 'non_striker': 'T Bavuma', 'runs': {'batter': 0, 'extras': 0, 'total': 0}}, {'batter': 'D Elgar', 'bowler': 'MA Starc', 'non_striker': 'T Bavuma', 'runs': {'batter': 0, 'extras': 0, 'total': 0}, 'wickets': [{'player_out': 'D Elgar', 'fielders': [{'name': 'M Labuschagne'}], 'kind': 'run out'}]}, {'batter': 'T Bavuma', 'bowler': 'MA Starc', 'non_striker': 'K Zondo', 'runs': {'batter': 0, 'extras': 0, 'total': 0}, 'wickets': [{'player_out': 'T Bavuma', 'fielders': [{'name': 'AT Carey'}], 'kind': 'caught'}]}]}, {'over': 23, 'deliveries': [{'batter': 'K Zondo', 'bowler': 'PJ Cummins', 'non_striker': 'K Verreynne', 'runs': {'batter': 0, 'extras': 0, 'total': 0}}, {'batter': 'K Zondo', 'bowler': 'PJ Cummins', 'non_striker': 'K Verreynne', 'runs': {'batter': 0, 'extras': 0, 'total': 0}}, {'batter': 'K Zondo', 'bowler': 'PJ Cummins', 'non_striker': 'K Verreynne', 'runs': {'batter': 0, 'extras': 0, 'total': 0}}, {'batter': 'K Zondo', 'bowler': 'PJ Cummins', 'non_striker': 'K Verreynne', 'runs': {'batter': 0, 'extras': 0, 'total': 0}}, {'batter': 'K Zondo', 'bowler': 'PJ Cummins', 'non_striker': 'K Verreynne', 'runs': {'batter': 0, 'extras': 0, 'total': 0}}, {'batter': 'K Zondo', 'bowler': 'PJ Cummins', 'non_striker': 'K Verreynne', 'runs': {'batter': 0, 'extras': 0, 'total': 0}}]}, {'over': 24, 'deliveries': [{'batter': 'K Verreynne', 'bowler': 'MA Starc', 'non_striker': 'K Zondo', 'runs': {'batter': 0, 'extras': 0, 'total': 0}}, {'batter': 'K Verreynne', 'bowler': 'MA Starc', 'non_striker': 'K Zondo', 'runs': {'batter': 0, 'extras': 0, 'total': 0}}, {'batter': 'K Verreynne', 'bowler': 'MA Starc', 'non_striker': 'K Zondo', 'runs': {'batter': 0, 'extras': 0, 'total': 0}}, {'batter': 'K Verreynne', 'bowler': 'MA Starc', 'non_striker': 'K Zondo', 'runs': {'batter': 0, 'extras': 0, 'total': 0}}, {'batter': 'K Verreynne', 'bowler': 'MA Starc', 'non_striker': 'K Zondo', 'runs': {'batter': 0, 'extras': 0, 'total': 0}}, {'batter': 'K Verreynne', 'bowler': 'MA Starc', 'non_striker': 'K Zondo', 'runs': {'batter': 4, 'extras': 0, 'total': 4}}]}, {'over': 25, 'deliveries': [{'batter': 'K Zondo', 'bowler': 'PJ Cummins', 'non_striker': 'K Verreynne', 'runs': {'batter': 0, 'extras': 0, 'total': 0}}, {'batter': 'K Zondo', 'bowler': 'PJ Cummins', 'non_striker': 'K Verreynne', 'runs': {'batter': 0, 'extras': 0, 'total': 0}}, {'batter': 'K Zondo', 'bowler': 'PJ Cummins', 'non_striker': 'K Verreynne', 'runs': {'batter': 2, 'extras': 0, 'total': 2}}, {'batter': 'K Zondo', 'bowler': 'PJ Cummins', 'non_striker': 'K Verreynne', 'runs': {'batter': 1, 'extras': 0, 'total': 1}}, {'batter': 'K Verreynne', 'bowler': 'PJ Cummins', 'non_striker': 'K Zondo', 'runs': {'batter': 0, 'extras': 0, 'total': 0}}, {'batter': 'K Verreynne', 'bowler': 'PJ Cummins', 'non_striker': 'K Zondo', 'runs': {'batter': 0, 'extras': 0, 'total': 0}}]}, {'over': 26, 'deliveries': [{'batter': 'K Zondo', 'bowler': 'MA Starc', 'non_striker': 'K Verreynne', 'runs': {'batter': 0, 'extras': 0, 'total': 0}}, {'batter': 'K Zondo', 'bowler': 'MA Starc', 'non_striker': 'K Verreynne', 'runs': {'batter': 0, 'extras': 0, 'total': 0}}, {'batter': 'K Zondo', 'bowler': 'MA Starc', 'non_striker': 'K Verreynne', 'runs': {'batter': 0, 'extras': 0, 'total': 0}}, {'batter': 'K Zondo', 'bowler': 'MA Starc', 'non_striker': 'K Verreynne', 'runs': {'batter': 0, 'extras': 0, 'total': 0}}, {'batter': 'K Zondo', 'bowler': 'MA Starc', 'non_striker': 'K Verreynne', 'runs': {'batter': 0, 'extras': 0, 'total': 0}}, {'batter': 'K Zondo', 'bowler': 'MA Starc', 'non_striker': 'K Verreynne', 'runs': {'batter': 0, 'extras': 0, 'total': 0}}]}, {'over': 27, 'deliveries': [{'batter': 'K Verreynne', 'bowler': 'PJ Cummins', 'non_striker': 'K Zondo', 'runs': {'batter': 0, 'extras': 0, 'total': 0}}, {'batter': 'K Verreynne', 'bowler': 'PJ Cummins', 'non_striker': 'K Zondo', 'runs': {'batter': 0, 'extras': 0, 'total': 0}}, {'batter': 'K Verreynne', 'bowler': 'PJ Cummins', 'non_striker': 'K Zondo', 'runs': {'batter': 0, 'extras': 0, 'total': 0}}, {'batter': 'K Verreynne', 'bowler': 'PJ Cummins', 'non_striker': 'K Zondo', 'runs': {'batter': 0, 'extras': 0, 'total': 0}}, {'batter': 'K Verreynne', 'bowler': 'PJ Cummins', 'non_striker': 'K Zondo', 'runs': {'batter': 0, 'extras': 0, 'total': 0}}, {'batter': 'K Verreynne', 'bowler': 'PJ Cummins', 'non_striker': 'K Zondo', 'runs': {'batter': 0, 'extras': 0, 'total': 0}}]}, {'over': 28, 'deliveries': [{'batter': 'K Zondo', 'bowler': 'MA Starc', 'non_striker': 'K Verreynne', 'runs': {'batter': 0, 'extras': 0, 'total': 0}}, {'batter': 'K Zondo', 'bowler': 'MA Starc', 'non_striker': 'K Verreynne', 'runs': {'batter': 2, 'extras': 0, 'total': 2}}, {'batter': 'K Zondo', 'bowler': 'MA Starc', 'non_striker': 'K Verreynne', 'runs': {'batter': 0, 'extras': 0, 'total': 0}, 'wickets': [{'player_out': 'K Zondo', 'fielders': [{'name': 'M Labuschagne'}], 'kind': 'caught'}]}, {'batter': 'M Jansen', 'bowler': 'MA Starc', 'non_striker': 'K Verreynne', 'runs': {'batter': 0, 'extras': 0, 'total': 0}}, {'batter': 'M Jansen', 'bowler': 'MA Starc', 'non_striker': 'K Verreynne', 'runs': {'batter': 2, 'extras': 0, 'total': 2}}, {'batter': 'M Jansen', 'bowler': 'MA Starc', 'non_striker': 'K Verreynne', 'runs': {'batter': 0, 'extras': 0, 'total': 0}}]}, {'over': 29, 'deliveries': [{'batter': 'K Verreynne', 'bowler': 'PJ Cummins', 'non_striker': 'M Jansen', 'runs': {'batter': 1, 'extras': 0, 'total': 1}}, {'batter': 'M Jansen', 'bowler': 'PJ Cummins', 'non_striker': 'K Verreynne', 'runs': {'batter': 0, 'extras': 0, 'total': 0}}, {'batter': 'M Jansen', 'bowler': 'PJ Cummins', 'non_striker': 'K Verreynne', 'runs': {'batter': 0, 'extras': 0, 'total': 0}}, {'batter': 'M Jansen', 'bowler': 'PJ Cummins', 'non_striker': 'K Verreynne', 'runs': {'batter': 0, 'extras': 0, 'total': 0}}, {'batter': 'M Jansen', 'bowler': 'PJ Cummins', 'non_striker': 'K Verreynne', 'runs': {'batter': 0, 'extras': 0, 'total': 0}}, {'batter': 'M Jansen', 'bowler': 'PJ Cummins', 'non_striker': 'K Verreynne', 'runs': {'batter': 0, 'extras': 0, 'total': 0}}]}, {'over': 30, 'deliveries': [{'batter': 'K Verreynne', 'bowler': 'MA Starc', 'non_striker': 'M Jansen', 'runs': {'batter': 0, 'extras': 0, 'total': 0}}, {'batter': 'K Verreynne', 'bowler': 'MA Starc', 'non_striker': 'M Jansen', 'runs': {'batter': 0, 'extras': 0, 'total': 0}}, {'batter': 'K Verreynne', 'bowler': 'MA Starc', 'non_striker': 'M Jansen', 'runs': {'batter': 2, 'extras': 0, 'total': 2}}, {'batter': 'K Verreynne', 'bowler': 'MA Starc', 'non_striker': 'M Jansen', 'runs': {'batter': 0, 'extras': 0, 'total': 0}}, {'batter': 'K Verreynne', 'bowler': 'MA Starc', 'non_striker': 'M Jansen', 'runs': {'batter': 0, 'extras': 0, 'total': 0}}, {'batter': 'K Verreynne', 'bowler': 'MA Starc', 'non_striker': 'M Jansen', 'runs': {'batter': 2, 'extras': 0, 'total': 2}}]}, {'over': 31, 'deliveries': [{'batter': 'M Jansen', 'bowler': 'PJ Cummins', 'non_striker': 'K Verreynne', 'runs': {'batter': 0, 'extras': 0, 'total': 0}}, {'batter': 'M Jansen', 'bowler': 'PJ Cummins', 'non_striker': 'K Verreynne', 'runs': {'batter': 0, 'extras': 0, 'total': 0}}, {'batter': 'M Jansen', 'bowler': 'PJ Cummins', 'non_striker': 'K Verreynne', 'runs': {'batter': 0, 'extras': 0, 'total': 0}}, {'batter': 'M Jansen', 'bowler': 'PJ Cummins', 'non_striker': 'K Verreynne', 'runs': {'batter': 0, 'extras': 0, 'total': 0}}, {'batter': 'M Jansen', 'bowler': 'PJ Cummins', 'non_striker': 'K Verreynne', 'runs': {'batter': 0, 'extras': 0, 'total': 0}}, {'batter': 'M Jansen', 'bowler': 'PJ Cummins', 'non_striker': 'K Verreynne', 'runs': {'batter': 1, 'extras': 0, 'total': 1}}]}, {'over': 32, 'deliveries': [{'batter': 'M Jansen', 'bowler': 'SM Boland', 'non_striker': 'K Verreynne', 'runs': {'batter': 0, 'extras': 0, 'total': 0}}, {'batter': 'M Jansen', 'bowler': 'SM Boland', 'extras': {'legbyes': 2}, 'non_striker': 'K Verreynne', 'runs': {'batter': 0, 'extras': 2, 'total': 2}}, {'batter': 'M Jansen', 'bowler': 'SM Boland', 'non_striker': 'K Verreynne', 'runs': {'batter': 0, 'extras': 0, 'total': 0}}, {'batter': 'M Jansen', 'bowler': 'SM Boland', 'non_striker': 'K Verreynne', 'runs': {'batter': 0, 'extras': 0, 'total': 0}}, {'batter': 'M Jansen', 'bowler': 'SM Boland', 'non_striker': 'K Verreynne', 'runs': {'batter': 0, 'extras': 0, 'total': 0}}, {'batter': 'M Jansen', 'bowler': 'SM Boland', 'non_striker': 'K Verreynne', 'runs': {'batter': 0, 'extras': 0, 'total': 0}}]}, {'over': 33, 'deliveries': [{'batter': 'K Verreynne', 'bowler': 'C Green', 'non_striker': 'M Jansen', 'runs': {'batter': 0, 'extras': 0, 'total': 0}}, {'batter': 'K Verreynne', 'bowler': 'C Green', 'non_striker': 'M Jansen', 'runs': {'batter': 1, 'extras': 0, 'total': 1}}, {'batter': 'M Jansen', 'bowler': 'C Green', 'non_striker': 'K Verreynne', 'runs': {'batter': 0, 'extras': 0, 'total': 0}}, {'batter': 'M Jansen', 'bowler': 'C Green', 'extras': {'legbyes': 1}, 'non_striker': 'K Verreynne', 'runs': {'batter': 0, 'extras': 1, 'total': 1}}, {'batter': 'K Verreynne', 'bowler': 'C Green', 'non_striker': 'M Jansen', 'runs': {'batter': 0, 'extras': 0, 'total': 0}}, {'batter': 'K Verreynne', 'bowler': 'C Green', 'non_striker': 'M Jansen', 'runs': {'batter': 4, 'extras': 0, 'total': 4}}]}, {'over': 34, 'deliveries': [{'batter': 'M Jansen', 'bowler': 'SM Boland', 'non_striker': 'K Verreynne', 'runs': {'batter': 2, 'extras': 0, 'total': 2}}, {'batter': 'M Jansen', 'bowler': 'SM Boland', 'non_striker': 'K Verreynne', 'runs': {'batter': 4, 'extras': 0, 'total': 4}}, {'batter': 'M Jansen', 'bowler': 'SM Boland', 'non_striker': 'K Verreynne', 'runs': {'batter': 0, 'extras': 0, 'total': 0}}, {'batter': 'M Jansen', 'bowler': 'SM Boland', 'non_striker': 'K Verreynne', 'runs': {'batter': 0, 'extras': 0, 'total': 0}}, {'batter': 'M Jansen', 'bowler': 'SM Boland', 'non_striker': 'K Verreynne', 'runs': {'batter': 0, 'extras': 0, 'total': 0}}, {'batter': 'M Jansen', 'bowler': 'SM Boland', 'non_striker': 'K Verreynne', 'runs': {'batter': 0, 'extras': 0, 'total': 0}}]}, {'over': 35, 'deliveries': [{'batter': 'K Verreynne', 'bowler': 'C Green', 'non_striker': 'M Jansen', 'runs': {'batter': 1, 'extras': 0, 'total': 1}}, {'batter': 'M Jansen', 'bowler': 'C Green', 'non_striker': 'K Verreynne', 'runs': {'batter': 0, 'extras': 0, 'total': 0}}, {'batter': 'M Jansen', 'bowler': 'C Green', 'non_striker': 'K Verreynne', 'runs': {'batter': 2, 'extras': 0, 'total': 2}}, {'batter': 'M Jansen', 'bowler': 'C Green', 'non_striker': 'K Verreynne', 'runs': {'batter': 0, 'extras': 0, 'total': 0}}, {'batter': 'M Jansen', 'bowler': 'C Green', 'non_striker': 'K Verreynne', 'runs': {'batter': 0, 'extras': 0, 'total': 0}}, {'batter': 'M Jansen', 'bowler': 'C Green', 'non_striker': 'K Verreynne', 'runs': {'batter': 0, 'extras': 0, 'total': 0}}]}, {'over': 36, 'deliveries': [{'batter': 'K Verreynne', 'bowler': 'SM Boland', 'non_striker': 'M Jansen', 'runs': {'batter': 1, 'extras': 0, 'total': 1}}, {'batter': 'M Jansen', 'bowler': 'SM Boland', 'non_striker': 'K Verreynne', 'runs': {'batter': 0, 'extras': 0, 'total': 0}}, {'batter': 'M Jansen', 'bowler': 'SM Boland', 'non_striker': 'K Verreynne', 'runs': {'batter': 0, 'extras': 0, 'total': 0}}, {'batter': 'M Jansen', 'bowler': 'SM Boland', 'non_striker': 'K Verreynne', 'runs': {'batter': 0, 'extras': 0, 'total': 0}}, {'batter': 'M Jansen', 'bowler': 'SM Boland', 'non_striker': 'K Verreynne', 'runs': {'batter': 0, 'extras': 0, 'total': 0}}, {'batter': 'M Jansen', 'bowler': 'SM Boland', 'non_striker': 'K Verreynne', 'runs': {'batter': 0, 'extras': 0, 'total': 0}}]}, {'over': 37, 'deliveries': [{'batter': 'K Verreynne', 'bowler': 'C Green', 'non_striker': 'M Jansen', 'runs': {'batter': 0, 'extras': 0, 'total': 0}}, {'batter': 'K Verreynne', 'bowler': 'C Green', 'non_striker': 'M Jansen', 'runs': {'batter': 0, 'extras': 0, 'total': 0}}, {'batter': 'K Verreynne', 'bowler': 'C Green', 'non_striker': 'M Jansen', 'runs': {'batter': 1, 'extras': 0, 'total': 1}}, {'batter': 'M Jansen', 'bowler': 'C Green', 'non_striker': 'K Verreynne', 'runs': {'batter': 0, 'extras': 0, 'total': 0}}, {'batter': 'M Jansen', 'bowler': 'C Green', 'non_striker': 'K Verreynne', 'runs': {'batter': 0, 'extras': 0, 'total': 0}}, {'batter': 'M Jansen', 'bowler': 'C Green', 'non_striker': 'K Verreynne', 'runs': {'batter': 0, 'extras': 0, 'total': 0}}]}, {'over': 38, 'deliveries': [{'batter': 'K Verreynne', 'bowler': 'SM Boland', 'non_striker': 'M Jansen', 'runs': {'batter': 1, 'extras': 0, 'total': 1}}, {'batter': 'M Jansen', 'bowler': 'SM Boland', 'non_striker': 'K Verreynne', 'runs': {'batter': 0, 'extras': 0, 'total': 0}}, {'batter': 'M Jansen', 'bowler': 'SM Boland', 'non_striker': 'K Verreynne', 'runs': {'batter': 0, 'extras': 0, 'total': 0}}, {'batter': 'M Jansen', 'bowler': 'SM Boland', 'non_striker': 'K Verreynne', 'runs': {'batter': 0, 'extras': 0, 'total': 0}}, {'batter': 'M Jansen', 'bowler': 'SM Boland', 'non_striker': 'K Verreynne', 'runs': {'batter': 0, 'extras': 0, 'total': 0}}, {'batter': 'M Jansen', 'bowler': 'SM Boland', 'non_striker': 'K Verreynne', 'runs': {'batter': 0, 'extras': 0, 'total': 0}}]}, {'over': 39, 'deliveries': [{'batter': 'K Verreynne', 'bowler': 'C Green', 'non_striker': 'M Jansen', 'runs': {'batter': 0, 'extras': 0, 'total': 0}}, {'batter': 'K Verreynne', 'bowler': 'C Green', 'non_striker': 'M Jansen', 'runs': {'batter': 0, 'extras': 0, 'total': 0}}, {'batter': 'K Verreynne', 'bowler': 'C Green', 'non_striker': 'M Jansen', 'runs': {'batter': 1, 'extras': 0, 'total': 1}}, {'batter': 'M Jansen', 'bowler': 'C Green', 'non_striker': 'K Verreynne', 'runs': {'batter': 0, 'extras': 0, 'total': 0}}, {'batter': 'M Jansen', 'bowler': 'C Green', 'non_striker': 'K Verreynne', 'runs': {'batter': 0, 'extras': 0, 'total': 0}}, {'batter': 'M Jansen', 'bowler': 'C Green', 'non_striker': 'K Verreynne', 'runs': {'batter': 0, 'extras': 0, 'total': 0}}]}, {'over': 40, 'deliveries': [{'batter': 'K Verreynne', 'bowler': 'MA Starc', 'non_striker': 'M Jansen', 'runs': {'batter': 1, 'extras': 0, 'total': 1}}, {'batter': 'M Jansen', 'bowler': 'MA Starc', 'non_striker': 'K Verreynne', 'runs': {'batter': 4, 'extras': 0, 'total': 4}}, {'batter': 'M Jansen', 'bowler': 'MA Starc', 'non_striker': 'K Verreynne', 'runs': {'batter': 0, 'extras': 0, 'total': 0}}, {'batter': 'M Jansen', 'bowler': 'MA Starc', 'non_striker': 'K Verreynne', 'runs': {'batter': 0, 'extras': 0, 'total': 0}}, {'batter': 'M Jansen', 'bowler': 'MA Starc', 'non_striker': 'K Verreynne', 'runs': {'batter': 0, 'extras': 0, 'total': 0}}, {'batter': 'M Jansen', 'bowler': 'MA Starc', 'non_striker': 'K Verreynne', 'runs': {'batter': 0, 'extras': 0, 'total': 0}}]}, {'over': 41, 'deliveries': [{'batter': 'K Verreynne', 'bowler': 'NM Lyon', 'non_striker': 'M Jansen', 'runs': {'batter': 0, 'extras': 0, 'total': 0}}, {'batter': 'K Verreynne', 'bowler': 'NM Lyon', 'non_striker': 'M Jansen', 'runs': {'batter': 1, 'extras': 0, 'total': 1}}, {'batter': 'M Jansen', 'bowler': 'NM Lyon', 'non_striker': 'K Verreynne', 'runs': {'batter': 0, 'extras': 0, 'total': 0}}, {'batter': 'M Jansen', 'bowler': 'NM Lyon', 'non_striker': 'K Verreynne', 'runs': {'batter': 0, 'extras': 0, 'total': 0}}, {'batter': 'M Jansen', 'bowler': 'NM Lyon', 'non_striker': 'K Verreynne', 'runs': {'batter': 0, 'extras': 0, 'total': 0}}, {'batter': 'M Jansen', 'bowler': 'NM Lyon', 'non_striker': 'K Verreynne', 'runs': {'batter': 0, 'extras': 0, 'total': 0}}]}, {'over': 42, 'deliveries': [{'batter': 'K Verreynne', 'bowler': 'MA Starc', 'non_striker': 'M Jansen', 'runs': {'batter': 3, 'extras': 0, 'total': 3}}, {'batter': 'M Jansen', 'bowler': 'MA Starc', 'non_striker': 'K Verreynne', 'runs': {'batter': 0, 'extras': 0, 'total': 0}}, {'batter': 'M Jansen', 'bowler': 'MA Starc', 'non_striker': 'K Verreynne', 'runs': {'batter': 0, 'extras': 0, 'total': 0}}, {'batter': 'M Jansen', 'bowler': 'MA Starc', 'non_striker': 'K Verreynne', 'runs': {'batter': 0, 'extras': 0, 'total': 0}}, {'batter': 'M Jansen', 'bowler': 'MA Starc', 'non_striker': 'K Verreynne', 'runs': {'batter': 0, 'extras': 0, 'total': 0}}, {'batter': 'M Jansen', 'bowler': 'MA Starc', 'non_striker': 'K Verreynne', 'runs': {'batter': 0, 'extras': 0, 'total': 0}}]}, {'over': 43, 'deliveries': [{'batter': 'K Verreynne', 'bowler': 'NM Lyon', 'non_striker': 'M Jansen', 'runs': {'batter': 0, 'extras': 0, 'total': 0}}, {'batter': 'K Verreynne', 'bowler': 'NM Lyon', 'non_striker': 'M Jansen', 'runs': {'batter': 4, 'extras': 0, 'total': 4}}, {'batter': 'K Verreynne', 'bowler': 'NM Lyon', 'non_striker': 'M Jansen', 'runs': {'batter': 1, 'extras': 0, 'total': 1}}, {'batter': 'M Jansen', 'bowler': 'NM Lyon', 'non_striker': 'K Verreynne', 'runs': {'batter': 1, 'extras': 0, 'total': 1}}, {'batter': 'K Verreynne', 'bowler': 'NM Lyon', 'non_striker': 'M Jansen', 'runs': {'batter': 0, 'extras': 0, 'total': 0}}, {'batter': 'K Verreynne', 'bowler': 'NM Lyon', 'non_striker': 'M Jansen', 'runs': {'batter': 0, 'extras': 0, 'total': 0}}]}, {'over': 44, 'deliveries': [{'batter': 'M Jansen', 'bowler': 'MA Starc', 'non_striker': 'K Verreynne', 'runs': {'batter': 0, 'extras': 0, 'total': 0}}, {'batter': 'M Jansen', 'bowler': 'MA Starc', 'non_striker': 'K Verreynne', 'runs': {'batter': 2, 'extras': 0, 'total': 2}}, {'batter': 'M Jansen', 'bowler': 'MA Starc', 'non_striker': 'K Verreynne', 'runs': {'batter': 0, 'extras': 0, 'total': 0}}, {'batter': 'M Jansen', 'bowler': 'MA Starc', 'non_striker': 'K Verreynne', 'runs': {'batter': 0, 'extras': 0, 'total': 0}}, {'batter': 'M Jansen', 'bowler': 'MA Starc', 'non_striker': 'K Verreynne', 'runs': {'batter': 0, 'extras': 0, 'total': 0}}, {'batter': 'M Jansen', 'bowler': 'MA Starc', 'non_striker': 'K Verreynne', 'runs': {'batter': 4, 'extras': 0, 'total': 4}}]}, {'over': 45, 'deliveries': [{'batter': 'K Verreynne', 'bowler': 'NM Lyon', 'non_striker': 'M Jansen', 'runs': {'batter': 0, 'extras': 0, 'total': 0}}, {'batter': 'K Verreynne', 'bowler': 'NM Lyon', 'non_striker': 'M Jansen', 'runs': {'batter': 0, 'extras': 0, 'total': 0}}, {'batter': 'K Verreynne', 'bowler': 'NM Lyon', 'non_striker': 'M Jansen', 'runs': {'batter': 1, 'extras': 0, 'total': 1}}, {'batter': 'M Jansen', 'bowler': 'NM Lyon', 'non_striker': 'K Verreynne', 'runs': {'batter': 0, 'extras': 0, 'total': 0}}, {'batter': 'M Jansen', 'bowler': 'NM Lyon', 'non_striker': 'K Verreynne', 'runs': {'batter': 4, 'extras': 0, 'total': 4}}, {'batter': 'M Jansen', 'bowler': 'NM Lyon', 'non_striker': 'K Verreynne', 'runs': {'batter': 4, 'extras': 0, 'total': 4}}]}, {'over': 46, 'deliveries': [{'batter': 'K Verreynne', 'bowler': 'PJ Cummins', 'non_striker': 'M Jansen', 'runs': {'batter': 1, 'extras': 0, 'total': 1}}, {'batter': 'M Jansen', 'bowler': 'PJ Cummins', 'non_striker': 'K Verreynne', 'runs': {'batter': 0, 'extras': 0, 'total': 0}}, {'batter': 'M Jansen', 'bowler': 'PJ Cummins', 'non_striker': 'K Verreynne', 'runs': {'batter': 1, 'extras': 0, 'total': 1}}, {'batter': 'K Verreynne', 'bowler': 'PJ Cummins', 'non_striker': 'M Jansen', 'runs': {'batter': 1, 'extras': 0, 'total': 1}}, {'batter': 'M Jansen', 'bowler': 'PJ Cummins', 'non_striker': 'K Verreynne', 'runs': {'batter': 0, 'extras': 0, 'total': 0}}, {'batter': 'M Jansen', 'bowler': 'PJ Cummins', 'non_striker': 'K Verreynne', 'runs': {'batter': 0, 'extras': 0, 'total': 0}}]}, {'over': 47, 'deliveries': [{'batter': 'K Verreynne', 'bowler': 'NM Lyon', 'non_striker': 'M Jansen', 'runs': {'batter': 1, 'extras': 0, 'total': 1}}, {'batter': 'M Jansen', 'bowler': 'NM Lyon', 'non_striker': 'K Verreynne', 'runs': {'batter': 0, 'extras': 0, 'total': 0}}, {'batter': 'M Jansen', 'bowler': 'NM Lyon', 'non_striker': 'K Verreynne', 'runs': {'batter': 0, 'extras': 0, 'total': 0}}, {'batter': 'M Jansen', 'bowler': 'NM Lyon', 'non_striker': 'K Verreynne', 'runs': {'batter': 0, 'extras': 0, 'total': 0}}, {'batter': 'M Jansen', 'bowler': 'NM Lyon', 'non_striker': 'K Verreynne', 'runs': {'batter': 0, 'extras': 0, 'total': 0}}, {'batter': 'M Jansen', 'bowler': 'NM Lyon', 'non_striker': 'K Verreynne', 'runs': {'batter': 0, 'extras': 0, 'total': 0}}]}, {'over': 48, 'deliveries': [{'batter': 'K Verreynne', 'bowler': 'PJ Cummins', 'non_striker': 'M Jansen', 'runs': {'batter': 1, 'extras': 0, 'total': 1}}, {'batter': 'M Jansen', 'bowler': 'PJ Cummins', 'non_striker': 'K Verreynne', 'runs': {'batter': 0, 'extras': 0, 'total': 0}}, {'batter': 'M Jansen', 'bowler': 'PJ Cummins', 'non_striker': 'K Verreynne', 'runs': {'batter': 0, 'extras': 0, 'total': 0}}, {'batter': 'M Jansen', 'bowler': 'PJ Cummins', 'non_striker': 'K Verreynne', 'runs': {'batter': 0, 'extras': 0, 'total': 0}}, {'batter': 'M Jansen', 'bowler': 'PJ Cummins', 'non_striker': 'K Verreynne', 'runs': {'batter': 0, 'extras': 0, 'total': 0}}, {'batter': 'M Jansen', 'bowler': 'PJ Cummins', 'non_striker': 'K Verreynne', 'runs': {'batter': 0, 'extras': 0, 'total': 0}}]}, {'over': 49, 'deliveries': [{'batter': 'K Verreynne', 'bowler': 'NM Lyon', 'non_striker': 'M Jansen', 'runs': {'batter': 0, 'extras': 0, 'total': 0}}, {'batter': 'K Verreynne', 'bowler': 'NM Lyon', 'non_striker': 'M Jansen', 'runs': {'batter': 1, 'extras': 0, 'total': 1}}, {'batter': 'M Jansen', 'bowler': 'NM Lyon', 'non_striker': 'K Verreynne', 'runs': {'batter': 1, 'extras': 0, 'total': 1}}, {'batter': 'K Verreynne', 'bowler': 'NM Lyon', 'non_striker': 'M Jansen', 'runs': {'batter': 1, 'extras': 0, 'total': 1}}, {'batter': 'M Jansen', 'bowler': 'NM Lyon', 'non_striker': 'K Verreynne', 'runs': {'batter': 1, 'extras': 0, 'total': 1}}, {'batter': 'K Verreynne', 'bowler': 'NM Lyon', 'non_striker': 'M Jansen', 'runs': {'batter': 3, 'extras': 0, 'total': 3}}]}, {'over': 50, 'deliveries': [{'batter': 'K Verreynne', 'bowler': 'PJ Cummins', 'non_striker': 'M Jansen', 'runs': {'batter': 1, 'extras': 0, 'total': 1}}, {'batter': 'M Jansen', 'bowler': 'PJ Cummins', 'non_striker': 'K Verreynne', 'runs': {'batter': 0, 'extras': 0, 'total': 0}}, {'batter': 'M Jansen', 'bowler': 'PJ Cummins', 'non_striker': 'K Verreynne', 'runs': {'batter': 0, 'extras': 0, 'total': 0}}, {'batter': 'M Jansen', 'bowler': 'PJ Cummins', 'non_striker': 'K Verreynne', 'runs': {'batter': 4, 'extras': 0, 'total': 4}}, {'batter': 'M Jansen', 'bowler': 'PJ Cummins', 'non_striker': 'K Verreynne', 'runs': {'batter': 1, 'extras': 0, 'total': 1}}, {'batter': 'K Verreynne', 'bowler': 'PJ Cummins', 'non_striker': 'M Jansen', 'runs': {'batter': 0, 'extras': 0, 'total': 0}}]}, {'over': 51, 'deliveries': [{'batter': 'M Jansen', 'bowler': 'NM Lyon', 'non_striker': 'K Verreynne', 'runs': {'batter': 4, 'extras': 0, 'total': 4}}, {'batter': 'M Jansen', 'bowler': 'NM Lyon', 'non_striker': 'K Verreynne', 'runs': {'batter': 0, 'extras': 0, 'total': 0}}, {'batter': 'M Jansen', 'bowler': 'NM Lyon', 'non_striker': 'K Verreynne', 'runs': {'batter': 0, 'extras': 0, 'total': 0}}, {'batter': 'M Jansen', 'bowler': 'NM Lyon', 'non_striker': 'K Verreynne', 'runs': {'batter': 0, 'extras': 0, 'total': 0}}, {'batter': 'M Jansen', 'bowler': 'NM Lyon', 'non_striker': 'K Verreynne', 'runs': {'batter': 0, 'extras': 0, 'total': 0}}, {'batter': 'M Jansen', 'bowler': 'NM Lyon', 'non_striker': 'K Verreynne', 'runs': {'batter': 0, 'extras': 0, 'total': 0}}]}, {'over': 52, 'deliveries': [{'batter': 'K Verreynne', 'bowler': 'SM Boland', 'non_striker': 'M Jansen', 'runs': {'batter': 2, 'extras': 0, 'total': 2}}, {'batter': 'K Verreynne', 'bowler': 'SM Boland', 'non_striker': 'M Jansen', 'runs': {'batter': 0, 'extras': 0, 'total': 0}}, {'batter': 'K Verreynne', 'bowler': 'SM Boland', 'non_striker': 'M Jansen', 'review': {'by': 'Australia', 'umpire': 'RA Kettleborough', 'batter': 'K Verreynne', 'decision': 'struck down'}, 'runs': {'batter': 0, 'extras': 0, 'total': 0}}, {'batter': 'K Verreynne', 'bowler': 'SM Boland', 'non_striker': 'M Jansen', 'runs': {'batter': 0, 'extras': 0, 'total': 0}}, {'batter': 'K Verreynne', 'bowler': 'SM Boland', 'non_striker': 'M Jansen', 'runs': {'batter': 0, 'extras': 0, 'total': 0}}, {'batter': 'K Verreynne', 'bowler': 'SM Boland', 'non_striker': 'M Jansen', 'runs': {'batter': 0, 'extras': 0, 'total': 0}}]}, {'over': 53, 'deliveries': [{'batter': 'M Jansen', 'bowler': 'NM Lyon', 'non_striker': 'K Verreynne', 'runs': {'batter': 0, 'extras': 0, 'total': 0}}, {'batter': 'M Jansen', 'bowler': 'NM Lyon', 'non_striker': 'K Verreynne', 'runs': {'batter': 0, 'extras': 0, 'total': 0}}, {'batter': 'M Jansen', 'bowler': 'NM Lyon', 'non_striker': 'K Verreynne', 'runs': {'batter': 1, 'extras': 0, 'total': 1}}, {'batter': 'K Verreynne', 'bowler': 'NM Lyon', 'non_striker': 'M Jansen', 'runs': {'batter': 0, 'extras': 0, 'total': 0}}, {'batter': 'K Verreynne', 'bowler': 'NM Lyon', 'non_striker': 'M Jansen', 'runs': {'batter': 0, 'extras': 0, 'total': 0}}, {'batter': 'K Verreynne', 'bowler': 'NM Lyon', 'non_striker': 'M Jansen', 'runs': {'batter': 0, 'extras': 0, 'total': 0}}]}, {'over': 54, 'deliveries': [{'batter': 'M Jansen', 'bowler': 'SM Boland', 'non_striker': 'K Verreynne', 'runs': {'batter': 0, 'extras': 0, 'total': 0}}, {'batter': 'M Jansen', 'bowler': 'SM Boland', 'non_striker': 'K Verreynne', 'runs': {'batter': 0, 'extras': 0, 'total': 0}}, {'batter': 'M Jansen', 'bowler': 'SM Boland', 'non_striker': 'K Verreynne', 'runs': {'batter': 0, 'extras': 0, 'total': 0}}, {'batter': 'M Jansen', 'bowler': 'SM Boland', 'non_striker': 'K Verreynne', 'runs': {'batter': 1, 'extras': 0, 'total': 1}}, {'batter': 'K Verreynne', 'bowler': 'SM Boland', 'non_striker': 'M Jansen', 'runs': {'batter': 0, 'extras': 0, 'total': 0}}, {'batter': 'K Verreynne', 'bowler': 'SM Boland', 'non_striker': 'M Jansen', 'runs': {'batter': 0, 'extras': 0, 'total': 0}}]}, {'over': 55, 'deliveries': [{'batter': 'M Jansen', 'bowler': 'NM Lyon', 'non_striker': 'K Verreynne', 'runs': {'batter': 1, 'extras': 0, 'total': 1}}, {'batter': 'K Verreynne', 'bowler': 'NM Lyon', 'non_striker': 'M Jansen', 'runs': {'batter': 0, 'extras': 0, 'total': 0}}, {'batter': 'K Verreynne', 'bowler': 'NM Lyon', 'non_striker': 'M Jansen', 'runs': {'batter': 1, 'extras': 0, 'total': 1}}, {'batter': 'M Jansen', 'bowler': 'NM Lyon', 'non_striker': 'K Verreynne', 'runs': {'batter': 0, 'extras': 0, 'total': 0}}, {'batter': 'M Jansen', 'bowler': 'NM Lyon', 'non_striker': 'K Verreynne', 'runs': {'batter': 0, 'extras': 0, 'total': 0}}, {'batter': 'M Jansen', 'bowler': 'NM Lyon', 'non_striker': 'K Verreynne', 'runs': {'batter': 0, 'extras': 0, 'total': 0}}]}, {'over': 56, 'deliveries': [{'batter': 'K Verreynne', 'bowler': 'SM Boland', 'non_striker': 'M Jansen', 'runs': {'batter': 2, 'extras': 0, 'total': 2}}, {'batter': 'K Verreynne', 'bowler': 'SM Boland', 'extras': {'noballs': 1}, 'non_striker': 'M Jansen', 'runs': {'batter': 1, 'extras': 1, 'total': 2}}, {'batter': 'M Jansen', 'bowler': 'SM Boland', 'non_striker': 'K Verreynne', 'runs': {'batter': 0, 'extras': 0, 'total': 0}}, {'batter': 'M Jansen', 'bowler': 'SM Boland', 'non_striker': 'K Verreynne', 'runs': {'batter': 0, 'extras': 0, 'total': 0}}, {'batter': 'M Jansen', 'bowler': 'SM Boland', 'non_striker': 'K Verreynne', 'runs': {'batter': 0, 'extras': 0, 'total': 0}}, {'batter': 'M Jansen', 'bowler': 'SM Boland', 'non_striker': 'K Verreynne', 'runs': {'batter': 1, 'extras': 0, 'total': 1}}, {'batter': 'K Verreynne', 'bowler': 'SM Boland', 'non_striker': 'M Jansen', 'runs': {'batter': 0, 'extras': 0, 'total': 0}}]}, {'over': 57, 'deliveries': [{'batter': 'M Jansen', 'bowler': 'NM Lyon', 'non_striker': 'K Verreynne', 'runs': {'batter': 0, 'extras': 0, 'total': 0}}, {'batter': 'M Jansen', 'bowler': 'NM Lyon', 'non_striker': 'K Verreynne', 'runs': {'batter': 0, 'extras': 0, 'total': 0}}, {'batter': 'M Jansen', 'bowler': 'NM Lyon', 'non_striker': 'K Verreynne', 'runs': {'batter': 0, 'extras': 0, 'total': 0}}, {'batter': 'M Jansen', 'bowler': 'NM Lyon', 'non_striker': 'K Verreynne', 'runs': {'batter': 4, 'extras': 0, 'total': 4}}, {'batter': 'M Jansen', 'bowler': 'NM Lyon', 'non_striker': 'K Verreynne', 'runs': {'batter': 0, 'extras': 0, 'total': 0}}, {'batter': 'M Jansen', 'bowler': 'NM Lyon', 'non_striker': 'K Verreynne', 'runs': {'batter': 4, 'extras': 0, 'total': 4}}]}, {'over': 58, 'deliveries': [{'batter': 'K Verreynne', 'bowler': 'SM Boland', 'non_striker': 'M Jansen', 'runs': {'batter': 0, 'extras': 0, 'total': 0}}, {'batter': 'K Verreynne', 'bowler': 'SM Boland', 'non_striker': 'M Jansen', 'runs': {'batter': 0, 'extras': 0, 'total': 0}}, {'batter': 'K Verreynne', 'bowler': 'SM Boland', 'non_striker': 'M Jansen', 'runs': {'batter': 0, 'extras': 0, 'total': 0}}, {'batter': 'K Verreynne', 'bowler': 'SM Boland', 'non_striker': 'M Jansen', 'runs': {'batter': 0, 'extras': 0, 'total': 0}}, {'batter': 'K Verreynne', 'bowler': 'SM Boland', 'non_striker': 'M Jansen', 'runs': {'batter': 0, 'extras': 0, 'total': 0}}, {'batter': 'K Verreynne', 'bowler': 'SM Boland', 'non_striker': 'M Jansen', 'runs': {'batter': 3, 'extras': 0, 'total': 3}}]}, {'over': 59, 'deliveries': [{'batter': 'K Verreynne', 'bowler': 'NM Lyon', 'non_striker': 'M Jansen', 'runs': {'batter': 0, 'extras': 0, 'total': 0}}, {'batter': 'K Verreynne', 'bowler': 'NM Lyon', 'non_striker': 'M Jansen', 'runs': {'batter': 1, 'extras': 0, 'total': 1}}, {'batter': 'M Jansen', 'bowler': 'NM Lyon', 'non_striker': 'K Verreynne', 'runs': {'batter': 4, 'extras': 0, 'total': 4}}, {'batter': 'M Jansen', 'bowler': 'NM Lyon', 'non_striker': 'K Verreynne', 'runs': {'batter': 0, 'extras': 0, 'total': 0}}, {'batter': 'M Jansen', 'bowler': 'NM Lyon', 'non_striker': 'K Verreynne', 'runs': {'batter': 0, 'extras': 0, 'total': 0}}, {'batter': 'M Jansen', 'bowler': 'NM Lyon', 'non_striker': 'K Verreynne', 'runs': {'batter': 0, 'extras': 0, 'total': 0}}]}, {'over': 60, 'deliveries': [{'batter': 'K Verreynne', 'bowler': 'C Green', 'non_striker': 'M Jansen', 'runs': {'batter': 0, 'extras': 0, 'total': 0}}, {'batter': 'K Verreynne', 'bowler': 'C Green', 'non_striker': 'M Jansen', 'runs': {'batter': 0, 'extras': 0, 'total': 0}}, {'batter': 'K Verreynne', 'bowler': 'C Green', 'non_striker': 'M Jansen', 'runs': {'batter': 0, 'extras': 0, 'total': 0}}, {'batter': 'K Verreynne', 'bowler': 'C Green', 'non_striker': 'M Jansen', 'runs': {'batter': 0, 'extras': 0, 'total': 0}}, {'batter': 'K Verreynne', 'bowler': 'C Green', 'non_striker': 'M Jansen', 'runs': {'batter': 0, 'extras': 0, 'total': 0}}, {'batter': 'K Verreynne', 'bowler': 'C Green', 'non_striker': 'M Jansen', 'runs': {'batter': 0, 'extras': 0, 'total': 0}}]}, {'over': 61, 'deliveries': [{'batter': 'M Jansen', 'bowler': 'NM Lyon', 'non_striker': 'K Verreynne', 'runs': {'batter': 0, 'extras': 0, 'total': 0}}, {'batter': 'M Jansen', 'bowler': 'NM Lyon', 'non_striker': 'K Verreynne', 'runs': {'batter': 0, 'extras': 0, 'total': 0}}, {'batter': 'M Jansen', 'bowler': 'NM Lyon', 'non_striker': 'K Verreynne', 'runs': {'batter': 0, 'extras': 0, 'total': 0}}, {'batter': 'M Jansen', 'bowler': 'NM Lyon', 'non_striker': 'K Verreynne', 'runs': {'batter': 0, 'extras': 0, 'total': 0}}, {'batter': 'M Jansen', 'bowler': 'NM Lyon', 'non_striker': 'K Verreynne', 'runs': {'batter': 0, 'extras': 0, 'total': 0}}, {'batter': 'M Jansen', 'bowler': 'NM Lyon', 'non_striker': 'K Verreynne', 'runs': {'batter': 0, 'extras': 0, 'total': 0}}]}, {'over': 62, 'deliveries': [{'batter': 'K Verreynne', 'bowler': 'C Green', 'non_striker': 'M Jansen', 'runs': {'batter': 0, 'extras': 0, 'total': 0}}, {'batter': 'K Verreynne', 'bowler': 'C Green', 'non_striker': 'M Jansen', 'runs': {'batter': 0, 'extras': 0, 'total': 0}}, {'batter': 'K Verreynne', 'bowler': 'C Green', 'non_striker': 'M Jansen', 'runs': {'batter': 1, 'extras': 0, 'total': 1}}, {'batter': 'M Jansen', 'bowler': 'C Green', 'non_striker': 'K Verreynne', 'runs': {'batter': 0, 'extras': 0, 'total': 0}}, {'batter': 'M Jansen', 'bowler': 'C Green', 'non_striker': 'K Verreynne', 'runs': {'batter': 0, 'extras': 0, 'total': 0}}, {'batter': 'M Jansen', 'bowler': 'C Green', 'extras': {'byes': 2}, 'non_striker': 'K Verreynne', 'runs': {'batter': 0, 'extras': 2, 'total': 2}}]}, {'over': 63, 'deliveries': [{'batter': 'K Verreynne', 'bowler': 'NM Lyon', 'non_striker': 'M Jansen', 'runs': {'batter': 0, 'extras': 0, 'total': 0}}, {'batter': 'K Verreynne', 'bowler': 'NM Lyon', 'non_striker': 'M Jansen', 'runs': {'batter': 0, 'extras': 0, 'total': 0}}, {'batter': 'K Verreynne', 'bowler': 'NM Lyon', 'non_striker': 'M Jansen', 'runs': {'batter': 0, 'extras': 0, 'total': 0}}, {'batter': 'K Verreynne', 'bowler': 'NM Lyon', 'non_striker': 'M Jansen', 'runs': {'batter': 0, 'extras': 0, 'total': 0}}, {'batter': 'K Verreynne', 'bowler': 'NM Lyon', 'non_striker': 'M Jansen', 'runs': {'batter': 1, 'extras': 0, 'total': 1}}, {'batter': 'M Jansen', 'bowler': 'NM Lyon', 'non_striker': 'K Verreynne', 'runs': {'batter': 0, 'extras': 0, 'total': 0}}]}, {'over': 64, 'deliveries': [{'batter': 'K Verreynne', 'bowler': 'C Green', 'non_striker': 'M Jansen', 'runs': {'batter': 0, 'extras': 0, 'total': 0}}, {'batter': 'K Verreynne', 'bowler': 'C Green', 'non_striker': 'M Jansen', 'runs': {'batter': 0, 'extras': 0, 'total': 0}}, {'batter': 'K Verreynne', 'bowler': 'C Green', 'non_striker': 'M Jansen', 'runs': {'batter': 0, 'extras': 0, 'total': 0}}, {'batter': 'K Verreynne', 'bowler': 'C Green', 'non_striker': 'M Jansen', 'runs': {'batter': 0, 'extras': 0, 'total': 0}}, {'batter': 'K Verreynne', 'bowler': 'C Green', 'non_striker': 'M Jansen', 'runs': {'batter': 0, 'extras': 0, 'total': 0}, 'wickets': [{'player_out': 'K Verreynne', 'fielders': [{'name': 'SPD Smith'}], 'kind': 'caught'}]}, {'batter': 'KA Maharaj', 'bowler': 'C Green', 'non_striker': 'M Jansen', 'runs': {'batter': 0, 'extras': 0, 'total': 0}}]}, {'over': 65, 'deliveries': [{'batter': 'M Jansen', 'bowler': 'NM Lyon', 'non_striker': 'KA Maharaj', 'runs': {'batter': 1, 'extras': 0, 'total': 1}}, {'batter': 'KA Maharaj', 'bowler': 'NM Lyon', 'non_striker': 'M Jansen', 'runs': {'batter': 0, 'extras': 0, 'total': 0}}, {'batter': 'KA Maharaj', 'bowler': 'NM Lyon', 'non_striker': 'M Jansen', 'runs': {'batter': 0, 'extras': 0, 'total': 0}}, {'batter': 'KA Maharaj', 'bowler': 'NM Lyon', 'non_striker': 'M Jansen', 'runs': {'batter': 0, 'extras': 0, 'total': 0}}, {'batter': 'KA Maharaj', 'bowler': 'NM Lyon', 'non_striker': 'M Jansen', 'runs': {'batter': 0, 'extras': 0, 'total': 0}}, {'batter': 'KA Maharaj', 'bowler': 'NM Lyon', 'non_striker': 'M Jansen', 'runs': {'batter': 2, 'extras': 0, 'total': 2}}]}, {'over': 66, 'deliveries': [{'batter': 'M Jansen', 'bowler': 'C Green', 'non_striker': 'KA Maharaj', 'runs': {'batter': 0, 'extras': 0, 'total': 0}, 'wickets': [{'player_out': 'M Jansen', 'fielders': [{'name': 'AT Carey'}], 'kind': 'caught'}]}, {'batter': 'K Rabada', 'bowler': 'C Green', 'non_striker': 'KA Maharaj', 'runs': {'batter': 0, 'extras': 0, 'total': 0}}, {'batter': 'K Rabada', 'bowler': 'C Green', 'non_striker': 'KA Maharaj', 'runs': {'batter': 4, 'extras': 0, 'total': 4}}, {'batter': 'K Rabada', 'bowler': 'C Green', 'non_striker': 'KA Maharaj', 'runs': {'batter': 0, 'extras': 0, 'total': 0}}, {'batter': 'K Rabada', 'bowler': 'C Green', 'non_striker': 'KA Maharaj', 'runs': {'batter': 0, 'extras': 0, 'total': 0}}, {'batter': 'K Rabada', 'bowler': 'C Green', 'non_striker': 'KA Maharaj', 'runs': {'batter': 0, 'extras': 0, 'total': 0}, 'wickets': [{'player_out': 'K Rabada', 'kind': 'bowled'}]}]}, {'over': 67, 'deliveries': [{'batter': 'KA Maharaj', 'bowler': 'NM Lyon', 'non_striker': 'A Nortje', 'runs': {'batter': 0, 'extras': 0, 'total': 0}}, {'batter': 'KA Maharaj', 'bowler': 'NM Lyon', 'non_striker': 'A Nortje', 'runs': {'batter': 0, 'extras': 0, 'total': 0}}, {'batter': 'KA Maharaj', 'bowler': 'NM Lyon', 'non_striker': 'A Nortje', 'runs': {'batter': 0, 'extras': 0, 'total': 0}, 'wickets': [{'player_out': 'KA Maharaj', 'fielders': [{'name': 'PJ Cummins'}], 'kind': 'caught'}]}, {'batter': 'L Ngidi', 'bowler': 'NM Lyon', 'non_striker': 'A Nortje', 'runs': {'batter': 0, 'extras': 0, 'total': 0}}, {'batter': 'L Ngidi', 'bowler': 'NM Lyon', 'non_striker': 'A Nortje', 'runs': {'batter': 0, 'extras': 0, 'total': 0}}, {'batter': 'L Ngidi', 'bowler': 'NM Lyon', 'non_striker': 'A Nortje', 'runs': {'batter': 0, 'extras': 0, 'total': 0}}]}, {'over': 68, 'deliveries': [{'batter': 'A Nortje', 'bowler': 'C Green', 'non_striker': 'L Ngidi', 'runs': {'batter': 1, 'extras': 0, 'total': 1}}, {'batter': 'L Ngidi', 'bowler': 'C Green', 'non_striker': 'A Nortje', 'runs': {'batter': 0, 'extras': 0, 'total': 0}}, {'batter': 'L Ngidi', 'bowler': 'C Green', 'non_striker': 'A Nortje', 'runs': {'batter': 2, 'extras': 0, 'total': 2}}, {'batter': 'L Ngidi', 'bowler': 'C Green', 'non_striker': 'A Nortje', 'runs': {'batter': 0, 'extras': 0, 'total': 0}, 'wickets': [{'player_out': 'L Ngidi', 'kind': 'bowled'}]}]}]}, {'team': 'Australia', 'overs': [{'over': 0, 'deliveries': [{'batter': 'DA Warner', 'bowler': 'K Rabada', 'non_striker': 'UT Khawaja', 'runs': {'batter': 0, 'extras': 0, 'total': 0}}, {'batter': 'DA Warner', 'bowler': 'K Rabada', 'non_striker': 'UT Khawaja', 'runs': {'batter': 0, 'extras': 0, 'total': 0}}, {'batter': 'DA Warner', 'bowler': 'K Rabada', 'non_striker': 'UT Khawaja', 'runs': {'batter': 0, 'extras': 0, 'total': 0}}, {'batter': 'DA Warner', 'bowler': 'K Rabada', 'non_striker': 'UT Khawaja', 'runs': {'batter': 0, 'extras': 0, 'total': 0}}, {'batter': 'DA Warner', 'bowler': 'K Rabada', 'non_striker': 'UT Khawaja', 'runs': {'batter': 0, 'extras': 0, 'total': 0}}, {'batter': 'DA Warner', 'bowler': 'K Rabada', 'non_striker': 'UT Khawaja', 'runs': {'batter': 0, 'extras': 0, 'total': 0}}]}, {'over': 1, 'deliveries': [{'batter': 'UT Khawaja', 'bowler': 'L Ngidi', 'non_striker': 'DA Warner', 'runs': {'batter': 0, 'extras': 0, 'total': 0}}, {'batter': 'UT Khawaja', 'bowler': 'L Ngidi', 'non_striker': 'DA Warner', 'runs': {'batter': 0, 'extras': 0, 'total': 0}}, {'batter': 'UT Khawaja', 'bowler': 'L Ngidi', 'non_striker': 'DA Warner', 'runs': {'batter': 0, 'extras': 0, 'total': 0}}, {'batter': 'UT Khawaja', 'bowler': 'L Ngidi', 'non_striker': 'DA Warner', 'runs': {'batter': 0, 'extras': 0, 'total': 0}}, {'batter': 'UT Khawaja', 'bowler': 'L Ngidi', 'non_striker': 'DA Warner', 'runs': {'batter': 0, 'extras': 0, 'total': 0}}, {'batter': 'UT Khawaja', 'bowler': 'L Ngidi', 'non_striker': 'DA Warner', 'runs': {'batter': 0, 'extras': 0, 'total': 0}}]}, {'over': 2, 'deliveries': [{'batter': 'DA Warner', 'bowler': 'K Rabada', 'non_striker': 'UT Khawaja', 'runs': {'batter': 4, 'extras': 0, 'total': 4}}, {'batter': 'DA Warner', 'bowler': 'K Rabada', 'non_striker': 'UT Khawaja', 'runs': {'batter': 0, 'extras': 0, 'total': 0}}, {'batter': 'DA Warner', 'bowler': 'K Rabada', 'non_striker': 'UT Khawaja', 'runs': {'batter': 0, 'extras': 0, 'total': 0}}, {'batter': 'DA Warner', 'bowler': 'K Rabada', 'non_striker': 'UT Khawaja', 'runs': {'batter': 0, 'extras': 0, 'total': 0}}, {'batter': 'DA Warner', 'bowler': 'K Rabada', 'non_striker': 'UT Khawaja', 'runs': {'batter': 0, 'extras': 0, 'total': 0}}, {'batter': 'DA Warner', 'bowler': 'K Rabada', 'non_striker': 'UT Khawaja', 'runs': {'batter': 3, 'extras': 0, 'total': 3}}]}, {'over': 3, 'deliveries': [{'batter': 'DA Warner', 'bowler': 'L Ngidi', 'non_striker': 'UT Khawaja', 'runs': {'batter': 0, 'extras': 0, 'total': 0}}, {'batter': 'DA Warner', 'bowler': 'L Ngidi', 'non_striker': 'UT Khawaja', 'runs': {'batter': 0, 'extras': 0, 'total': 0}}, {'batter': 'DA Warner', 'bowler': 'L Ngidi', 'non_striker': 'UT Khawaja', 'runs': {'batter': 1, 'extras': 0, 'total': 1}}, {'batter': 'UT Khawaja', 'bowler': 'L Ngidi', 'non_striker': 'DA Warner', 'runs': {'batter': 0, 'extras': 0, 'total': 0}}, {'batter': 'UT Khawaja', 'bowler': 'L Ngidi', 'non_striker': 'DA Warner', 'runs': {'batter': 0, 'extras': 0, 'total': 0}}, {'batter': 'UT Khawaja', 'bowler': 'L Ngidi', 'non_striker': 'DA Warner', 'runs': {'batter': 0, 'extras': 0, 'total': 0}}]}, {'over': 4, 'deliveries': [{'batter': 'DA Warner', 'bowler': 'K Rabada', 'non_striker': 'UT Khawaja', 'runs': {'batter': 0, 'extras': 0, 'total': 0}}, {'batter': 'DA Warner', 'bowler': 'K Rabada', 'non_striker': 'UT Khawaja', 'runs': {'batter': 2, 'extras': 0, 'total': 2}}, {'batter': 'DA Warner', 'bowler': 'K Rabada', 'non_striker': 'UT Khawaja', 'runs': {'batter': 0, 'extras': 0, 'total': 0}}, {'batter': 'DA Warner', 'bowler': 'K Rabada', 'non_striker': 'UT Khawaja', 'runs': {'batter': 0, 'extras': 0, 'total': 0}}, {'batter': 'DA Warner', 'bowler': 'K Rabada', 'non_striker': 'UT Khawaja', 'runs': {'batter': 4, 'extras': 0, 'total': 4}}, {'batter': 'DA Warner', 'bowler': 'K Rabada', 'non_striker': 'UT Khawaja', 'runs': {'batter': 3, 'extras': 0, 'total': 3}}]}, {'over': 5, 'deliveries': [{'batter': 'DA Warner', 'bowler': 'L Ngidi', 'non_striker': 'UT Khawaja', 'runs': {'batter': 0, 'extras': 0, 'total': 0}}, {'batter': 'DA Warner', 'bowler': 'L Ngidi', 'non_striker': 'UT Khawaja', 'runs': {'batter': 0, 'extras': 0, 'total': 0}}, {'batter': 'DA Warner', 'bowler': 'L Ngidi', 'non_striker': 'UT Khawaja', 'runs': {'batter': 0, 'extras': 0, 'total': 0}}, {'batter': 'DA Warner', 'bowler': 'L Ngidi', 'non_striker': 'UT Khawaja', 'runs': {'batter': 0, 'extras': 0, 'total': 0}}, {'batter': 'DA Warner', 'bowler': 'L Ngidi', 'non_striker': 'UT Khawaja', 'runs': {'batter': 0, 'extras': 0, 'total': 0}}, {'batter': 'DA Warner', 'bowler': 'L Ngidi', 'non_striker': 'UT Khawaja', 'runs': {'batter': 0, 'extras': 0, 'total': 0}}]}, {'over': 6, 'deliveries': [{'batter': 'UT Khawaja', 'bowler': 'K Rabada', 'non_striker': 'DA Warner', 'runs': {'batter': 1, 'extras': 0, 'total': 1}}, {'batter': 'DA Warner', 'bowler': 'K Rabada', 'non_striker': 'UT Khawaja', 'runs': {'batter': 2, 'extras': 0, 'total': 2}}, {'batter': 'DA Warner', 'bowler': 'K Rabada', 'extras': {'legbyes': 1}, 'non_striker': 'UT Khawaja', 'runs': {'batter': 0, 'extras': 1, 'total': 1}}, {'batter': 'UT Khawaja', 'bowler': 'K Rabada', 'non_striker': 'DA Warner', 'runs': {'batter': 0, 'extras': 0, 'total': 0}, 'wickets': [{'player_out': 'UT Khawaja', 'fielders': [{'name': 'K Verreynne'}], 'kind': 'caught'}]}, {'batter': 'M Labuschagne', 'bowler': 'K Rabada', 'non_striker': 'DA Warner', 'runs': {'batter': 0, 'extras': 0, 'total': 0}}, {'batter': 'M Labuschagne', 'bowler': 'K Rabada', 'non_striker': 'DA Warner', 'runs': {'batter': 0, 'extras': 0, 'total': 0}}]}, {'over': 7, 'deliveries': [{'batter': 'DA Warner', 'bowler': 'M Jansen', 'non_striker': 'M Labuschagne', 'runs': {'batter': 2, 'extras': 0, 'total': 2}}, {'batter': 'DA Warner', 'bowler': 'M Jansen', 'non_striker': 'M Labuschagne', 'runs': {'batter': 0, 'extras': 0, 'total': 0}}, {'batter': 'DA Warner', 'bowler': 'M Jansen', 'non_striker': 'M Labuschagne', 'runs': {'batter': 0, 'extras': 0, 'total': 0}}, {'batter': 'DA Warner', 'bowler': 'M Jansen', 'non_striker': 'M Labuschagne', 'runs': {'batter': 1, 'extras': 0, 'total': 1}}, {'batter': 'M Labuschagne', 'bowler': 'M Jansen', 'non_striker': 'DA Warner', 'runs': {'batter': 0, 'extras': 0, 'total': 0}}, {'batter': 'M Labuschagne', 'bowler': 'M Jansen', 'extras': {'legbyes': 4}, 'non_striker': 'DA Warner', 'runs': {'batter': 0, 'extras': 4, 'total': 4}}]}, {'over': 8, 'deliveries': [{'batter': 'DA Warner', 'bowler': 'K Rabada', 'extras': {'noballs': 1}, 'non_striker': 'M Labuschagne', 'runs': {'batter': 0, 'extras': 1, 'total': 1}}, {'batter': 'DA Warner', 'bowler': 'K Rabada', 'non_striker': 'M Labuschagne', 'runs': {'batter': 0, 'extras': 0, 'total': 0}}, {'batter': 'DA Warner', 'bowler': 'K Rabada', 'non_striker': 'M Labuschagne', 'runs': {'batter': 4, 'extras': 0, 'non_boundary': True, 'total': 4}}, {'batter': 'DA Warner', 'bowler': 'K Rabada', 'non_striker': 'M Labuschagne', 'runs': {'batter': 0, 'extras': 0, 'total': 0}}, {'batter': 'DA Warner', 'bowler': 'K Rabada', 'non_striker': 'M Labuschagne', 'runs': {'batter': 0, 'extras': 0, 'total': 0}}, {'batter': 'DA Warner', 'bowler': 'K Rabada', 'non_striker': 'M Labuschagne', 'runs': {'batter': 0, 'extras': 0, 'total': 0}}, {'batter': 'DA Warner', 'bowler': 'K Rabada', 'non_striker': 'M Labuschagne', 'runs': {'batter': 0, 'extras': 0, 'total': 0}}]}, {'over': 9, 'deliveries': [{'batter': 'M Labuschagne', 'bowler': 'M Jansen', 'non_striker': 'DA Warner', 'runs': {'batter': 0, 'extras': 0, 'total': 0}}, {'batter': 'M Labuschagne', 'bowler': 'M Jansen', 'non_striker': 'DA Warner', 'runs': {'batter': 0, 'extras': 0, 'total': 0}}, {'batter': 'M Labuschagne', 'bowler': 'M Jansen', 'non_striker': 'DA Warner', 'runs': {'batter': 0, 'extras': 0, 'total': 0}}, {'batter': 'M Labuschagne', 'bowler': 'M Jansen', 'non_striker': 'DA Warner', 'runs': {'batter': 0, 'extras': 0, 'total': 0}}, {'batter': 'M Labuschagne', 'bowler': 'M Jansen', 'non_striker': 'DA Warner', 'runs': {'batter': 0, 'extras': 0, 'total': 0}}, {'batter': 'M Labuschagne', 'bowler': 'M Jansen', 'non_striker': 'DA Warner', 'runs': {'batter': 2, 'extras': 0, 'total': 2}}]}, {'over': 10, 'deliveries': [{'batter': 'DA Warner', 'bowler': 'A Nortje', 'non_striker': 'M Labuschagne', 'runs': {'batter': 0, 'extras': 0, 'total': 0}}, {'batter': 'DA Warner', 'bowler': 'A Nortje', 'non_striker': 'M Labuschagne', 'runs': {'batter': 0, 'extras': 0, 'total': 0}}, {'batter': 'DA Warner', 'bowler': 'A Nortje', 'non_striker': 'M Labuschagne', 'runs': {'batter': 0, 'extras': 0, 'total': 0}}, {'batter': 'DA Warner', 'bowler': 'A Nortje', 'non_striker': 'M Labuschagne', 'runs': {'batter': 4, 'extras': 0, 'total': 4}}, {'batter': 'DA Warner', 'bowler': 'A Nortje', 'extras': {'noballs': 1}, 'non_striker': 'M Labuschagne', 'runs': {'batter': 2, 'extras': 1, 'total': 3}}, {'batter': 'DA Warner', 'bowler': 'A Nortje', 'non_striker': 'M Labuschagne', 'runs': {'batter': 0, 'extras': 0, 'total': 0}}, {'batter': 'DA Warner', 'bowler': 'A Nortje', 'non_striker': 'M Labuschagne', 'runs': {'batter': 0, 'extras': 0, 'total': 0}}]}, {'over': 11, 'deliveries': [{'batter': 'M Labuschagne', 'bowler': 'M Jansen', 'non_striker': 'DA Warner', 'runs': {'batter': 0, 'extras': 0, 'total': 0}}, {'batter': 'M Labuschagne', 'bowler': 'M Jansen', 'non_striker': 'DA Warner', 'runs': {'batter': 3, 'extras': 0, 'total': 3}}, {'batter': 'DA Warner', 'bowler': 'M Jansen', 'non_striker': 'M Labuschagne', 'runs': {'batter': 0, 'extras': 0, 'total': 0}}, {'batter': 'DA Warner', 'bowler': 'M Jansen', 'non_striker': 'M Labuschagne', 'runs': {'batter': 0, 'extras': 0, 'total': 0}}, {'batter': 'DA Warner', 'bowler': 'M Jansen', 'non_striker': 'M Labuschagne', 'runs': {'batter': 0, 'extras': 0, 'total': 0}}, {'batter': 'DA Warner', 'bowler': 'M Jansen', 'non_striker': 'M Labuschagne', 'runs': {'batter': 0, 'extras': 0, 'total': 0}}]}, {'over': 12, 'deliveries': [{'batter': 'M Labuschagne', 'bowler': 'A Nortje', 'non_striker': 'DA Warner', 'runs': {'batter': 0, 'extras': 0, 'total': 0}}, {'batter': 'M Labuschagne', 'bowler': 'A Nortje', 'non_striker': 'DA Warner', 'runs': {'batter': 0, 'extras': 0, 'total': 0}}, {'batter': 'M Labuschagne', 'bowler': 'A Nortje', 'non_striker': 'DA Warner', 'runs': {'batter': 4, 'extras': 0, 'total': 4}}, {'batter': 'M Labuschagne', 'bowler': 'A Nortje', 'extras': {'byes': 1}, 'non_striker': 'DA Warner', 'runs': {'batter': 0, 'extras': 1, 'total': 1}}, {'batter': 'DA Warner', 'bowler': 'A Nortje', 'non_striker': 'M Labuschagne', 'runs': {'batter': 3, 'extras': 0, 'total': 3}}, {'batter': 'M Labuschagne', 'bowler': 'A Nortje', 'non_striker': 'DA Warner', 'runs': {'batter': 0, 'extras': 0, 'total': 0}}]}, {'over': 13, 'deliveries': [{'batter': 'DA Warner', 'bowler': 'K Rabada', 'non_striker': 'M Labuschagne', 'runs': {'batter': 4, 'extras': 0, 'total': 4}}, {'batter': 'DA Warner', 'bowler': 'K Rabada', 'non_striker': 'M Labuschagne', 'runs': {'batter': 0, 'extras': 0, 'total': 0}}, {'batter': 'DA Warner', 'bowler': 'K Rabada', 'non_striker': 'M Labuschagne', 'runs': {'batter': 0, 'extras': 0, 'total': 0}}, {'batter': 'DA Warner', 'bowler': 'K Rabada', 'non_striker': 'M Labuschagne', 'runs': {'batter': 0, 'extras': 0, 'total': 0}}, {'batter': 'DA Warner', 'bowler': 'K Rabada', 'non_striker': 'M Labuschagne', 'runs': {'batter': 0, 'extras': 0, 'total': 0}}, {'batter': 'DA Warner', 'bowler': 'K Rabada', 'non_striker': 'M Labuschagne', 'runs': {'batter': 2, 'extras': 0, 'total': 2}}]}, {'over': 14, 'deliveries': [{'batter': 'M Labuschagne', 'bowler': 'A Nortje', 'non_striker': 'DA Warner', 'runs': {'batter': 0, 'extras': 0, 'total': 0}}, {'batter': 'M Labuschagne', 'bowler': 'A Nortje', 'non_striker': 'DA Warner', 'runs': {'batter': 0, 'extras': 0, 'total': 0}}, {'batter': 'M Labuschagne', 'bowler': 'A Nortje', 'non_striker': 'DA Warner', 'runs': {'batter': 0, 'extras': 0, 'total': 0}}, {'batter': 'M Labuschagne', 'bowler': 'A Nortje', 'non_striker': 'DA Warner', 'runs': {'batter': 0, 'extras': 0, 'total': 0}}, {'batter': 'M Labuschagne', 'bowler': 'A Nortje', 'non_striker': 'DA Warner', 'runs': {'batter': 0, 'extras': 0, 'total': 0}}, {'batter': 'M Labuschagne', 'bowler': 'A Nortje', 'non_striker': 'DA Warner', 'runs': {'batter': 3, 'extras': 0, 'total': 3}}]}, {'over': 15, 'deliveries': [{'batter': 'M Labuschagne', 'bowler': 'K Rabada', 'non_striker': 'DA Warner', 'runs': {'batter': 1, 'extras': 0, 'total': 1}}, {'batter': 'DA Warner', 'bowler': 'K Rabada', 'non_striker': 'M Labuschagne', 'runs': {'batter': 1, 'extras': 0, 'total': 1}}, {'batter': 'M Labuschagne', 'bowler': 'K Rabada', 'non_striker': 'DA Warner', 'runs': {'batter': 0, 'extras': 0, 'total': 0}}, {'batter': 'M Labuschagne', 'bowler': 'K Rabada', 'non_striker': 'DA Warner', 'runs': {'batter': 0, 'extras': 0, 'total': 0}}, {'batter': 'M Labuschagne', 'bowler': 'K Rabada', 'non_striker': 'DA Warner', 'runs': {'batter': 1, 'extras': 0, 'total': 1}}, {'batter': 'DA Warner', 'bowler': 'K Rabada', 'non_striker': 'M Labuschagne', 'runs': {'batter': 1, 'extras': 0, 'total': 1}}]}, {'over': 16, 'deliveries': [{'batter': 'DA Warner', 'bowler': 'A Nortje', 'non_striker': 'M Labuschagne', 'runs': {'batter': 0, 'extras': 0, 'total': 0}}, {'batter': 'DA Warner', 'bowler': 'A Nortje', 'non_striker': 'M Labuschagne', 'runs': {'batter': 3, 'extras': 0, 'total': 3}}, {'batter': 'M Labuschagne', 'bowler': 'A Nortje', 'non_striker': 'DA Warner', 'runs': {'batter': 0, 'extras': 0, 'total': 0}}, {'batter': 'M Labuschagne', 'bowler': 'A Nortje', 'non_striker': 'DA Warner', 'runs': {'batter': 0, 'extras': 0, 'total': 0}}, {'batter': 'M Labuschagne', 'bowler': 'A Nortje', 'non_striker': 'DA Warner', 'runs': {'batter': 0, 'extras': 0, 'total': 0}}, {'batter': 'M Labuschagne', 'bowler': 'A Nortje', 'non_striker': 'DA Warner', 'runs': {'batter': 0, 'extras': 0, 'total': 0}}]}, {'over': 17, 'deliveries': [{'batter': 'DA Warner', 'bowler': 'K Rabada', 'non_striker': 'M Labuschagne', 'runs': {'batter': 0, 'extras': 0, 'total': 0}}, {'batter': 'DA Warner', 'bowler': 'K Rabada', 'non_striker': 'M Labuschagne', 'runs': {'batter': 1, 'extras': 0, 'total': 1}}, {'batter': 'M Labuschagne', 'bowler': 'K Rabada', 'non_striker': 'DA Warner', 'runs': {'batter': 0, 'extras': 0, 'total': 0}}, {'batter': 'M Labuschagne', 'bowler': 'K Rabada', 'non_striker': 'DA Warner', 'runs': {'batter': 0, 'extras': 0, 'total': 0}}, {'batter': 'M Labuschagne', 'bowler': 'K Rabada', 'non_striker': 'DA Warner', 'runs': {'batter': 0, 'extras': 0, 'total': 0}}, {'batter': 'M Labuschagne', 'bowler': 'K Rabada', 'non_striker': 'DA Warner', 'runs': {'batter': 0, 'extras': 0, 'total': 0}}]}, {'over': 18, 'deliveries': [{'batter': 'DA Warner', 'bowler': 'A Nortje', 'extras': {'legbyes': 4}, 'non_striker': 'M Labuschagne', 'runs': {'batter': 0, 'extras': 4, 'total': 4}}, {'batter': 'DA Warner', 'bowler': 'A Nortje', 'non_striker': 'M Labuschagne', 'runs': {'batter': 0, 'extras': 0, 'total': 0}}, {'batter': 'DA Warner', 'bowler': 'A Nortje', 'non_striker': 'M Labuschagne', 'runs': {'batter': 1, 'extras': 0, 'total': 1}, 'wickets': [{'player_out': 'M Labuschagne', 'fielders': [{'name': 'KA Maharaj'}, {'name': 'A Nortje'}], 'kind': 'run out'}]}, {'batter': 'DA Warner', 'bowler': 'A Nortje', 'non_striker': 'SPD Smith', 'runs': {'batter': 0, 'extras': 0, 'total': 0}}, {'batter': 'DA Warner', 'bowler': 'A Nortje', 'non_striker': 'SPD Smith', 'runs': {'batter': 1, 'extras': 0, 'total': 1}}, {'batter': 'SPD Smith', 'bowler': 'A Nortje', 'non_striker': 'DA Warner', 'runs': {'batter': 0, 'extras': 0, 'total': 0}}]}, {'over': 19, 'deliveries': [{'batter': 'DA Warner', 'bowler': 'K Rabada', 'non_striker': 'SPD Smith', 'runs': {'batter': 0, 'extras': 0, 'total': 0}}, {'batter': 'DA Warner', 'bowler': 'K Rabada', 'non_striker': 'SPD Smith', 'runs': {'batter': 0, 'extras': 0, 'total': 0}}, {'batter': 'DA Warner', 'bowler': 'K Rabada', 'non_striker': 'SPD Smith', 'runs': {'batter': 1, 'extras': 0, 'total': 1}}, {'batter': 'SPD Smith', 'bowler': 'K Rabada', 'non_striker': 'DA Warner', 'runs': {'batter': 0, 'extras': 0, 'total': 0}}, {'batter': 'SPD Smith', 'bowler': 'K Rabada', 'non_striker': 'DA Warner', 'runs': {'batter': 2, 'extras': 0, 'total': 2}}, {'batter': 'SPD Smith', 'bowler': 'K Rabada', 'non_striker': 'DA Warner', 'runs': {'batter': 0, 'extras': 0, 'total': 0}}]}, {'over': 20, 'deliveries': [{'batter': 'DA Warner', 'bowler': 'A Nortje', 'non_striker': 'SPD Smith', 'runs': {'batter': 0, 'extras': 0, 'total': 0}}, {'batter': 'DA Warner', 'bowler': 'A Nortje', 'non_striker': 'SPD Smith', 'runs': {'batter': 0, 'extras': 0, 'total': 0}}, {'batter': 'DA Warner', 'bowler': 'A Nortje', 'non_striker': 'SPD Smith', 'runs': {'batter': 0, 'extras': 0, 'total': 0}}, {'batter': 'DA Warner', 'bowler': 'A Nortje', 'non_striker': 'SPD Smith', 'runs': {'batter': 4, 'extras': 0, 'non_boundary': True, 'total': 4}}, {'batter': 'DA Warner', 'bowler': 'A Nortje', 'non_striker': 'SPD Smith', 'runs': {'batter': 1, 'extras': 0, 'total': 1}}, {'batter': 'SPD Smith', 'bowler': 'A Nortje', 'non_striker': 'DA Warner', 'runs': {'batter': 1, 'extras': 0, 'total': 1}}]}, {'over': 21, 'deliveries': [{'batter': 'SPD Smith', 'bowler': 'K Rabada', 'non_striker': 'DA Warner', 'runs': {'batter': 0, 'extras': 0, 'total': 0}}, {'batter': 'SPD Smith', 'bowler': 'K Rabada', 'non_striker': 'DA Warner', 'runs': {'batter': 0, 'extras': 0, 'total': 0}}, {'batter': 'SPD Smith', 'bowler': 'K Rabada', 'non_striker': 'DA Warner', 'runs': {'batter': 0, 'extras': 0, 'total': 0}}, {'batter': 'SPD Smith', 'bowler': 'K Rabada', 'non_striker': 'DA Warner', 'runs': {'batter': 0, 'extras': 0, 'total': 0}}, {'batter': 'SPD Smith', 'bowler': 'K Rabada', 'non_striker': 'DA Warner', 'runs': {'batter': 4, 'extras': 0, 'total': 4}}, {'batter': 'SPD Smith', 'bowler': 'K Rabada', 'non_striker': 'DA Warner', 'runs': {'batter': 0, 'extras': 0, 'total': 0}}]}, {'over': 22, 'deliveries': [{'batter': 'DA Warner', 'bowler': 'L Ngidi', 'non_striker': 'SPD Smith', 'runs': {'batter': 0, 'extras': 0, 'total': 0}}, {'batter': 'DA Warner', 'bowler': 'L Ngidi', 'non_striker': 'SPD Smith', 'runs': {'batter': 0, 'extras': 0, 'total': 0}}, {'batter': 'DA Warner', 'bowler': 'L Ngidi', 'non_striker': 'SPD Smith', 'runs': {'batter': 4, 'extras': 0, 'total': 4}}, {'batter': 'DA Warner', 'bowler': 'L Ngidi', 'non_striker': 'SPD Smith', 'runs': {'batter': 1, 'extras': 0, 'total': 1}}, {'batter': 'SPD Smith', 'bowler': 'L Ngidi', 'non_striker': 'DA Warner', 'runs': {'batter': 0, 'extras': 0, 'total': 0}}, {'batter': 'SPD Smith', 'bowler': 'L Ngidi', 'non_striker': 'DA Warner', 'runs': {'batter': 0, 'extras': 0, 'total': 0}}]}, {'over': 23, 'deliveries': [{'batter': 'DA Warner', 'bowler': 'M Jansen', 'non_striker': 'SPD Smith', 'runs': {'batter': 1, 'extras': 0, 'total': 1}}, {'batter': 'SPD Smith', 'bowler': 'M Jansen', 'non_striker': 'DA Warner', 'runs': {'batter': 0, 'extras': 0, 'total': 0}}, {'batter': 'SPD Smith', 'bowler': 'M Jansen', 'non_striker': 'DA Warner', 'runs': {'batter': 0, 'extras': 0, 'total': 0}}, {'batter': 'SPD Smith', 'bowler': 'M Jansen', 'non_striker': 'DA Warner', 'runs': {'batter': 0, 'extras': 0, 'total': 0}}, {'batter': 'SPD Smith', 'bowler': 'M Jansen', 'non_striker': 'DA Warner', 'runs': {'batter': 0, 'extras': 0, 'total': 0}}, {'batter': 'SPD Smith', 'bowler': 'M Jansen', 'non_striker': 'DA Warner', 'runs': {'batter': 0, 'extras': 0, 'total': 0}}]}, {'over': 24, 'deliveries': [{'batter': 'DA Warner', 'bowler': 'L Ngidi', 'non_striker': 'SPD Smith', 'runs': {'batter': 0, 'extras': 0, 'total': 0}}, {'batter': 'DA Warner', 'bowler': 'L Ngidi', 'non_striker': 'SPD Smith', 'runs': {'batter': 0, 'extras': 0, 'total': 0}}, {'batter': 'DA Warner', 'bowler': 'L Ngidi', 'non_striker': 'SPD Smith', 'runs': {'batter': 4, 'extras': 0, 'total': 4}}, {'batter': 'DA Warner', 'bowler': 'L Ngidi', 'non_striker': 'SPD Smith', 'runs': {'batter': 1, 'extras': 0, 'total': 1}}, {'batter': 'SPD Smith', 'bowler': 'L Ngidi', 'non_striker': 'DA Warner', 'runs': {'batter': 0, 'extras': 0, 'total': 0}}, {'batter': 'SPD Smith', 'bowler': 'L Ngidi', 'non_striker': 'DA Warner', 'runs': {'batter': 0, 'extras': 0, 'total': 0}}]}, {'over': 25, 'deliveries': [{'batter': 'DA Warner', 'bowler': 'M Jansen', 'non_striker': 'SPD Smith', 'runs': {'batter': 0, 'extras': 0, 'total': 0}}, {'batter': 'DA Warner', 'bowler': 'M Jansen', 'non_striker': 'SPD Smith', 'runs': {'batter': 0, 'extras': 0, 'total': 0}}, {'batter': 'DA Warner', 'bowler': 'M Jansen', 'non_striker': 'SPD Smith', 'runs': {'batter': 1, 'extras': 0, 'total': 1}}, {'batter': 'SPD Smith', 'bowler': 'M Jansen', 'non_striker': 'DA Warner', 'runs': {'batter': 0, 'extras': 0, 'total': 0}}, {'batter': 'SPD Smith', 'bowler': 'M Jansen', 'non_striker': 'DA Warner', 'runs': {'batter': 0, 'extras': 0, 'total': 0}}, {'batter': 'SPD Smith', 'bowler': 'M Jansen', 'non_striker': 'DA Warner', 'runs': {'batter': 0, 'extras': 0, 'total': 0}}]}, {'over': 26, 'deliveries': [{'batter': 'DA Warner', 'bowler': 'L Ngidi', 'non_striker': 'SPD Smith', 'runs': {'batter': 0, 'extras': 0, 'total': 0}}, {'batter': 'DA Warner', 'bowler': 'L Ngidi', 'non_striker': 'SPD Smith', 'runs': {'batter': 0, 'extras': 0, 'total': 0}}, {'batter': 'DA Warner', 'bowler': 'L Ngidi', 'non_striker': 'SPD Smith', 'runs': {'batter': 1, 'extras': 0, 'total': 1}}, {'batter': 'SPD Smith', 'bowler': 'L Ngidi', 'non_striker': 'DA Warner', 'runs': {'batter': 0, 'extras': 0, 'total': 0}}, {'batter': 'SPD Smith', 'bowler': 'L Ngidi', 'non_striker': 'DA Warner', 'runs': {'batter': 0, 'extras': 0, 'total': 0}}, {'batter': 'SPD Smith', 'bowler': 'L Ngidi', 'extras': {'legbyes': 1}, 'non_striker': 'DA Warner', 'runs': {'batter': 0, 'extras': 1, 'total': 1}}]}, {'over': 27, 'deliveries': [{'batter': 'SPD Smith', 'bowler': 'M Jansen', 'non_striker': 'DA Warner', 'runs': {'batter': 0, 'extras': 0, 'total': 0}}, {'batter': 'SPD Smith', 'bowler': 'M Jansen', 'non_striker': 'DA Warner', 'runs': {'batter': 0, 'extras': 0, 'total': 0}}, {'batter': 'SPD Smith', 'bowler': 'M Jansen', 'non_striker': 'DA Warner', 'runs': {'batter': 0, 'extras': 0, 'total': 0}}, {'batter': 'SPD Smith', 'bowler': 'M Jansen', 'non_striker': 'DA Warner', 'runs': {'batter': 0, 'extras': 0, 'total': 0}}, {'batter': 'SPD Smith', 'bowler': 'M Jansen', 'non_striker': 'DA Warner', 'runs': {'batter': 0, 'extras': 0, 'total': 0}}, {'batter': 'SPD Smith', 'bowler': 'M Jansen', 'non_striker': 'DA Warner', 'runs': {'batter': 0, 'extras': 0, 'total': 0}}]}, {'over': 28, 'deliveries': [{'batter': 'DA Warner', 'bowler': 'L Ngidi', 'non_striker': 'SPD Smith', 'runs': {'batter': 0, 'extras': 0, 'total': 0}}, {'batter': 'DA Warner', 'bowler': 'L Ngidi', 'non_striker': 'SPD Smith', 'runs': {'batter': 0, 'extras': 0, 'total': 0}}, {'batter': 'DA Warner', 'bowler': 'L Ngidi', 'non_striker': 'SPD Smith', 'runs': {'batter': 1, 'extras': 0, 'total': 1}}, {'batter': 'SPD Smith', 'bowler': 'L Ngidi', 'non_striker': 'DA Warner', 'runs': {'batter': 1, 'extras': 0, 'total': 1}}, {'batter': 'DA Warner', 'bowler': 'L Ngidi', 'non_striker': 'SPD Smith', 'runs': {'batter': 0, 'extras': 0, 'total': 0}}, {'batter': 'DA Warner', 'bowler': 'L Ngidi', 'non_striker': 'SPD Smith', 'runs': {'batter': 0, 'extras': 0, 'total': 0}}]}, {'over': 29, 'deliveries': [{'batter': 'SPD Smith', 'bowler': 'M Jansen', 'non_striker': 'DA Warner', 'runs': {'batter': 1, 'extras': 0, 'total': 1}}, {'batter': 'DA Warner', 'bowler': 'M Jansen', 'non_striker': 'SPD Smith', 'runs': {'batter': 3, 'extras': 0, 'total': 3}}, {'batter': 'SPD Smith', 'bowler': 'M Jansen', 'non_striker': 'DA Warner', 'runs': {'batter': 0, 'extras': 0, 'total': 0}}, {'batter': 'SPD Smith', 'bowler': 'M Jansen', 'non_striker': 'DA Warner', 'runs': {'batter': 0, 'extras': 0, 'total': 0}}, {'batter': 'SPD Smith', 'bowler': 'M Jansen', 'non_striker': 'DA Warner', 'runs': {'batter': 0, 'extras': 0, 'total': 0}}, {'batter': 'SPD Smith', 'bowler': 'M Jansen', 'non_striker': 'DA Warner', 'runs': {'batter': 0, 'extras': 0, 'total': 0}}]}, {'over': 30, 'deliveries': [{'batter': 'DA Warner', 'bowler': 'L Ngidi', 'non_striker': 'SPD Smith', 'runs': {'batter': 0, 'extras': 0, 'total': 0}}, {'batter': 'DA Warner', 'bowler': 'L Ngidi', 'non_striker': 'SPD Smith', 'runs': {'batter': 0, 'extras': 0, 'total': 0}}, {'batter': 'DA Warner', 'bowler': 'L Ngidi', 'non_striker': 'SPD Smith', 'runs': {'batter': 4, 'extras': 0, 'total': 4}}, {'batter': 'DA Warner', 'bowler': 'L Ngidi', 'non_striker': 'SPD Smith', 'runs': {'batter': 0, 'extras': 0, 'total': 0}}, {'batter': 'DA Warner', 'bowler': 'L Ngidi', 'non_striker': 'SPD Smith', 'runs': {'batter': 0, 'extras': 0, 'total': 0}}, {'batter': 'DA Warner', 'bowler': 'L Ngidi', 'non_striker': 'SPD Smith', 'runs': {'batter': 1, 'extras': 0, 'total': 1}}]}, {'over': 31, 'deliveries': [{'batter': 'DA Warner', 'bowler': 'KA Maharaj', 'non_striker': 'SPD Smith', 'runs': {'batter': 4, 'extras': 0, 'non_boundary': True, 'total': 4}}, {'batter': 'DA Warner', 'bowler': 'KA Maharaj', 'non_striker': 'SPD Smith', 'runs': {'batter': 3, 'extras': 0, 'total': 3}}, {'batter': 'SPD Smith', 'bowler': 'KA Maharaj', 'non_striker': 'DA Warner', 'runs': {'batter': 0, 'extras': 0, 'total': 0}}, {'batter': 'SPD Smith', 'bowler': 'KA Maharaj', 'non_striker': 'DA Warner', 'runs': {'batter': 1, 'extras': 0, 'total': 1}}, {'batter': 'DA Warner', 'bowler': 'KA Maharaj', 'non_striker': 'SPD Smith', 'runs': {'batter': 0, 'extras': 0, 'total': 0}}, {'batter': 'DA Warner', 'bowler': 'KA Maharaj', 'non_striker': 'SPD Smith', 'runs': {'batter': 0, 'extras': 0, 'total': 0}}]}, {'over': 32, 'deliveries': [{'batter': 'SPD Smith', 'bowler': 'M Jansen', 'non_striker': 'DA Warner', 'runs': {'batter': 0, 'extras': 0, 'total': 0}}, {'batter': 'SPD Smith', 'bowler': 'M Jansen', 'non_striker': 'DA Warner', 'runs': {'batter': 0, 'extras': 0, 'total': 0}}, {'batter': 'SPD Smith', 'bowler': 'M Jansen', 'non_striker': 'DA Warner', 'runs': {'batter': 4, 'extras': 0, 'total': 4}}, {'batter': 'SPD Smith', 'bowler': 'M Jansen', 'non_striker': 'DA Warner', 'runs': {'batter': 0, 'extras': 0, 'total': 0}}, {'batter': 'SPD Smith', 'bowler': 'M Jansen', 'non_striker': 'DA Warner', 'runs': {'batter': 4, 'extras': 0, 'total': 4}}, {'batter': 'SPD Smith', 'bowler': 'M Jansen', 'non_striker': 'DA Warner', 'runs': {'batter': 0, 'extras': 0, 'total': 0}}]}, {'over': 33, 'deliveries': [{'batter': 'DA Warner', 'bowler': 'KA Maharaj', 'non_striker': 'SPD Smith', 'runs': {'batter': 1, 'extras': 0, 'total': 1}}, {'batter': 'SPD Smith', 'bowler': 'KA Maharaj', 'non_striker': 'DA Warner', 'runs': {'batter': 1, 'extras': 0, 'total': 1}}, {'batter': 'DA Warner', 'bowler': 'KA Maharaj', 'non_striker': 'SPD Smith', 'runs': {'batter': 0, 'extras': 0, 'total': 0}}, {'batter': 'DA Warner', 'bowler': 'KA Maharaj', 'non_striker': 'SPD Smith', 'runs': {'batter': 0, 'extras': 0, 'total': 0}}, {'batter': 'DA Warner', 'bowler': 'KA Maharaj', 'non_striker': 'SPD Smith', 'runs': {'batter': 0, 'extras': 0, 'total': 0}}, {'batter': 'DA Warner', 'bowler': 'KA Maharaj', 'non_striker': 'SPD Smith', 'runs': {'batter': 0, 'extras': 0, 'total': 0}}]}, {'over': 34, 'deliveries': [{'batter': 'SPD Smith', 'bowler': 'M Jansen', 'non_striker': 'DA Warner', 'runs': {'batter': 0, 'extras': 0, 'total': 0}}, {'batter': 'SPD Smith', 'bowler': 'M Jansen', 'extras': {'wides': 1}, 'non_striker': 'DA Warner', 'runs': {'batter': 0, 'extras': 1, 'total': 1}}, {'batter': 'SPD Smith', 'bowler': 'M Jansen', 'non_striker': 'DA Warner', 'runs': {'batter': 0, 'extras': 0, 'total': 0}}, {'batter': 'SPD Smith', 'bowler': 'M Jansen', 'non_striker': 'DA Warner', 'review': {'by': 'South Africa', 'umpire': 'PR Reiffel', 'batter': 'SPD Smith', 'decision': 'struck down'}, 'runs': {'batter': 2, 'extras': 0, 'total': 2}}, {'batter': 'SPD Smith', 'bowler': 'M Jansen', 'non_striker': 'DA Warner', 'runs': {'batter': 0, 'extras': 0, 'total': 0}}, {'batter': 'SPD Smith', 'bowler': 'M Jansen', 'non_striker': 'DA Warner', 'runs': {'batter': 0, 'extras': 0, 'total': 0}}, {'batter': 'SPD Smith', 'bowler': 'M Jansen', 'non_striker': 'DA Warner', 'runs': {'batter': 0, 'extras': 0, 'total': 0}}]}, {'over': 35, 'deliveries': [{'batter': 'DA Warner', 'bowler': 'KA Maharaj', 'non_striker': 'SPD Smith', 'runs': {'batter': 0, 'extras': 0, 'total': 0}}, {'batter': 'DA Warner', 'bowler': 'KA Maharaj', 'non_striker': 'SPD Smith', 'runs': {'batter': 0, 'extras': 0, 'total': 0}}, {'batter': 'DA Warner', 'bowler': 'KA Maharaj', 'non_striker': 'SPD Smith', 'runs': {'batter': 0, 'extras': 0, 'total': 0}}, {'batter': 'DA Warner', 'bowler': 'KA Maharaj', 'non_striker': 'SPD Smith', 'runs': {'batter': 0, 'extras': 0, 'total': 0}}, {'batter': 'DA Warner', 'bowler': 'KA Maharaj', 'non_striker': 'SPD Smith', 'runs': {'batter': 1, 'extras': 0, 'total': 1}}, {'batter': 'SPD Smith', 'bowler': 'KA Maharaj', 'non_striker': 'DA Warner', 'runs': {'batter': 0, 'extras': 0, 'total': 0}}]}, {'over': 36, 'deliveries': [{'batter': 'DA Warner', 'bowler': 'A Nortje', 'non_striker': 'SPD Smith', 'runs': {'batter': 0, 'extras': 0, 'total': 0}}, {'batter': 'DA Warner', 'bowler': 'A Nortje', 'non_striker': 'SPD Smith', 'runs': {'batter': 1, 'extras': 0, 'total': 1}}, {'batter': 'SPD Smith', 'bowler': 'A Nortje', 'non_striker': 'DA Warner', 'runs': {'batter': 0, 'extras': 0, 'total': 0}}, {'batter': 'SPD Smith', 'bowler': 'A Nortje', 'non_striker': 'DA Warner', 'runs': {'batter': 0, 'extras': 0, 'total': 0}}, {'batter': 'SPD Smith', 'bowler': 'A Nortje', 'non_striker': 'DA Warner', 'runs': {'batter': 4, 'extras': 0, 'total': 4}}, {'batter': 'SPD Smith', 'bowler': 'A Nortje', 'non_striker': 'DA Warner', 'runs': {'batter': 1, 'extras': 0, 'total': 1}}]}, {'over': 37, 'deliveries': [{'batter': 'SPD Smith', 'bowler': 'KA Maharaj', 'non_striker': 'DA Warner', 'runs': {'batter': 6, 'extras': 0, 'total': 6}}, {'batter': 'SPD Smith', 'bowler': 'KA Maharaj', 'non_striker': 'DA Warner', 'runs': {'batter': 0, 'extras': 0, 'total': 0}}, {'batter': 'SPD Smith', 'bowler': 'KA Maharaj', 'non_striker': 'DA Warner', 'runs': {'batter': 0, 'extras': 0, 'total': 0}}, {'batter': 'SPD Smith', 'bowler': 'KA Maharaj', 'non_striker': 'DA Warner', 'runs': {'batter': 0, 'extras': 0, 'total': 0}}, {'batter': 'SPD Smith', 'bowler': 'KA Maharaj', 'non_striker': 'DA Warner', 'runs': {'batter': 0, 'extras': 0, 'total': 0}}, {'batter': 'SPD Smith', 'bowler': 'KA Maharaj', 'non_striker': 'DA Warner', 'runs': {'batter': 0, 'extras': 0, 'total': 0}}]}, {'over': 38, 'deliveries': [{'batter': 'DA Warner', 'bowler': 'A Nortje', 'non_striker': 'SPD Smith', 'runs': {'batter': 0, 'extras': 0, 'total': 0}}, {'batter': 'DA Warner', 'bowler': 'A Nortje', 'non_striker': 'SPD Smith', 'runs': {'batter': 0, 'extras': 0, 'total': 0}}, {'batter': 'DA Warner', 'bowler': 'A Nortje', 'non_striker': 'SPD Smith', 'runs': {'batter': 0, 'extras': 0, 'total': 0}}, {'batter': 'DA Warner', 'bowler': 'A Nortje', 'non_striker': 'SPD Smith', 'runs': {'batter': 0, 'extras': 0, 'total': 0}}, {'batter': 'DA Warner', 'bowler': 'A Nortje', 'non_striker': 'SPD Smith', 'runs': {'batter': 1, 'extras': 0, 'total': 1}}, {'batter': 'SPD Smith', 'bowler': 'A Nortje', 'non_striker': 'DA Warner', 'runs': {'batter': 0, 'extras': 0, 'total': 0}}]}, {'over': 39, 'deliveries': [{'batter': 'DA Warner', 'bowler': 'KA Maharaj', 'non_striker': 'SPD Smith', 'runs': {'batter': 0, 'extras': 0, 'total': 0}}, {'batter': 'DA Warner', 'bowler': 'KA Maharaj', 'non_striker': 'SPD Smith', 'runs': {'batter': 0, 'extras': 0, 'total': 0}}, {'batter': 'DA Warner', 'bowler': 'KA Maharaj', 'non_striker': 'SPD Smith', 'runs': {'batter': 1, 'extras': 0, 'total': 1}}, {'batter': 'SPD Smith', 'bowler': 'KA Maharaj', 'non_striker': 'DA Warner', 'runs': {'batter': 0, 'extras': 0, 'total': 0}}, {'batter': 'SPD Smith', 'bowler': 'KA Maharaj', 'non_striker': 'DA Warner', 'runs': {'batter': 0, 'extras': 0, 'total': 0}}, {'batter': 'SPD Smith', 'bowler': 'KA Maharaj', 'non_striker': 'DA Warner', 'runs': {'batter': 0, 'extras': 0, 'total': 0}}]}, {'over': 40, 'deliveries': [{'batter': 'DA Warner', 'bowler': 'A Nortje', 'non_striker': 'SPD Smith', 'runs': {'batter': 0, 'extras': 0, 'total': 0}}, {'batter': 'DA Warner', 'bowler': 'A Nortje', 'non_striker': 'SPD Smith', 'runs': {'batter': 1, 'extras': 0, 'total': 1}}, {'batter': 'SPD Smith', 'bowler': 'A Nortje', 'non_striker': 'DA Warner', 'runs': {'batter': 0, 'extras': 0, 'total': 0}}, {'batter': 'SPD Smith', 'bowler': 'A Nortje', 'non_striker': 'DA Warner', 'runs': {'batter': 1, 'extras': 0, 'total': 1}}, {'batter': 'DA Warner', 'bowler': 'A Nortje', 'non_striker': 'SPD Smith', 'runs': {'batter': 0, 'extras': 0, 'total': 0}}, {'batter': 'DA Warner', 'bowler': 'A Nortje', 'non_striker': 'SPD Smith', 'runs': {'batter': 1, 'extras': 0, 'total': 1}}]}, {'over': 41, 'deliveries': [{'batter': 'DA Warner', 'bowler': 'KA Maharaj', 'non_striker': 'SPD Smith', 'runs': {'batter': 1, 'extras': 0, 'total': 1}}, {'batter': 'SPD Smith', 'bowler': 'KA Maharaj', 'non_striker': 'DA Warner', 'runs': {'batter': 0, 'extras': 0, 'total': 0}}, {'batter': 'SPD Smith', 'bowler': 'KA Maharaj', 'non_striker': 'DA Warner', 'runs': {'batter': 0, 'extras': 0, 'total': 0}}, {'batter': 'SPD Smith', 'bowler': 'KA Maharaj', 'non_striker': 'DA Warner', 'runs': {'batter': 0, 'extras': 0, 'total': 0}}, {'batter': 'SPD Smith', 'bowler': 'KA Maharaj', 'non_striker': 'DA Warner', 'runs': {'batter': 0, 'extras': 0, 'total': 0}}, {'batter': 'SPD Smith', 'bowler': 'KA Maharaj', 'non_striker': 'DA Warner', 'runs': {'batter': 0, 'extras': 0, 'total': 0}}]}, {'over': 42, 'deliveries': [{'batter': 'DA Warner', 'bowler': 'A Nortje', 'non_striker': 'SPD Smith', 'runs': {'batter': 0, 'extras': 0, 'total': 0}}, {'batter': 'DA Warner', 'bowler': 'A Nortje', 'non_striker': 'SPD Smith', 'runs': {'batter': 0, 'extras': 0, 'total': 0}}, {'batter': 'DA Warner', 'bowler': 'A Nortje', 'extras': {'byes': 4}, 'non_striker': 'SPD Smith', 'runs': {'batter': 0, 'extras': 4, 'total': 4}}, {'batter': 'DA Warner', 'bowler': 'A Nortje', 'non_striker': 'SPD Smith', 'runs': {'batter': 0, 'extras': 0, 'total': 0}}, {'batter': 'DA Warner', 'bowler': 'A Nortje', 'non_striker': 'SPD Smith', 'runs': {'batter': 1, 'extras': 0, 'total': 1}}, {'batter': 'SPD Smith', 'bowler': 'A Nortje', 'non_striker': 'DA Warner', 'runs': {'batter': 0, 'extras': 0, 'total': 0}}]}, {'over': 43, 'deliveries': [{'batter': 'DA Warner', 'bowler': 'KA Maharaj', 'non_striker': 'SPD Smith', 'runs': {'batter': 2, 'extras': 0, 'total': 2}}, {'batter': 'DA Warner', 'bowler': 'KA Maharaj', 'non_striker': 'SPD Smith', 'runs': {'batter': 0, 'extras': 0, 'total': 0}}, {'batter': 'DA Warner', 'bowler': 'KA Maharaj', 'non_striker': 'SPD Smith', 'runs': {'batter': 0, 'extras': 0, 'total': 0}}, {'batter': 'DA Warner', 'bowler': 'KA Maharaj', 'non_striker': 'SPD Smith', 'runs': {'batter': 0, 'extras': 0, 'total': 0}}, {'batter': 'DA Warner', 'bowler': 'KA Maharaj', 'non_striker': 'SPD Smith', 'runs': {'batter': 1, 'extras': 0, 'total': 1}}, {'batter': 'SPD Smith', 'bowler': 'KA Maharaj', 'non_striker': 'DA Warner', 'runs': {'batter': 0, 'extras': 0, 'total': 0}}]}, {'over': 44, 'deliveries': [{'batter': 'DA Warner', 'bowler': 'K Rabada', 'non_striker': 'SPD Smith', 'runs': {'batter': 4, 'extras': 0, 'total': 4}}, {'batter': 'DA Warner', 'bowler': 'K Rabada', 'non_striker': 'SPD Smith', 'runs': {'batter': 1, 'extras': 0, 'total': 1}}, {'batter': 'SPD Smith', 'bowler': 'K Rabada', 'non_striker': 'DA Warner', 'runs': {'batter': 0, 'extras': 0, 'total': 0}}, {'batter': 'SPD Smith', 'bowler': 'K Rabada', 'non_striker': 'DA Warner', 'runs': {'batter': 0, 'extras': 0, 'total': 0}}, {'batter': 'SPD Smith', 'bowler': 'K Rabada', 'non_striker': 'DA Warner', 'runs': {'batter': 0, 'extras': 0, 'total': 0}}, {'batter': 'SPD Smith', 'bowler': 'K Rabada', 'non_striker': 'DA Warner', 'runs': {'batter': 0, 'extras': 0, 'total': 0}}]}, {'over': 45, 'deliveries': [{'batter': 'DA Warner', 'bowler': 'KA Maharaj', 'non_striker': 'SPD Smith', 'runs': {'batter': 4, 'extras': 0, 'total': 4}}, {'batter': 'DA Warner', 'bowler': 'KA Maharaj', 'non_striker': 'SPD Smith', 'runs': {'batter': 1, 'extras': 0, 'total': 1}}, {'batter': 'SPD Smith', 'bowler': 'KA Maharaj', 'non_striker': 'DA Warner', 'runs': {'batter': 0, 'extras': 0, 'total': 0}}, {'batter': 'SPD Smith', 'bowler': 'KA Maharaj', 'non_striker': 'DA Warner', 'runs': {'batter': 0, 'extras': 0, 'total': 0}}, {'batter': 'SPD Smith', 'bowler': 'KA Maharaj', 'non_striker': 'DA Warner', 'runs': {'batter': 0, 'extras': 0, 'total': 0}}, {'batter': 'SPD Smith', 'bowler': 'KA Maharaj', 'non_striker': 'DA Warner', 'runs': {'batter': 0, 'extras': 0, 'total': 0}}]}, {'over': 46, 'deliveries': [{'batter': 'DA Warner', 'bowler': 'K Rabada', 'non_striker': 'SPD Smith', 'runs': {'batter': 3, 'extras': 0, 'total': 3}}, {'batter': 'SPD Smith', 'bowler': 'K Rabada', 'non_striker': 'DA Warner', 'runs': {'batter': 1, 'extras': 0, 'total': 1}}, {'batter': 'DA Warner', 'bowler': 'K Rabada', 'non_striker': 'SPD Smith', 'runs': {'batter': 0, 'extras': 0, 'total': 0}}, {'batter': 'DA Warner', 'bowler': 'K Rabada', 'non_striker': 'SPD Smith', 'runs': {'batter': 0, 'extras': 0, 'total': 0}}, {'batter': 'DA Warner', 'bowler': 'K Rabada', 'non_striker': 'SPD Smith', 'runs': {'batter': 0, 'extras': 0, 'total': 0}}, {'batter': 'DA Warner', 'bowler': 'K Rabada', 'non_striker': 'SPD Smith', 'runs': {'batter': 0, 'extras': 0, 'total': 0}}]}, {'over': 47, 'deliveries': [{'batter': 'SPD Smith', 'bowler': 'KA Maharaj', 'non_striker': 'DA Warner', 'runs': {'batter': 1, 'extras': 0, 'total': 1}}, {'batter': 'DA Warner', 'bowler': 'KA Maharaj', 'non_striker': 'SPD Smith', 'runs': {'batter': 2, 'extras': 0, 'total': 2}}, {'batter': 'DA Warner', 'bowler': 'KA Maharaj', 'non_striker': 'SPD Smith', 'runs': {'batter': 0, 'extras': 0, 'total': 0}}, {'batter': 'DA Warner', 'bowler': 'KA Maharaj', 'non_striker': 'SPD Smith', 'runs': {'batter': 0, 'extras': 0, 'total': 0}}, {'batter': 'DA Warner', 'bowler': 'KA Maharaj', 'non_striker': 'SPD Smith', 'runs': {'batter': 0, 'extras': 0, 'total': 0}}, {'batter': 'DA Warner', 'bowler': 'KA Maharaj', 'non_striker': 'SPD Smith', 'runs': {'batter': 1, 'extras': 0, 'total': 1}}]}, {'over': 48, 'deliveries': [{'batter': 'DA Warner', 'bowler': 'K Rabada', 'non_striker': 'SPD Smith', 'runs': {'batter': 1, 'extras': 0, 'total': 1}}, {'batter': 'SPD Smith', 'bowler': 'K Rabada', 'non_striker': 'DA Warner', 'runs': {'batter': 0, 'extras': 0, 'total': 0}}, {'batter': 'SPD Smith', 'bowler': 'K Rabada', 'non_striker': 'DA Warner', 'runs': {'batter': 0, 'extras': 0, 'total': 0}}, {'batter': 'SPD Smith', 'bowler': 'K Rabada', 'non_striker': 'DA Warner', 'runs': {'batter': 0, 'extras': 0, 'total': 0}}, {'batter': 'SPD Smith', 'bowler': 'K Rabada', 'non_striker': 'DA Warner', 'runs': {'batter': 1, 'extras': 0, 'total': 1}}, {'batter': 'DA Warner', 'bowler': 'K Rabada', 'non_striker': 'SPD Smith', 'runs': {'batter': 1, 'extras': 0, 'total': 1}}]}, {'over': 49, 'deliveries': [{'batter': 'DA Warner', 'bowler': 'KA Maharaj', 'non_striker': 'SPD Smith', 'runs': {'batter': 1, 'extras': 0, 'total': 1}}, {'batter': 'SPD Smith', 'bowler': 'KA Maharaj', 'non_striker': 'DA Warner', 'runs': {'batter': 0, 'extras': 0, 'total': 0}}, {'batter': 'SPD Smith', 'bowler': 'KA Maharaj', 'non_striker': 'DA Warner', 'runs': {'batter': 3, 'extras': 0, 'total': 3}}, {'batter': 'DA Warner', 'bowler': 'KA Maharaj', 'non_striker': 'SPD Smith', 'runs': {'batter': 0, 'extras': 0, 'total': 0}}, {'batter': 'DA Warner', 'bowler': 'KA Maharaj', 'non_striker': 'SPD Smith', 'runs': {'batter': 0, 'extras': 0, 'total': 0}}, {'batter': 'DA Warner', 'bowler': 'KA Maharaj', 'non_striker': 'SPD Smith', 'runs': {'batter': 0, 'extras': 0, 'total': 0}}]}, {'over': 50, 'deliveries': [{'batter': 'SPD Smith', 'bowler': 'K Rabada', 'extras': {'noballs': 1}, 'non_striker': 'DA Warner', 'runs': {'batter': 0, 'extras': 1, 'total': 1}}, {'batter': 'SPD Smith', 'bowler': 'K Rabada', 'non_striker': 'DA Warner', 'runs': {'batter': 3, 'extras': 0, 'total': 3}}, {'batter': 'DA Warner', 'bowler': 'K Rabada', 'non_striker': 'SPD Smith', 'runs': {'batter': 0, 'extras': 0, 'total': 0}}, {'batter': 'DA Warner', 'bowler': 'K Rabada', 'non_striker': 'SPD Smith', 'runs': {'batter': 1, 'extras': 0, 'total': 1}}, {'batter': 'SPD Smith', 'bowler': 'K Rabada', 'non_striker': 'DA Warner', 'runs': {'batter': 1, 'extras': 0, 'total': 1}}, {'batter': 'DA Warner', 'bowler': 'K Rabada', 'non_striker': 'SPD Smith', 'runs': {'batter': 1, 'extras': 0, 'total': 1}}, {'batter': 'SPD Smith', 'bowler': 'K Rabada', 'non_striker': 'DA Warner', 'runs': {'batter': 0, 'extras': 0, 'total': 0}}]}, {'over': 51, 'deliveries': [{'batter': 'DA Warner', 'bowler': 'KA Maharaj', 'non_striker': 'SPD Smith', 'runs': {'batter': 1, 'extras': 0, 'total': 1}}, {'batter': 'SPD Smith', 'bowler': 'KA Maharaj', 'non_striker': 'DA Warner', 'runs': {'batter': 0, 'extras': 0, 'total': 0}}, {'batter': 'SPD Smith', 'bowler': 'KA Maharaj', 'non_striker': 'DA Warner', 'runs': {'batter': 1, 'extras': 0, 'total': 1}}, {'batter': 'DA Warner', 'bowler': 'KA Maharaj', 'non_striker': 'SPD Smith', 'runs': {'batter': 0, 'extras': 0, 'total': 0}}, {'batter': 'DA Warner', 'bowler': 'KA Maharaj', 'non_striker': 'SPD Smith', 'runs': {'batter': 0, 'extras': 0, 'total': 0}}, {'batter': 'DA Warner', 'bowler': 'KA Maharaj', 'non_striker': 'SPD Smith', 'runs': {'batter': 1, 'extras': 0, 'total': 1}}]}, {'over': 52, 'deliveries': [{'batter': 'DA Warner', 'bowler': 'L Ngidi', 'non_striker': 'SPD Smith', 'runs': {'batter': 0, 'extras': 0, 'total': 0}}, {'batter': 'DA Warner', 'bowler': 'L Ngidi', 'non_striker': 'SPD Smith', 'runs': {'batter': 0, 'extras': 0, 'total': 0}}, {'batter': 'DA Warner', 'bowler': 'L Ngidi', 'non_striker': 'SPD Smith', 'runs': {'batter': 0, 'extras': 0, 'total': 0}}, {'batter': 'DA Warner', 'bowler': 'L Ngidi', 'non_striker': 'SPD Smith', 'runs': {'batter': 1, 'extras': 0, 'total': 1}}, {'batter': 'SPD Smith', 'bowler': 'L Ngidi', 'non_striker': 'DA Warner', 'runs': {'batter': 0, 'extras': 0, 'total': 0}}, {'batter': 'SPD Smith', 'bowler': 'L Ngidi', 'extras': {'legbyes': 1}, 'non_striker': 'DA Warner', 'runs': {'batter': 0, 'extras': 1, 'total': 1}}]}, {'over': 53, 'deliveries': [{'batter': 'SPD Smith', 'bowler': 'KA Maharaj', 'non_striker': 'DA Warner', 'runs': {'batter': 1, 'extras': 0, 'total': 1}}, {'batter': 'DA Warner', 'bowler': 'KA Maharaj', 'non_striker': 'SPD Smith', 'runs': {'batter': 0, 'extras': 0, 'total': 0}}, {'batter': 'DA Warner', 'bowler': 'KA Maharaj', 'non_striker': 'SPD Smith', 'runs': {'batter': 0, 'extras': 0, 'total': 0}}, {'batter': 'DA Warner', 'bowler': 'KA Maharaj', 'non_striker': 'SPD Smith', 'runs': {'batter': 1, 'extras': 0, 'total': 1}}, {'batter': 'SPD Smith', 'bowler': 'KA Maharaj', 'non_striker': 'DA Warner', 'runs': {'batter': 0, 'extras': 0, 'total': 0}}, {'batter': 'SPD Smith', 'bowler': 'KA Maharaj', 'non_striker': 'DA Warner', 'runs': {'batter': 0, 'extras': 0, 'total': 0}}]}, {'over': 54, 'deliveries': [{'batter': 'DA Warner', 'bowler': 'L Ngidi', 'non_striker': 'SPD Smith', 'runs': {'batter': 0, 'extras': 0, 'total': 0}}, {'batter': 'DA Warner', 'bowler': 'L Ngidi', 'non_striker': 'SPD Smith', 'runs': {'batter': 0, 'extras': 0, 'total': 0}}, {'batter': 'DA Warner', 'bowler': 'L Ngidi', 'non_striker': 'SPD Smith', 'runs': {'batter': 0, 'extras': 0, 'total': 0}}, {'batter': 'DA Warner', 'bowler': 'L Ngidi', 'non_striker': 'SPD Smith', 'runs': {'batter': 0, 'extras': 0, 'total': 0}}, {'batter': 'DA Warner', 'bowler': 'L Ngidi', 'non_striker': 'SPD Smith', 'runs': {'batter': 0, 'extras': 0, 'total': 0}}, {'batter': 'DA Warner', 'bowler': 'L Ngidi', 'non_striker': 'SPD Smith', 'runs': {'batter': 1, 'extras': 0, 'total': 1}}]}, {'over': 55, 'deliveries': [{'batter': 'DA Warner', 'bowler': 'KA Maharaj', 'non_striker': 'SPD Smith', 'runs': {'batter': 2, 'extras': 0, 'total': 2}}, {'batter': 'DA Warner', 'bowler': 'KA Maharaj', 'non_striker': 'SPD Smith', 'runs': {'batter': 0, 'extras': 0, 'total': 0}}, {'batter': 'DA Warner', 'bowler': 'KA Maharaj', 'non_striker': 'SPD Smith', 'runs': {'batter': 0, 'extras': 0, 'total': 0}}, {'batter': 'DA Warner', 'bowler': 'KA Maharaj', 'non_striker': 'SPD Smith', 'runs': {'batter': 0, 'extras': 0, 'total': 0}}, {'batter': 'DA Warner', 'bowler': 'KA Maharaj', 'non_striker': 'SPD Smith', 'runs': {'batter': 0, 'extras': 0, 'total': 0}}, {'batter': 'DA Warner', 'bowler': 'KA Maharaj', 'non_striker': 'SPD Smith', 'runs': {'batter': 0, 'extras': 0, 'total': 0}}]}, {'over': 56, 'deliveries': [{'batter': 'SPD Smith', 'bowler': 'M Jansen', 'non_striker': 'DA Warner', 'runs': {'batter': 0, 'extras': 0, 'total': 0}}, {'batter': 'SPD Smith', 'bowler': 'M Jansen', 'non_striker': 'DA Warner', 'runs': {'batter': 0, 'extras': 0, 'total': 0}}, {'batter': 'SPD Smith', 'bowler': 'M Jansen', 'non_striker': 'DA Warner', 'runs': {'batter': 1, 'extras': 0, 'total': 1}}, {'batter': 'DA Warner', 'bowler': 'M Jansen', 'non_striker': 'SPD Smith', 'runs': {'batter': 0, 'extras': 0, 'total': 0}}, {'batter': 'DA Warner', 'bowler': 'M Jansen', 'non_striker': 'SPD Smith', 'runs': {'batter': 1, 'extras': 0, 'total': 1}}, {'batter': 'SPD Smith', 'bowler': 'M Jansen', 'non_striker': 'DA Warner', 'runs': {'batter': 4, 'extras': 0, 'total': 4}}]}, {'over': 57, 'deliveries': [{'batter': 'DA Warner', 'bowler': 'KA Maharaj', 'non_striker': 'SPD Smith', 'runs': {'batter': 4, 'extras': 0, 'total': 4}}, {'batter': 'DA Warner', 'bowler': 'KA Maharaj', 'non_striker': 'SPD Smith', 'runs': {'batter': 0, 'extras': 0, 'total': 0}}, {'batter': 'DA Warner', 'bowler': 'KA Maharaj', 'non_striker': 'SPD Smith', 'runs': {'batter': 0, 'extras': 0, 'total': 0}}, {'batter': 'DA Warner', 'bowler': 'KA Maharaj', 'non_striker': 'SPD Smith', 'runs': {'batter': 0, 'extras': 0, 'total': 0}}, {'batter': 'DA Warner', 'bowler': 'KA Maharaj', 'non_striker': 'SPD Smith', 'runs': {'batter': 1, 'extras': 0, 'total': 1}}, {'batter': 'SPD Smith', 'bowler': 'KA Maharaj', 'non_striker': 'DA Warner', 'runs': {'batter': 1, 'extras': 0, 'total': 1}}]}, {'over': 58, 'deliveries': [{'batter': 'SPD Smith', 'bowler': 'M Jansen', 'non_striker': 'DA Warner', 'runs': {'batter': 0, 'extras': 0, 'total': 0}}, {'batter': 'SPD Smith', 'bowler': 'M Jansen', 'non_striker': 'DA Warner', 'runs': {'batter': 1, 'extras': 0, 'total': 1}}, {'batter': 'DA Warner', 'bowler': 'M Jansen', 'non_striker': 'SPD Smith', 'runs': {'batter': 0, 'extras': 0, 'total': 0}}, {'batter': 'DA Warner', 'bowler': 'M Jansen', 'non_striker': 'SPD Smith', 'runs': {'batter': 0, 'extras': 0, 'total': 0}}, {'batter': 'DA Warner', 'bowler': 'M Jansen', 'extras': {'noballs': 1}, 'non_striker': 'SPD Smith', 'runs': {'batter': 1, 'extras': 1, 'total': 2}}, {'batter': 'SPD Smith', 'bowler': 'M Jansen', 'non_striker': 'DA Warner', 'runs': {'batter': 0, 'extras': 0, 'total': 0}}, {'batter': 'SPD Smith', 'bowler': 'M Jansen', 'non_striker': 'DA Warner', 'runs': {'batter': 2, 'extras': 0, 'total': 2}}]}, {'over': 59, 'deliveries': [{'batter': 'DA Warner', 'bowler': 'KA Maharaj', 'non_striker': 'SPD Smith', 'runs': {'batter': 0, 'extras': 0, 'total': 0}}, {'batter': 'DA Warner', 'bowler': 'KA Maharaj', 'non_striker': 'SPD Smith', 'runs': {'batter': 1, 'extras': 0, 'total': 1}}, {'batter': 'SPD Smith', 'bowler': 'KA Maharaj', 'non_striker': 'DA Warner', 'runs': {'batter': 0, 'extras': 0, 'total': 0}}, {'batter': 'SPD Smith', 'bowler': 'KA Maharaj', 'non_striker': 'DA Warner', 'runs': {'batter': 0, 'extras': 0, 'total': 0}}, {'batter': 'SPD Smith', 'bowler': 'KA Maharaj', 'non_striker': 'DA Warner', 'runs': {'batter': 1, 'extras': 0, 'total': 1}}, {'batter': 'DA Warner', 'bowler': 'KA Maharaj', 'non_striker': 'SPD Smith', 'runs': {'batter': 0, 'extras': 0, 'total': 0}}]}, {'over': 60, 'deliveries': [{'batter': 'SPD Smith', 'bowler': 'M Jansen', 'non_striker': 'DA Warner', 'runs': {'batter': 0, 'extras': 0, 'total': 0}}, {'batter': 'SPD Smith', 'bowler': 'M Jansen', 'non_striker': 'DA Warner', 'runs': {'batter': 0, 'extras': 0, 'total': 0}}, {'batter': 'SPD Smith', 'bowler': 'M Jansen', 'non_striker': 'DA Warner', 'runs': {'batter': 0, 'extras': 0, 'total': 0}}, {'batter': 'SPD Smith', 'bowler': 'M Jansen', 'non_striker': 'DA Warner', 'runs': {'batter': 1, 'extras': 0, 'total': 1}}, {'batter': 'DA Warner', 'bowler': 'M Jansen', 'non_striker': 'SPD Smith', 'runs': {'batter': 1, 'extras': 0, 'total': 1}}, {'batter': 'SPD Smith', 'bowler': 'M Jansen', 'non_striker': 'DA Warner', 'runs': {'batter': 1, 'extras': 0, 'total': 1}}]}, {'over': 61, 'deliveries': [{'batter': 'SPD Smith', 'bowler': 'KA Maharaj', 'non_striker': 'DA Warner', 'runs': {'batter': 1, 'extras': 0, 'total': 1}}, {'batter': 'DA Warner', 'bowler': 'KA Maharaj', 'non_striker': 'SPD Smith', 'runs': {'batter': 0, 'extras': 0, 'total': 0}}, {'batter': 'DA Warner', 'bowler': 'KA Maharaj', 'non_striker': 'SPD Smith', 'runs': {'batter': 0, 'extras': 0, 'total': 0}}, {'batter': 'DA Warner', 'bowler': 'KA Maharaj', 'non_striker': 'SPD Smith', 'runs': {'batter': 1, 'extras': 0, 'total': 1}}, {'batter': 'SPD Smith', 'bowler': 'KA Maharaj', 'non_striker': 'DA Warner', 'runs': {'batter': 0, 'extras': 0, 'total': 0}}, {'batter': 'SPD Smith', 'bowler': 'KA Maharaj', 'non_striker': 'DA Warner', 'runs': {'batter': 0, 'extras': 0, 'total': 0}}]}, {'over': 62, 'deliveries': [{'batter': 'DA Warner', 'bowler': 'L Ngidi', 'non_striker': 'SPD Smith', 'runs': {'batter': 1, 'extras': 0, 'total': 1}}, {'batter': 'SPD Smith', 'bowler': 'L Ngidi', 'non_striker': 'DA Warner', 'runs': {'batter': 0, 'extras': 0, 'total': 0}}, {'batter': 'SPD Smith', 'bowler': 'L Ngidi', 'non_striker': 'DA Warner', 'runs': {'batter': 0, 'extras': 0, 'total': 0}}, {'batter': 'SPD Smith', 'bowler': 'L Ngidi', 'non_striker': 'DA Warner', 'runs': {'batter': 0, 'extras': 0, 'total': 0}}, {'batter': 'SPD Smith', 'bowler': 'L Ngidi', 'non_striker': 'DA Warner', 'runs': {'batter': 0, 'extras': 0, 'total': 0}}, {'batter': 'SPD Smith', 'bowler': 'L Ngidi', 'non_striker': 'DA Warner', 'runs': {'batter': 2, 'extras': 0, 'total': 2}}]}, {'over': 63, 'deliveries': [{'batter': 'DA Warner', 'bowler': 'KA Maharaj', 'non_striker': 'SPD Smith', 'runs': {'batter': 1, 'extras': 0, 'total': 1}}, {'batter': 'SPD Smith', 'bowler': 'KA Maharaj', 'non_striker': 'DA Warner', 'runs': {'batter': 1, 'extras': 0, 'total': 1}}, {'batter': 'DA Warner', 'bowler': 'KA Maharaj', 'non_striker': 'SPD Smith', 'runs': {'batter': 0, 'extras': 0, 'total': 0}}, {'batter': 'DA Warner', 'bowler': 'KA Maharaj', 'non_striker': 'SPD Smith', 'runs': {'batter': 0, 'extras': 0, 'total': 0}}, {'batter': 'DA Warner', 'bowler': 'KA Maharaj', 'non_striker': 'SPD Smith', 'runs': {'batter': 1, 'extras': 0, 'total': 1}}, {'batter': 'SPD Smith', 'bowler': 'KA Maharaj', 'non_striker': 'DA Warner', 'runs': {'batter': 0, 'extras': 0, 'total': 0}}]}, {'over': 64, 'deliveries': [{'batter': 'DA Warner', 'bowler': 'L Ngidi', 'non_striker': 'SPD Smith', 'runs': {'batter': 0, 'extras': 0, 'total': 0}}, {'batter': 'DA Warner', 'bowler': 'L Ngidi', 'non_striker': 'SPD Smith', 'runs': {'batter': 1, 'extras': 0, 'total': 1}}, {'batter': 'SPD Smith', 'bowler': 'L Ngidi', 'non_striker': 'DA Warner', 'runs': {'batter': 4, 'extras': 0, 'total': 4}}, {'batter': 'SPD Smith', 'bowler': 'L Ngidi', 'non_striker': 'DA Warner', 'runs': {'batter': 0, 'extras': 0, 'total': 0}}, {'batter': 'SPD Smith', 'bowler': 'L Ngidi', 'non_striker': 'DA Warner', 'runs': {'batter': 4, 'extras': 0, 'total': 4}}, {'batter': 'SPD Smith', 'bowler': 'L Ngidi', 'non_striker': 'DA Warner', 'runs': {'batter': 0, 'extras': 0, 'total': 0}}]}, {'over': 65, 'deliveries': [{'batter': 'DA Warner', 'bowler': 'KA Maharaj', 'non_striker': 'SPD Smith', 'runs': {'batter': 1, 'extras': 0, 'total': 1}}, {'batter': 'SPD Smith', 'bowler': 'KA Maharaj', 'non_striker': 'DA Warner', 'runs': {'batter': 0, 'extras': 0, 'total': 0}}, {'batter': 'SPD Smith', 'bowler': 'KA Maharaj', 'non_striker': 'DA Warner', 'runs': {'batter': 0, 'extras': 0, 'total': 0}}, {'batter': 'SPD Smith', 'bowler': 'KA Maharaj', 'non_striker': 'DA Warner', 'runs': {'batter': 0, 'extras': 0, 'total': 0}}, {'batter': 'SPD Smith', 'bowler': 'KA Maharaj', 'non_striker': 'DA Warner', 'runs': {'batter': 0, 'extras': 0, 'total': 0}}, {'batter': 'SPD Smith', 'bowler': 'KA Maharaj', 'non_striker': 'DA Warner', 'runs': {'batter': 0, 'extras': 0, 'total': 0}}]}, {'over': 66, 'deliveries': [{'batter': 'DA Warner', 'bowler': 'L Ngidi', 'non_striker': 'SPD Smith', 'runs': {'batter': 4, 'extras': 0, 'total': 4}}, {'batter': 'DA Warner', 'bowler': 'L Ngidi', 'non_striker': 'SPD Smith', 'runs': {'batter': 0, 'extras': 0, 'total': 0}}, {'batter': 'DA Warner', 'bowler': 'L Ngidi', 'non_striker': 'SPD Smith', 'runs': {'batter': 1, 'extras': 0, 'total': 1}}, {'batter': 'SPD Smith', 'bowler': 'L Ngidi', 'non_striker': 'DA Warner', 'runs': {'batter': 4, 'extras': 0, 'total': 4}}, {'batter': 'SPD Smith', 'bowler': 'L Ngidi', 'non_striker': 'DA Warner', 'runs': {'batter': 0, 'extras': 0, 'total': 0}}, {'batter': 'SPD Smith', 'bowler': 'L Ngidi', 'non_striker': 'DA Warner', 'runs': {'batter': 0, 'extras': 0, 'total': 0}}]}, {'over': 67, 'deliveries': [{'batter': 'DA Warner', 'bowler': 'KA Maharaj', 'non_striker': 'SPD Smith', 'runs': {'batter': 2, 'extras': 0, 'total': 2}}, {'batter': 'DA Warner', 'bowler': 'KA Maharaj', 'non_striker': 'SPD Smith', 'runs': {'batter': 2, 'extras': 0, 'total': 2}}, {'batter': 'DA Warner', 'bowler': 'KA Maharaj', 'non_striker': 'SPD Smith', 'runs': {'batter': 0, 'extras': 0, 'total': 0}}, {'batter': 'DA Warner', 'bowler': 'KA Maharaj', 'non_striker': 'SPD Smith', 'runs': {'batter': 0, 'extras': 0, 'total': 0}}, {'batter': 'DA Warner', 'bowler': 'KA Maharaj', 'non_striker': 'SPD Smith', 'runs': {'batter': 4, 'extras': 0, 'total': 4}}, {'batter': 'DA Warner', 'bowler': 'KA Maharaj', 'non_striker': 'SPD Smith', 'runs': {'batter': 1, 'extras': 0, 'total': 1}}]}, {'over': 68, 'deliveries': [{'batter': 'DA Warner', 'bowler': 'K Rabada', 'non_striker': 'SPD Smith', 'runs': {'batter': 4, 'extras': 0, 'total': 4}}, {'batter': 'DA Warner', 'bowler': 'K Rabada', 'non_striker': 'SPD Smith', 'runs': {'batter': 1, 'extras': 0, 'total': 1}}, {'batter': 'SPD Smith', 'bowler': 'K Rabada', 'non_striker': 'DA Warner', 'runs': {'batter': 0, 'extras': 0, 'total': 0}}, {'batter': 'SPD Smith', 'bowler': 'K Rabada', 'non_striker': 'DA Warner', 'runs': {'batter': 4, 'extras': 0, 'total': 4}}, {'batter': 'SPD Smith', 'bowler': 'K Rabada', 'non_striker': 'DA Warner', 'runs': {'batter': 1, 'extras': 0, 'total': 1}}, {'batter': 'DA Warner', 'bowler': 'K Rabada', 'non_striker': 'SPD Smith', 'runs': {'batter': 1, 'extras': 0, 'total': 1}}]}, {'over': 69, 'deliveries': [{'batter': 'DA Warner', 'bowler': 'KA Maharaj', 'non_striker': 'SPD Smith', 'runs': {'batter': 1, 'extras': 0, 'total': 1}}, {'batter': 'SPD Smith', 'bowler': 'KA Maharaj', 'non_striker': 'DA Warner', 'runs': {'batter': 0, 'extras': 0, 'total': 0}}, {'batter': 'SPD Smith', 'bowler': 'KA Maharaj', 'non_striker': 'DA Warner', 'runs': {'batter': 0, 'extras': 0, 'total': 0}}, {'batter': 'SPD Smith', 'bowler': 'KA Maharaj', 'non_striker': 'DA Warner', 'runs': {'batter': 0, 'extras': 0, 'total': 0}}, {'batter': 'SPD Smith', 'bowler': 'KA Maharaj', 'non_striker': 'DA Warner', 'runs': {'batter': 0, 'extras': 0, 'total': 0}}, {'batter': 'SPD Smith', 'bowler': 'KA Maharaj', 'non_striker': 'DA Warner', 'runs': {'batter': 1, 'extras': 0, 'total': 1}}]}, {'over': 70, 'deliveries': [{'batter': 'SPD Smith', 'bowler': 'K Rabada', 'extras': {'noballs': 1}, 'non_striker': 'DA Warner', 'runs': {'batter': 0, 'extras': 1, 'total': 1}}, {'batter': 'SPD Smith', 'bowler': 'K Rabada', 'non_striker': 'DA Warner', 'runs': {'batter': 1, 'extras': 0, 'total': 1}}, {'batter': 'DA Warner', 'bowler': 'K Rabada', 'non_striker': 'SPD Smith', 'runs': {'batter': 0, 'extras': 0, 'total': 0}}, {'batter': 'DA Warner', 'bowler': 'K Rabada', 'non_striker': 'SPD Smith', 'runs': {'batter': 4, 'extras': 0, 'total': 4}}, {'batter': 'DA Warner', 'bowler': 'K Rabada', 'non_striker': 'SPD Smith', 'runs': {'batter': 0, 'extras': 0, 'total': 0}}, {'batter': 'DA Warner', 'bowler': 'K Rabada', 'non_striker': 'SPD Smith', 'runs': {'batter': 2, 'extras': 0, 'total': 2}}, {'batter': 'DA Warner', 'bowler': 'K Rabada', 'non_striker': 'SPD Smith', 'runs': {'batter': 1, 'extras': 0, 'total': 1}}]}, {'over': 71, 'deliveries': [{'batter': 'DA Warner', 'bowler': 'KA Maharaj', 'non_striker': 'SPD Smith', 'runs': {'batter': 6, 'extras': 0, 'total': 6}}, {'batter': 'DA Warner', 'bowler': 'KA Maharaj', 'non_striker': 'SPD Smith', 'runs': {'batter': 1, 'extras': 0, 'total': 1}}, {'batter': 'SPD Smith', 'bowler': 'KA Maharaj', 'non_striker': 'DA Warner', 'runs': {'batter': 2, 'extras': 0, 'total': 2}}, {'batter': 'SPD Smith', 'bowler': 'KA Maharaj', 'non_striker': 'DA Warner', 'runs': {'batter': 2, 'extras': 0, 'total': 2}}, {'batter': 'SPD Smith', 'bowler': 'KA Maharaj', 'non_striker': 'DA Warner', 'runs': {'batter': 0, 'extras': 0, 'total': 0}}, {'batter': 'SPD Smith', 'bowler': 'KA Maharaj', 'non_striker': 'DA Warner', 'runs': {'batter': 0, 'extras': 0, 'total': 0}}]}, {'over': 72, 'deliveries': [{'batter': 'DA Warner', 'bowler': 'A Nortje', 'non_striker': 'SPD Smith', 'runs': {'batter': 0, 'extras': 0, 'total': 0}}, {'batter': 'DA Warner', 'bowler': 'A Nortje', 'non_striker': 'SPD Smith', 'review': {'by': 'South Africa', 'umpire': 'PR Reiffel', 'batter': 'DA Warner', 'decision': 'struck down'}, 'runs': {'batter': 0, 'extras': 0, 'total': 0}}, {'batter': 'DA Warner', 'bowler': 'A Nortje', 'non_striker': 'SPD Smith', 'runs': {'batter': 2, 'extras': 0, 'total': 2}}, {'batter': 'DA Warner', 'bowler': 'A Nortje', 'non_striker': 'SPD Smith', 'runs': {'batter': 1, 'extras': 0, 'total': 1}}, {'batter': 'SPD Smith', 'bowler': 'A Nortje', 'non_striker': 'DA Warner', 'runs': {'batter': 0, 'extras': 0, 'total': 0}}, {'batter': 'SPD Smith', 'bowler': 'A Nortje', 'non_striker': 'DA Warner', 'runs': {'batter': 0, 'extras': 0, 'total': 0}}]}, {'over': 73, 'deliveries': [{'batter': 'DA Warner', 'bowler': 'KA Maharaj', 'non_striker': 'SPD Smith', 'runs': {'batter': 4, 'extras': 0, 'total': 4}}, {'batter': 'DA Warner', 'bowler': 'KA Maharaj', 'non_striker': 'SPD Smith', 'runs': {'batter': 6, 'extras': 0, 'total': 6}}, {'batter': 'DA Warner', 'bowler': 'KA Maharaj', 'non_striker': 'SPD Smith', 'runs': {'batter': 1, 'extras': 0, 'total': 1}}, {'batter': 'SPD Smith', 'bowler': 'KA Maharaj', 'non_striker': 'DA Warner', 'runs': {'batter': 1, 'extras': 0, 'total': 1}}, {'batter': 'DA Warner', 'bowler': 'KA Maharaj', 'non_striker': 'SPD Smith', 'runs': {'batter': 2, 'extras': 0, 'total': 2}}, {'batter': 'DA Warner', 'bowler': 'KA Maharaj', 'non_striker': 'SPD Smith', 'runs': {'batter': 2, 'extras': 0, 'total': 2}}]}, {'over': 74, 'deliveries': [{'batter': 'SPD Smith', 'bowler': 'A Nortje', 'non_striker': 'DA Warner', 'runs': {'batter': 0, 'extras': 0, 'total': 0}, 'wickets': [{'player_out': 'SPD Smith', 'fielders': [{'name': 'TB de Bruyn'}], 'kind': 'caught'}]}, {'batter': 'TM Head', 'bowler': 'A Nortje', 'non_striker': 'DA Warner', 'runs': {'batter': 1, 'extras': 0, 'total': 1}}, {'batter': 'DA Warner', 'bowler': 'A Nortje', 'non_striker': 'TM Head', 'runs': {'batter': 0, 'extras': 0, 'total': 0}}, {'batter': 'DA Warner', 'bowler': 'A Nortje', 'non_striker': 'TM Head', 'runs': {'batter': 0, 'extras': 0, 'total': 0}}, {'batter': 'DA Warner', 'bowler': 'A Nortje', 'non_striker': 'TM Head', 'runs': {'batter': 1, 'extras': 0, 'total': 1}}, {'batter': 'TM Head', 'bowler': 'A Nortje', 'non_striker': 'DA Warner', 'runs': {'batter': 0, 'extras': 0, 'total': 0}}]}, {'over': 75, 'deliveries': [{'batter': 'DA Warner', 'bowler': 'KA Maharaj', 'non_striker': 'TM Head', 'runs': {'batter': 1, 'extras': 0, 'total': 1}}, {'batter': 'TM Head', 'bowler': 'KA Maharaj', 'non_striker': 'DA Warner', 'runs': {'batter': 0, 'extras': 0, 'total': 0}}, {'batter': 'TM Head', 'bowler': 'KA Maharaj', 'non_striker': 'DA Warner', 'runs': {'batter': 1, 'extras': 0, 'total': 1}}, {'batter': 'DA Warner', 'bowler': 'KA Maharaj', 'non_striker': 'TM Head', 'runs': {'batter': 0, 'extras': 0, 'total': 0}}, {'batter': 'DA Warner', 'bowler': 'KA Maharaj', 'non_striker': 'TM Head', 'runs': {'batter': 0, 'extras': 0, 'total': 0}}, {'batter': 'DA Warner', 'bowler': 'KA Maharaj', 'non_striker': 'TM Head', 'runs': {'batter': 1, 'extras': 0, 'total': 1}}]}, {'over': 76, 'deliveries': [{'batter': 'DA Warner', 'bowler': 'L Ngidi', 'non_striker': 'TM Head', 'runs': {'batter': 0, 'extras': 0, 'total': 0}}, {'batter': 'DA Warner', 'bowler': 'L Ngidi', 'non_striker': 'TM Head', 'runs': {'batter': 0, 'extras': 0, 'total': 0}}, {'batter': 'DA Warner', 'bowler': 'L Ngidi', 'non_striker': 'TM Head', 'runs': {'batter': 1, 'extras': 0, 'total': 1}}, {'batter': 'TM Head', 'bowler': 'L Ngidi', 'non_striker': 'DA Warner', 'runs': {'batter': 4, 'extras': 0, 'total': 4}}, {'batter': 'TM Head', 'bowler': 'L Ngidi', 'non_striker': 'DA Warner', 'runs': {'batter': 1, 'extras': 0, 'total': 1}}, {'batter': 'DA Warner', 'bowler': 'L Ngidi', 'non_striker': 'TM Head', 'runs': {'batter': 4, 'extras': 0, 'total': 4}}]}, {'over': 77, 'deliveries': [{'batter': 'TM Head', 'bowler': 'KA Maharaj', 'non_striker': 'C Green', 'replacements': {'role': [{'in': 'C Green', 'out': 'DA Warner', 'reason': 'injury', 'role': 'batter'}]}, 'runs': {'batter': 0, 'extras': 0, 'total': 0}}, {'batter': 'TM Head', 'bowler': 'KA Maharaj', 'non_striker': 'C Green', 'runs': {'batter': 0, 'extras': 0, 'total': 0}}, {'batter': 'TM Head', 'bowler': 'KA Maharaj', 'non_striker': 'C Green', 'runs': {'batter': 0, 'extras': 0, 'total': 0}}, {'batter': 'TM Head', 'bowler': 'KA Maharaj', 'non_striker': 'C Green', 'runs': {'batter': 1, 'extras': 0, 'total': 1}}, {'batter': 'C Green', 'bowler': 'KA Maharaj', 'non_striker': 'TM Head', 'runs': {'batter': 0, 'extras': 0, 'total': 0}}, {'batter': 'C Green', 'bowler': 'KA Maharaj', 'non_striker': 'TM Head', 'runs': {'batter': 0, 'extras': 0, 'total': 0}}]}, {'over': 78, 'deliveries': [{'batter': 'TM Head', 'bowler': 'L Ngidi', 'non_striker': 'C Green', 'runs': {'batter': 4, 'extras': 0, 'total': 4}}, {'batter': 'TM Head', 'bowler': 'L Ngidi', 'non_striker': 'C Green', 'runs': {'batter': 4, 'extras': 0, 'total': 4}}, {'batter': 'TM Head', 'bowler': 'L Ngidi', 'non_striker': 'C Green', 'runs': {'batter': 0, 'extras': 0, 'total': 0}}, {'batter': 'TM Head', 'bowler': 'L Ngidi', 'non_striker': 'C Green', 'runs': {'batter': 0, 'extras': 0, 'total': 0}}, {'batter': 'TM Head', 'bowler': 'L Ngidi', 'non_striker': 'C Green', 'runs': {'batter': 1, 'extras': 0, 'total': 1}}, {'batter': 'C Green', 'bowler': 'L Ngidi', 'non_striker': 'TM Head', 'runs': {'batter': 0, 'extras': 0, 'total': 0}}]}, {'over': 79, 'deliveries': [{'batter': 'TM Head', 'bowler': 'KA Maharaj', 'non_striker': 'C Green', 'runs': {'batter': 0, 'extras': 0, 'total': 0}}, {'batter': 'TM Head', 'bowler': 'KA Maharaj', 'non_striker': 'C Green', 'runs': {'batter': 0, 'extras': 0, 'total': 0}}, {'batter': 'TM Head', 'bowler': 'KA Maharaj', 'non_striker': 'C Green', 'runs': {'batter': 0, 'extras': 0, 'total': 0}}, {'batter': 'TM Head', 'bowler': 'KA Maharaj', 'non_striker': 'C Green', 'runs': {'batter': 4, 'extras': 0, 'total': 4}}, {'batter': 'TM Head', 'bowler': 'KA Maharaj', 'non_striker': 'C Green', 'runs': {'batter': 1, 'extras': 0, 'total': 1}}, {'batter': 'C Green', 'bowler': 'KA Maharaj', 'non_striker': 'TM Head', 'runs': {'batter': 0, 'extras': 0, 'total': 0}}]}, {'over': 80, 'deliveries': [{'batter': 'TM Head', 'bowler': 'A Nortje', 'non_striker': 'C Green', 'runs': {'batter': 0, 'extras': 0, 'total': 0}}, {'batter': 'TM Head', 'bowler': 'A Nortje', 'non_striker': 'C Green', 'runs': {'batter': 0, 'extras': 0, 'total': 0}}, {'batter': 'TM Head', 'bowler': 'A Nortje', 'non_striker': 'C Green', 'runs': {'batter': 1, 'extras': 0, 'total': 1}}, {'batter': 'C Green', 'bowler': 'A Nortje', 'non_striker': 'TM Head', 'runs': {'batter': 0, 'extras': 0, 'total': 0}}, {'batter': 'C Green', 'bowler': 'A Nortje', 'non_striker': 'TM Head', 'runs': {'batter': 0, 'extras': 0, 'total': 0}}, {'batter': 'C Green', 'bowler': 'A Nortje', 'non_striker': 'TM Head', 'runs': {'batter': 0, 'extras': 0, 'total': 0}}]}, {'over': 81, 'deliveries': [{'batter': 'TM Head', 'bowler': 'M Jansen', 'non_striker': 'C Green', 'runs': {'batter': 0, 'extras': 0, 'total': 0}}, {'batter': 'TM Head', 'bowler': 'M Jansen', 'non_striker': 'C Green', 'runs': {'batter': 6, 'extras': 0, 'total': 6}}, {'batter': 'TM Head', 'bowler': 'M Jansen', 'non_striker': 'C Green', 'runs': {'batter': 0, 'extras': 0, 'total': 0}}, {'batter': 'TM Head', 'bowler': 'M Jansen', 'non_striker': 'C Green', 'runs': {'batter': 0, 'extras': 0, 'total': 0}}, {'batter': 'TM Head', 'bowler': 'M Jansen', 'non_striker': 'C Green', 'runs': {'batter': 0, 'extras': 0, 'total': 0}}, {'batter': 'TM Head', 'bowler': 'M Jansen', 'non_striker': 'C Green', 'runs': {'batter': 4, 'extras': 0, 'total': 4}}]}, {'over': 82, 'deliveries': [{'batter': 'C Green', 'bowler': 'A Nortje', 'non_striker': 'TM Head', 'runs': {'batter': 0, 'extras': 0, 'total': 0}}, {'batter': 'C Green', 'bowler': 'A Nortje', 'non_striker': 'TM Head', 'runs': {'batter': 0, 'extras': 0, 'total': 0}}, {'batter': 'C Green', 'bowler': 'A Nortje', 'non_striker': 'TM Head', 'runs': {'batter': 0, 'extras': 0, 'total': 0}}, {'batter': 'C Green', 'bowler': 'A Nortje', 'non_striker': 'TM Head', 'runs': {'batter': 0, 'extras': 0, 'total': 0}}, {'batter': 'C Green', 'bowler': 'A Nortje', 'non_striker': 'TM Head', 'runs': {'batter': 0, 'extras': 0, 'total': 0}}, {'batter': 'C Green', 'bowler': 'A Nortje', 'non_striker': 'TM Head', 'runs': {'batter': 2, 'extras': 0, 'total': 2}}]}, {'over': 83, 'deliveries': [{'batter': 'TM Head', 'bowler': 'M Jansen', 'non_striker': 'C Green', 'runs': {'batter': 1, 'extras': 0, 'total': 1}}, {'batter': 'C Green', 'bowler': 'M Jansen', 'non_striker': 'TM Head', 'runs': {'batter': 0, 'extras': 0, 'total': 0}}, {'batter': 'C Green', 'bowler': 'M Jansen', 'non_striker': 'TM Head', 'runs': {'batter': 0, 'extras': 0, 'total': 0}}, {'batter': 'C Green', 'bowler': 'M Jansen', 'non_striker': 'TM Head', 'runs': {'batter': 0, 'extras': 0, 'total': 0}}, {'batter': 'C Green', 'bowler': 'M Jansen', 'non_striker': 'TM Head', 'runs': {'batter': 0, 'extras': 0, 'total': 0}}, {'batter': 'C Green', 'bowler': 'M Jansen', 'non_striker': 'TM Head', 'runs': {'batter': 4, 'extras': 0, 'total': 4}}]}, {'over': 84, 'deliveries': [{'batter': 'TM Head', 'bowler': 'A Nortje', 'non_striker': 'C Green', 'runs': {'batter': 0, 'extras': 0, 'total': 0}}, {'batter': 'TM Head', 'bowler': 'A Nortje', 'non_striker': 'C Green', 'runs': {'batter': 1, 'extras': 0, 'total': 1}}, {'batter': 'C Green', 'bowler': 'A Nortje', 'non_striker': 'TM Head', 'runs': {'batter': 0, 'extras': 0, 'total': 0}}, {'batter': 'C Green', 'bowler': 'A Nortje', 'non_striker': 'TM Head', 'runs': {'batter': 0, 'extras': 0, 'total': 0}}, {'batter': 'AT Carey', 'bowler': 'A Nortje', 'non_striker': 'TM Head', 'replacements': {'role': [{'in': 'AT Carey', 'out': 'C Green', 'reason': 'injury', 'role': 'batter'}]}, 'runs': {'batter': 2, 'extras': 0, 'total': 2}}, {'batter': 'AT Carey', 'bowler': 'A Nortje', 'non_striker': 'TM Head', 'runs': {'batter': 0, 'extras': 0, 'total': 0}}]}, {'over': 85, 'deliveries': [{'batter': 'TM Head', 'bowler': 'M Jansen', 'non_striker': 'AT Carey', 'runs': {'batter': 0, 'extras': 0, 'total': 0}}, {'batter': 'TM Head', 'bowler': 'M Jansen', 'non_striker': 'AT Carey', 'runs': {'batter': 0, 'extras': 0, 'total': 0}}, {'batter': 'TM Head', 'bowler': 'M Jansen', 'non_striker': 'AT Carey', 'runs': {'batter': 1, 'extras': 0, 'total': 1}}, {'batter': 'AT Carey', 'bowler': 'M Jansen', 'non_striker': 'TM Head', 'runs': {'batter': 0, 'extras': 0, 'total': 0}}, {'batter': 'AT Carey', 'bowler': 'M Jansen', 'non_striker': 'TM Head', 'runs': {'batter': 0, 'extras': 0, 'total': 0}}, {'batter': 'AT Carey', 'bowler': 'M Jansen', 'non_striker': 'TM Head', 'runs': {'batter': 0, 'extras': 0, 'total': 0}}]}, {'over': 86, 'deliveries': [{'batter': 'TM Head', 'bowler': 'A Nortje', 'extras': {'legbyes': 1}, 'non_striker': 'AT Carey', 'runs': {'batter': 0, 'extras': 1, 'total': 1}}, {'batter': 'AT Carey', 'bowler': 'A Nortje', 'non_striker': 'TM Head', 'runs': {'batter': 0, 'extras': 0, 'total': 0}}, {'batter': 'AT Carey', 'bowler': 'A Nortje', 'non_striker': 'TM Head', 'runs': {'batter': 0, 'extras': 0, 'total': 0}}, {'batter': 'AT Carey', 'bowler': 'A Nortje', 'non_striker': 'TM Head', 'runs': {'batter': 0, 'extras': 0, 'total': 0}}, {'batter': 'AT Carey', 'bowler': 'A Nortje', 'non_striker': 'TM Head', 'runs': {'batter': 0, 'extras': 0, 'total': 0}}, {'batter': 'AT Carey', 'bowler': 'A Nortje', 'non_striker': 'TM Head', 'runs': {'batter': 0, 'extras': 0, 'total': 0}}]}, {'over': 87, 'deliveries': [{'batter': 'TM Head', 'bowler': 'M Jansen', 'non_striker': 'AT Carey', 'runs': {'batter': 0, 'extras': 0, 'total': 0}}, {'batter': 'TM Head', 'bowler': 'M Jansen', 'non_striker': 'AT Carey', 'runs': {'batter': 0, 'extras': 0, 'total': 0}}, {'batter': 'TM Head', 'bowler': 'M Jansen', 'non_striker': 'AT Carey', 'runs': {'batter': 1, 'extras': 0, 'total': 1}}, {'batter': 'AT Carey', 'bowler': 'M Jansen', 'non_striker': 'TM Head', 'runs': {'batter': 0, 'extras': 0, 'total': 0}}, {'batter': 'AT Carey', 'bowler': 'M Jansen', 'non_striker': 'TM Head', 'runs': {'batter': 0, 'extras': 0, 'total': 0}}, {'batter': 'AT Carey', 'bowler': 'M Jansen', 'non_striker': 'TM Head', 'runs': {'batter': 0, 'extras': 0, 'total': 0}}]}, {'over': 88, 'deliveries': [{'batter': 'TM Head', 'bowler': 'K Rabada', 'non_striker': 'AT Carey', 'runs': {'batter': 3, 'extras': 0, 'total': 3}}, {'batter': 'AT Carey', 'bowler': 'K Rabada', 'non_striker': 'TM Head', 'runs': {'batter': 0, 'extras': 0, 'total': 0}}, {'batter': 'AT Carey', 'bowler': 'K Rabada', 'non_striker': 'TM Head', 'runs': {'batter': 0, 'extras': 0, 'total': 0}}, {'batter': 'AT Carey', 'bowler': 'K Rabada', 'non_striker': 'TM Head', 'runs': {'batter': 0, 'extras': 0, 'total': 0}}, {'batter': 'AT Carey', 'bowler': 'K Rabada', 'non_striker': 'TM Head', 'runs': {'batter': 1, 'extras': 0, 'total': 1}}, {'batter': 'TM Head', 'bowler': 'K Rabada', 'non_striker': 'AT Carey', 'runs': {'batter': 0, 'extras': 0, 'total': 0}}]}, {'over': 89, 'deliveries': [{'batter': 'AT Carey', 'bowler': 'L Ngidi', 'non_striker': 'TM Head', 'runs': {'batter': 1, 'extras': 0, 'total': 1}}, {'batter': 'TM Head', 'bowler': 'KA Maharaj', 'non_striker': 'AT Carey', 'replacements': {'role': [{'in': 'KA Maharaj', 'out': 'L Ngidi', 'reason': 'injury', 'role': 'bowler'}]}, 'runs': {'batter': 0, 'extras': 0, 'total': 0}}, {'batter': 'TM Head', 'bowler': 'KA Maharaj', 'non_striker': 'AT Carey', 'runs': {'batter': 0, 'extras': 0, 'total': 0}}, {'batter': 'TM Head', 'bowler': 'KA Maharaj', 'non_striker': 'AT Carey', 'runs': {'batter': 0, 'extras': 0, 'total': 0}}, {'batter': 'TM Head', 'bowler': 'KA Maharaj', 'non_striker': 'AT Carey', 'runs': {'batter': 0, 'extras': 0, 'total': 0}}, {'batter': 'TM Head', 'bowler': 'KA Maharaj', 'non_striker': 'AT Carey', 'runs': {'batter': 4, 'extras': 0, 'total': 4}}]}, {'over': 90, 'deliveries': [{'batter': 'AT Carey', 'bowler': 'K Rabada', 'non_striker': 'TM Head', 'runs': {'batter': 4, 'extras': 0, 'total': 4}}, {'batter': 'AT Carey', 'bowler': 'K Rabada', 'non_striker': 'TM Head', 'runs': {'batter': 0, 'extras': 0, 'total': 0}}, {'batter': 'AT Carey', 'bowler': 'K Rabada', 'non_striker': 'TM Head', 'runs': {'batter': 0, 'extras': 0, 'total': 0}}, {'batter': 'AT Carey', 'bowler': 'K Rabada', 'non_striker': 'TM Head', 'runs': {'batter': 1, 'extras': 0, 'total': 1}}, {'batter': 'TM Head', 'bowler': 'K Rabada', 'non_striker': 'AT Carey', 'runs': {'batter': 0, 'extras': 0, 'total': 0}}, {'batter': 'TM Head', 'bowler': 'K Rabada', 'non_striker': 'AT Carey', 'runs': {'batter': 4, 'extras': 0, 'total': 4}}]}, {'over': 91, 'deliveries': [{'batter': 'AT Carey', 'bowler': 'A Nortje', 'non_striker': 'TM Head', 'runs': {'batter': 1, 'extras': 0, 'total': 1}}, {'batter': 'TM Head', 'bowler': 'A Nortje', 'non_striker': 'AT Carey', 'runs': {'batter': 0, 'extras': 0, 'total': 0}}, {'batter': 'TM Head', 'bowler': 'A Nortje', 'non_striker': 'AT Carey', 'runs': {'batter': 0, 'extras': 0, 'total': 0}}, {'batter': 'TM Head', 'bowler': 'A Nortje', 'non_striker': 'AT Carey', 'runs': {'batter': 0, 'extras': 0, 'total': 0}}, {'batter': 'TM Head', 'bowler': 'A Nortje', 'non_striker': 'AT Carey', 'runs': {'batter': 1, 'extras': 0, 'total': 1}}, {'batter': 'AT Carey', 'bowler': 'A Nortje', 'non_striker': 'TM Head', 'runs': {'batter': 1, 'extras': 0, 'total': 1}}]}, {'over': 92, 'deliveries': [{'batter': 'AT Carey', 'bowler': 'K Rabada', 'non_striker': 'TM Head', 'runs': {'batter': 0, 'extras': 0, 'total': 0}}, {'batter': 'AT Carey', 'bowler': 'K Rabada', 'non_striker': 'TM Head', 'runs': {'batter': 0, 'extras': 0, 'total': 0}}, {'batter': 'AT Carey', 'bowler': 'K Rabada', 'non_striker': 'TM Head', 'runs': {'batter': 4, 'extras': 0, 'total': 4}}, {'batter': 'AT Carey', 'bowler': 'K Rabada', 'non_striker': 'TM Head', 'runs': {'batter': 0, 'extras': 0, 'total': 0}}, {'batter': 'AT Carey', 'bowler': 'K Rabada', 'non_striker': 'TM Head', 'runs': {'batter': 0, 'extras': 0, 'total': 0}}, {'batter': 'AT Carey', 'bowler': 'K Rabada', 'non_striker': 'TM Head', 'runs': {'batter': 0, 'extras': 0, 'total': 0}}]}, {'over': 93, 'deliveries': [{'batter': 'TM Head', 'bowler': 'A Nortje', 'non_striker': 'AT Carey', 'runs': {'batter': 0, 'extras': 0, 'total': 0}}, {'batter': 'TM Head', 'bowler': 'A Nortje', 'non_striker': 'AT Carey', 'runs': {'batter': 2, 'extras': 0, 'total': 2}}, {'batter': 'TM Head', 'bowler': 'A Nortje', 'non_striker': 'AT Carey', 'runs': {'batter': 0, 'extras': 0, 'total': 0}, 'wickets': [{'player_out': 'TM Head', 'kind': 'bowled'}]}, {'batter': 'DA Warner', 'bowler': 'A Nortje', 'non_striker': 'AT Carey', 'runs': {'batter': 0, 'extras': 0, 'total': 0}, 'wickets': [{'player_out': 'DA Warner', 'kind': 'bowled'}]}, {'batter': 'PJ Cummins', 'bowler': 'A Nortje', 'non_striker': 'AT Carey', 'runs': {'batter': 0, 'extras': 0, 'total': 0}}, {'batter': 'PJ Cummins', 'bowler': 'A Nortje', 'non_striker': 'AT Carey', 'runs': {'batter': 4, 'extras': 0, 'total': 4}}]}, {'over': 94, 'deliveries': [{'batter': 'AT Carey', 'bowler': 'K Rabada', 'non_striker': 'PJ Cummins', 'runs': {'batter': 1, 'extras': 0, 'total': 1}}, {'batter': 'PJ Cummins', 'bowler': 'K Rabada', 'non_striker': 'AT Carey', 'review': {'by': 'South Africa', 'umpire': 'PR Reiffel', 'batter': 'PJ Cummins', 'decision': 'upheld'}, 'runs': {'batter': 0, 'extras': 0, 'total': 0}, 'wickets': [{'player_out': 'PJ Cummins', 'fielders': [{'name': 'K Verreynne'}], 'kind': 'caught'}]}, {'batter': 'NM Lyon', 'bowler': 'K Rabada', 'non_striker': 'AT Carey', 'runs': {'batter': 0, 'extras': 0, 'total': 0}}, {'batter': 'NM Lyon', 'bowler': 'K Rabada', 'non_striker': 'AT Carey', 'runs': {'batter': 4, 'extras': 0, 'total': 4}}, {'batter': 'NM Lyon', 'bowler': 'K Rabada', 'non_striker': 'AT Carey', 'runs': {'batter': 0, 'extras': 0, 'total': 0}}, {'batter': 'NM Lyon', 'bowler': 'K Rabada', 'non_striker': 'AT Carey', 'runs': {'batter': 0, 'extras': 0, 'total': 0}}]}, {'over': 95, 'deliveries': [{'batter': 'AT Carey', 'bowler': 'A Nortje', 'non_striker': 'NM Lyon', 'runs': {'batter': 0, 'extras': 0, 'total': 0}}, {'batter': 'AT Carey', 'bowler': 'A Nortje', 'non_striker': 'NM Lyon', 'runs': {'batter': 0, 'extras': 0, 'total': 0}}, {'batter': 'AT Carey', 'bowler': 'A Nortje', 'non_striker': 'NM Lyon', 'runs': {'batter': 0, 'extras': 0, 'total': 0}}, {'batter': 'AT Carey', 'bowler': 'A Nortje', 'non_striker': 'NM Lyon', 'runs': {'batter': 0, 'extras': 0, 'total': 0}}, {'batter': 'AT Carey', 'bowler': 'A Nortje', 'non_striker': 'NM Lyon', 'runs': {'batter': 4, 'extras': 0, 'total': 4}}, {'batter': 'AT Carey', 'bowler': 'A Nortje', 'non_striker': 'NM Lyon', 'runs': {'batter': 1, 'extras': 0, 'total': 1}}]}, {'over': 96, 'deliveries': [{'batter': 'AT Carey', 'bowler': 'K Rabada', 'non_striker': 'NM Lyon', 'runs': {'batter': 0, 'extras': 0, 'total': 0}}, {'batter': 'AT Carey', 'bowler': 'K Rabada', 'non_striker': 'NM Lyon', 'runs': {'batter': 0, 'extras': 0, 'total': 0}}, {'batter': 'AT Carey', 'bowler': 'K Rabada', 'non_striker': 'NM Lyon', 'runs': {'batter': 1, 'extras': 0, 'total': 1}}, {'batter': 'NM Lyon', 'bowler': 'K Rabada', 'non_striker': 'AT Carey', 'runs': {'batter': 4, 'extras': 0, 'total': 4}}, {'batter': 'NM Lyon', 'bowler': 'K Rabada', 'non_striker': 'AT Carey', 'runs': {'batter': 2, 'extras': 0, 'total': 2}}, {'batter': 'NM Lyon', 'bowler': 'K Rabada', 'non_striker': 'AT Carey', 'runs': {'batter': 0, 'extras': 0, 'total': 0}}]}, {'over': 97, 'deliveries': [{'batter': 'AT Carey', 'bowler': 'A Nortje', 'non_striker': 'NM Lyon', 'runs': {'batter': 0, 'extras': 0, 'total': 0}}, {'batter': 'AT Carey', 'bowler': 'A Nortje', 'non_striker': 'NM Lyon', 'runs': {'batter': 0, 'extras': 0, 'total': 0}}, {'batter': 'AT Carey', 'bowler': 'A Nortje', 'non_striker': 'NM Lyon', 'runs': {'batter': 4, 'extras': 0, 'total': 4}}, {'batter': 'AT Carey', 'bowler': 'A Nortje', 'non_striker': 'NM Lyon', 'runs': {'batter': 0, 'extras': 0, 'total': 0}}, {'batter': 'AT Carey', 'bowler': 'A Nortje', 'non_striker': 'NM Lyon', 'runs': {'batter': 0, 'extras': 0, 'total': 0}}, {'batter': 'AT Carey', 'bowler': 'A Nortje', 'non_striker': 'NM Lyon', 'runs': {'batter': 0, 'extras': 0, 'total': 0}}]}, {'over': 98, 'deliveries': [{'batter': 'NM Lyon', 'bowler': 'K Rabada', 'non_striker': 'AT Carey', 'runs': {'batter': 0, 'extras': 0, 'total': 0}}, {'batter': 'NM Lyon', 'bowler': 'K Rabada', 'non_striker': 'AT Carey', 'runs': {'batter': 0, 'extras': 0, 'total': 0}}, {'batter': 'NM Lyon', 'bowler': 'K Rabada', 'non_striker': 'AT Carey', 'runs': {'batter': 2, 'extras': 0, 'total': 2}}, {'batter': 'NM Lyon', 'bowler': 'K Rabada', 'non_striker': 'AT Carey', 'runs': {'batter': 0, 'extras': 0, 'total': 0}}, {'batter': 'NM Lyon', 'bowler': 'K Rabada', 'non_striker': 'AT Carey', 'runs': {'batter': 0, 'extras': 0, 'total': 0}}, {'batter': 'NM Lyon', 'bowler': 'K Rabada', 'non_striker': 'AT Carey', 'runs': {'batter': 6, 'extras': 0, 'total': 6}}]}, {'over': 99, 'deliveries': [{'batter': 'AT Carey', 'bowler': 'M Jansen', 'non_striker': 'NM Lyon', 'runs': {'batter': 0, 'extras': 0, 'total': 0}}, {'batter': 'AT Carey', 'bowler': 'M Jansen', 'non_striker': 'NM Lyon', 'runs': {'batter': 0, 'extras': 0, 'total': 0}}, {'batter': 'AT Carey', 'bowler': 'M Jansen', 'non_striker': 'NM Lyon', 'runs': {'batter': 0, 'extras': 0, 'total': 0}}, {'batter': 'AT Carey', 'bowler': 'M Jansen', 'non_striker': 'NM Lyon', 'runs': {'batter': 0, 'extras': 0, 'total': 0}}, {'batter': 'AT Carey', 'bowler': 'M Jansen', 'non_striker': 'NM Lyon', 'runs': {'batter': 0, 'extras': 0, 'total': 0}}, {'batter': 'AT Carey', 'bowler': 'M Jansen', 'non_striker': 'NM Lyon', 'runs': {'batter': 4, 'extras': 0, 'total': 4}}]}, {'over': 100, 'deliveries': [{'batter': 'NM Lyon', 'bowler': 'L Ngidi', 'non_striker': 'AT Carey', 'runs': {'batter': 0, 'extras': 0, 'total': 0}}, {'batter': 'NM Lyon', 'bowler': 'L Ngidi', 'non_striker': 'AT Carey', 'runs': {'batter': 3, 'extras': 0, 'total': 3}}, {'batter': 'AT Carey', 'bowler': 'L Ngidi', 'non_striker': 'NM Lyon', 'runs': {'batter': 0, 'extras': 0, 'total': 0}}, {'batter': 'AT Carey', 'bowler': 'L Ngidi', 'non_striker': 'NM Lyon', 'runs': {'batter': 1, 'extras': 0, 'total': 1}}, {'batter': 'NM Lyon', 'bowler': 'L Ngidi', 'non_striker': 'AT Carey', 'runs': {'batter': 4, 'extras': 0, 'total': 4}}, {'batter': 'NM Lyon', 'bowler': 'L Ngidi', 'non_striker': 'AT Carey', 'runs': {'batter': 0, 'extras': 0, 'total': 0}, 'wickets': [{'player_out': 'NM Lyon', 'fielders': [{'name': 'K Zondo'}], 'kind': 'caught'}]}]}, {'over': 101, 'deliveries': [{'batter': 'AT Carey', 'bowler': 'M Jansen', 'non_striker': 'C Green', 'runs': {'batter': 4, 'extras': 0, 'total': 4}}, {'batter': 'AT Carey', 'bowler': 'M Jansen', 'non_striker': 'C Green', 'runs': {'batter': 0, 'extras': 0, 'total': 0}}, {'batter': 'AT Carey', 'bowler': 'M Jansen', 'non_striker': 'C Green', 'runs': {'batter': 1, 'extras': 0, 'total': 1}}, {'batter': 'C Green', 'bowler': 'M Jansen', 'non_striker': 'AT Carey', 'runs': {'batter': 0, 'extras': 0, 'total': 0}}, {'batter': 'C Green', 'bowler': 'M Jansen', 'non_striker': 'AT Carey', 'runs': {'batter': 0, 'extras': 0, 'total': 0}}, {'batter': 'C Green', 'bowler': 'M Jansen', 'non_striker': 'AT Carey', 'runs': {'batter': 0, 'extras': 0, 'total': 0}}]}, {'over': 102, 'deliveries': [{'batter': 'AT Carey', 'bowler': 'L Ngidi', 'non_striker': 'C Green', 'runs': {'batter': 0, 'extras': 0, 'total': 0}}, {'batter': 'AT Carey', 'bowler': 'L Ngidi', 'non_striker': 'C Green', 'runs': {'batter': 0, 'extras': 0, 'total': 0}}, {'batter': 'AT Carey', 'bowler': 'L Ngidi', 'non_striker': 'C Green', 'runs': {'batter': 0, 'extras': 0, 'total': 0}}, {'batter': 'AT Carey', 'bowler': 'L Ngidi', 'non_striker': 'C Green', 'runs': {'batter': 1, 'extras': 0, 'total': 1}}, {'batter': 'C Green', 'bowler': 'L Ngidi', 'non_striker': 'AT Carey', 'runs': {'batter': 0, 'extras': 0, 'total': 0}}, {'batter': 'C Green', 'bowler': 'L Ngidi', 'non_striker': 'AT Carey', 'runs': {'batter': 0, 'extras': 0, 'total': 0}}]}, {'over': 103, 'deliveries': [{'batter': 'AT Carey', 'bowler': 'M Jansen', 'non_striker': 'C Green', 'runs': {'batter': 0, 'extras': 0, 'total': 0}}, {'batter': 'AT Carey', 'bowler': 'M Jansen', 'non_striker': 'C Green', 'runs': {'batter': 1, 'extras': 0, 'total': 1}}, {'batter': 'C Green', 'bowler': 'M Jansen', 'non_striker': 'AT Carey', 'runs': {'batter': 0, 'extras': 0, 'total': 0}}, {'batter': 'C Green', 'bowler': 'M Jansen', 'non_striker': 'AT Carey', 'runs': {'batter': 0, 'extras': 0, 'total': 0}}, {'batter': 'C Green', 'bowler': 'M Jansen', 'non_striker': 'AT Carey', 'runs': {'batter': 0, 'extras': 0, 'total': 0}}, {'batter': 'C Green', 'bowler': 'M Jansen', 'non_striker': 'AT Carey', 'runs': {'batter': 0, 'extras': 0, 'total': 0}}]}, {'over': 104, 'deliveries': [{'batter': 'AT Carey', 'bowler': 'L Ngidi', 'non_striker': 'C Green', 'runs': {'batter': 4, 'extras': 0, 'total': 4}}, {'batter': 'AT Carey', 'bowler': 'L Ngidi', 'non_striker': 'C Green', 'runs': {'batter': 4, 'extras': 0, 'total': 4}}, {'batter': 'AT Carey', 'bowler': 'L Ngidi', 'non_striker': 'C Green', 'runs': {'batter': 4, 'extras': 0, 'total': 4}}, {'batter': 'AT Carey', 'bowler': 'L Ngidi', 'non_striker': 'C Green', 'runs': {'batter': 1, 'extras': 0, 'total': 1}}, {'batter': 'C Green', 'bowler': 'L Ngidi', 'non_striker': 'AT Carey', 'runs': {'batter': 0, 'extras': 0, 'total': 0}}, {'batter': 'C Green', 'bowler': 'L Ngidi', 'non_striker': 'AT Carey', 'runs': {'batter': 0, 'extras': 0, 'total': 0}}]}, {'over': 105, 'deliveries': [{'batter': 'AT Carey', 'bowler': 'M Jansen', 'non_striker': 'C Green', 'runs': {'batter': 0, 'extras': 0, 'total': 0}}, {'batter': 'AT Carey', 'bowler': 'M Jansen', 'non_striker': 'C Green', 'runs': {'batter': 0, 'extras': 0, 'total': 0}}, {'batter': 'AT Carey', 'bowler': 'M Jansen', 'non_striker': 'C Green', 'runs': {'batter': 1, 'extras': 0, 'total': 1}}, {'batter': 'C Green', 'bowler': 'M Jansen', 'non_striker': 'AT Carey', 'runs': {'batter': 0, 'extras': 0, 'total': 0}}, {'batter': 'C Green', 'bowler': 'M Jansen', 'non_striker': 'AT Carey', 'runs': {'batter': 0, 'extras': 0, 'total': 0}}, {'batter': 'C Green', 'bowler': 'M Jansen', 'non_striker': 'AT Carey', 'runs': {'batter': 0, 'extras': 0, 'total': 0}}]}, {'over': 106, 'deliveries': [{'batter': 'AT Carey', 'bowler': 'A Nortje', 'non_striker': 'C Green', 'runs': {'batter': 1, 'extras': 0, 'total': 1}}, {'batter': 'C Green', 'bowler': 'A Nortje', 'non_striker': 'AT Carey', 'runs': {'batter': 0, 'extras': 0, 'total': 0}}, {'batter': 'C Green', 'bowler': 'A Nortje', 'non_striker': 'AT Carey', 'runs': {'batter': 0, 'extras': 0, 'total': 0}}, {'batter': 'C Green', 'bowler': 'A Nortje', 'non_striker': 'AT Carey', 'runs': {'batter': 0, 'extras': 0, 'total': 0}}, {'batter': 'C Green', 'bowler': 'A Nortje', 'non_striker': 'AT Carey', 'runs': {'batter': 0, 'extras': 0, 'total': 0}}, {'batter': 'C Green', 'bowler': 'A Nortje', 'non_striker': 'AT Carey', 'runs': {'batter': 3, 'extras': 0, 'total': 3}}]}, {'over': 107, 'deliveries': [{'batter': 'C Green', 'bowler': 'M Jansen', 'non_striker': 'AT Carey', 'runs': {'batter': 0, 'extras': 0, 'total': 0}}, {'batter': 'C Green', 'bowler': 'M Jansen', 'non_striker': 'AT Carey', 'runs': {'batter': 1, 'extras': 0, 'total': 1}}, {'batter': 'AT Carey', 'bowler': 'M Jansen', 'non_striker': 'C Green', 'runs': {'batter': 0, 'extras': 0, 'total': 0}}, {'batter': 'AT Carey', 'bowler': 'M Jansen', 'non_striker': 'C Green', 'runs': {'batter': 1, 'extras': 0, 'total': 1}}, {'batter': 'C Green', 'bowler': 'M Jansen', 'non_striker': 'AT Carey', 'runs': {'batter': 0, 'extras': 0, 'total': 0}}, {'batter': 'C Green', 'bowler': 'M Jansen', 'non_striker': 'AT Carey', 'runs': {'batter': 0, 'extras': 0, 'total': 0}}]}, {'over': 108, 'deliveries': [{'batter': 'AT Carey', 'bowler': 'A Nortje', 'non_striker': 'C Green', 'runs': {'batter': 1, 'extras': 0, 'total': 1}}, {'batter': 'C Green', 'bowler': 'A Nortje', 'non_striker': 'AT Carey', 'runs': {'batter': 2, 'extras': 0, 'total': 2}}, {'batter': 'C Green', 'bowler': 'A Nortje', 'non_striker': 'AT Carey', 'runs': {'batter': 0, 'extras': 0, 'total': 0}}, {'batter': 'C Green', 'bowler': 'A Nortje', 'non_striker': 'AT Carey', 'runs': {'batter': 0, 'extras': 0, 'total': 0}}, {'batter': 'C Green', 'bowler': 'A Nortje', 'non_striker': 'AT Carey', 'runs': {'batter': 0, 'extras': 0, 'total': 0}}, {'batter': 'C Green', 'bowler': 'A Nortje', 'non_striker': 'AT Carey', 'runs': {'batter': 0, 'extras': 0, 'total': 0}}]}, {'over': 109, 'deliveries': [{'batter': 'AT Carey', 'bowler': 'KA Maharaj', 'non_striker': 'C Green', 'runs': {'batter': 0, 'extras': 0, 'total': 0}}, {'batter': 'AT Carey', 'bowler': 'KA Maharaj', 'non_striker': 'C Green', 'runs': {'batter': 1, 'extras': 0, 'total': 1}}, {'batter': 'C Green', 'bowler': 'KA Maharaj', 'non_striker': 'AT Carey', 'runs': {'batter': 0, 'extras': 0, 'total': 0}}, {'batter': 'C Green', 'bowler': 'KA Maharaj', 'non_striker': 'AT Carey', 'runs': {'batter': 1, 'extras': 0, 'total': 1}}, {'batter': 'AT Carey', 'bowler': 'KA Maharaj', 'non_striker': 'C Green', 'runs': {'batter': 1, 'extras': 0, 'total': 1}}, {'batter': 'C Green', 'bowler': 'KA Maharaj', 'non_striker': 'AT Carey', 'runs': {'batter': 0, 'extras': 0, 'total': 0}}]}, {'over': 110, 'deliveries': [{'batter': 'AT Carey', 'bowler': 'A Nortje', 'non_striker': 'C Green', 'runs': {'batter': 0, 'extras': 0, 'total': 0}}, {'batter': 'AT Carey', 'bowler': 'A Nortje', 'non_striker': 'C Green', 'runs': {'batter': 0, 'extras': 0, 'total': 0}}, {'batter': 'AT Carey', 'bowler': 'A Nortje', 'non_striker': 'C Green', 'runs': {'batter': 1, 'extras': 0, 'total': 1}}, {'batter': 'C Green', 'bowler': 'A Nortje', 'non_striker': 'AT Carey', 'runs': {'batter': 1, 'extras': 0, 'total': 1}}, {'batter': 'AT Carey', 'bowler': 'A Nortje', 'non_striker': 'C Green', 'runs': {'batter': 3, 'extras': 0, 'total': 3}}, {'batter': 'C Green', 'bowler': 'A Nortje', 'non_striker': 'AT Carey', 'runs': {'batter': 0, 'extras': 0, 'total': 0}}]}, {'over': 111, 'deliveries': [{'batter': 'AT Carey', 'bowler': 'KA Maharaj', 'non_striker': 'C Green', 'runs': {'batter': 0, 'extras': 0, 'total': 0}}, {'batter': 'AT Carey', 'bowler': 'KA Maharaj', 'non_striker': 'C Green', 'runs': {'batter': 1, 'extras': 0, 'total': 1}}, {'batter': 'C Green', 'bowler': 'KA Maharaj', 'non_striker': 'AT Carey', 'runs': {'batter': 0, 'extras': 0, 'total': 0}}, {'batter': 'C Green', 'bowler': 'KA Maharaj', 'non_striker': 'AT Carey', 'runs': {'batter': 0, 'extras': 0, 'total': 0}}, {'batter': 'C Green', 'bowler': 'KA Maharaj', 'non_striker': 'AT Carey', 'runs': {'batter': 0, 'extras': 0, 'total': 0}}, {'batter': 'C Green', 'bowler': 'KA Maharaj', 'non_striker': 'AT Carey', 'runs': {'batter': 0, 'extras': 0, 'total': 0}}]}, {'over': 112, 'deliveries': [{'batter': 'AT Carey', 'bowler': 'K Rabada', 'non_striker': 'C Green', 'runs': {'batter': 1, 'extras': 0, 'total': 1}}, {'batter': 'C Green', 'bowler': 'K Rabada', 'non_striker': 'AT Carey', 'runs': {'batter': 0, 'extras': 0, 'total': 0}}, {'batter': 'C Green', 'bowler': 'K Rabada', 'non_striker': 'AT Carey', 'runs': {'batter': 1, 'extras': 0, 'total': 1}}, {'batter': 'AT Carey', 'bowler': 'K Rabada', 'non_striker': 'C Green', 'runs': {'batter': 0, 'extras': 0, 'total': 0}}, {'batter': 'AT Carey', 'bowler': 'K Rabada', 'non_striker': 'C Green', 'runs': {'batter': 0, 'extras': 0, 'total': 0}}, {'batter': 'AT Carey', 'bowler': 'K Rabada', 'non_striker': 'C Green', 'runs': {'batter': 0, 'extras': 0, 'total': 0}}]}, {'over': 113, 'deliveries': [{'batter': 'C Green', 'bowler': 'KA Maharaj', 'non_striker': 'AT Carey', 'runs': {'batter': 0, 'extras': 0, 'total': 0}}, {'batter': 'C Green', 'bowler': 'KA Maharaj', 'non_striker': 'AT Carey', 'runs': {'batter': 0, 'extras': 0, 'total': 0}}, {'batter': 'C Green', 'bowler': 'KA Maharaj', 'non_striker': 'AT Carey', 'runs': {'batter': 0, 'extras': 0, 'total': 0}}, {'batter': 'C Green', 'bowler': 'KA Maharaj', 'non_striker': 'AT Carey', 'runs': {'batter': 0, 'extras': 0, 'total': 0}}, {'batter': 'C Green', 'bowler': 'KA Maharaj', 'non_striker': 'AT Carey', 'runs': {'batter': 0, 'extras': 0, 'total': 0}}, {'batter': 'C Green', 'bowler': 'KA Maharaj', 'non_striker': 'AT Carey', 'runs': {'batter': 0, 'extras': 0, 'total': 0}}]}, {'over': 114, 'deliveries': [{'batter': 'AT Carey', 'bowler': 'K Rabada', 'non_striker': 'C Green', 'runs': {'batter': 1, 'extras': 0, 'total': 1}}, {'batter': 'C Green', 'bowler': 'K Rabada', 'non_striker': 'AT Carey', 'runs': {'batter': 2, 'extras': 0, 'total': 2}}, {'batter': 'C Green', 'bowler': 'K Rabada', 'non_striker': 'AT Carey', 'runs': {'batter': 0, 'extras': 0, 'total': 0}}, {'batter': 'C Green', 'bowler': 'K Rabada', 'non_striker': 'AT Carey', 'runs': {'batter': 0, 'extras': 0, 'total': 0}}, {'batter': 'C Green', 'bowler': 'K Rabada', 'non_striker': 'AT Carey', 'runs': {'batter': 0, 'extras': 0, 'total': 0}}, {'batter': 'C Green', 'bowler': 'K Rabada', 'non_striker': 'AT Carey', 'runs': {'batter': 0, 'extras': 0, 'total': 0}}]}, {'over': 115, 'deliveries': [{'batter': 'AT Carey', 'bowler': 'KA Maharaj', 'non_striker': 'C Green', 'runs': {'batter': 0, 'extras': 0, 'total': 0}}, {'batter': 'AT Carey', 'bowler': 'KA Maharaj', 'non_striker': 'C Green', 'runs': {'batter': 0, 'extras': 0, 'total': 0}}, {'batter': 'AT Carey', 'bowler': 'KA Maharaj', 'non_striker': 'C Green', 'runs': {'batter': 0, 'extras': 0, 'total': 0}}, {'batter': 'AT Carey', 'bowler': 'KA Maharaj', 'non_striker': 'C Green', 'runs': {'batter': 0, 'extras': 0, 'total': 0}}, {'batter': 'AT Carey', 'bowler': 'KA Maharaj', 'non_striker': 'C Green', 'runs': {'batter': 1, 'extras': 0, 'total': 1}}, {'batter': 'C Green', 'bowler': 'KA Maharaj', 'non_striker': 'AT Carey', 'runs': {'batter': 0, 'extras': 0, 'total': 0}}]}, {'over': 116, 'deliveries': [{'batter': 'AT Carey', 'bowler': 'K Rabada', 'non_striker': 'C Green', 'runs': {'batter': 0, 'extras': 0, 'total': 0}}, {'batter': 'AT Carey', 'bowler': 'K Rabada', 'non_striker': 'C Green', 'runs': {'batter': 0, 'extras': 0, 'total': 0}}, {'batter': 'AT Carey', 'bowler': 'K Rabada', 'non_striker': 'C Green', 'runs': {'batter': 0, 'extras': 0, 'total': 0}}, {'batter': 'AT Carey', 'bowler': 'K Rabada', 'non_striker': 'C Green', 'runs': {'batter': 4, 'extras': 0, 'total': 4}}, {'batter': 'AT Carey', 'bowler': 'K Rabada', 'non_striker': 'C Green', 'runs': {'batter': 0, 'extras': 0, 'total': 0}}, {'batter': 'AT Carey', 'bowler': 'K Rabada', 'non_striker': 'C Green', 'runs': {'batter': 0, 'extras': 0, 'total': 0}}]}, {'over': 117, 'deliveries': [{'batter': 'C Green', 'bowler': 'KA Maharaj', 'non_striker': 'AT Carey', 'runs': {'batter': 0, 'extras': 0, 'total': 0}}, {'batter': 'C Green', 'bowler': 'KA Maharaj', 'non_striker': 'AT Carey', 'runs': {'batter': 0, 'extras': 0, 'total': 0}}, {'batter': 'C Green', 'bowler': 'KA Maharaj', 'non_striker': 'AT Carey', 'runs': {'batter': 0, 'extras': 0, 'total': 0}}, {'batter': 'C Green', 'bowler': 'KA Maharaj', 'non_striker': 'AT Carey', 'runs': {'batter': 1, 'extras': 0, 'total': 1}}, {'batter': 'AT Carey', 'bowler': 'KA Maharaj', 'non_striker': 'C Green', 'runs': {'batter': 0, 'extras': 0, 'total': 0}}, {'batter': 'AT Carey', 'bowler': 'KA Maharaj', 'non_striker': 'C Green', 'runs': {'batter': 1, 'extras': 0, 'total': 1}}]}, {'over': 118, 'deliveries': [{'batter': 'AT Carey', 'bowler': 'K Rabada', 'non_striker': 'C Green', 'runs': {'batter': 1, 'extras': 0, 'total': 1}}, {'batter': 'C Green', 'bowler': 'K Rabada', 'non_striker': 'AT Carey', 'runs': {'batter': 0, 'extras': 0, 'total': 0}}, {'batter': 'C Green', 'bowler': 'K Rabada', 'non_striker': 'AT Carey', 'runs': {'batter': 0, 'extras': 0, 'total': 0}}, {'batter': 'C Green', 'bowler': 'K Rabada', 'non_striker': 'AT Carey', 'runs': {'batter': 0, 'extras': 0, 'total': 0}}, {'batter': 'C Green', 'bowler': 'K Rabada', 'non_striker': 'AT Carey', 'runs': {'batter': 2, 'extras': 0, 'total': 2}}, {'batter': 'C Green', 'bowler': 'K Rabada', 'non_striker': 'AT Carey', 'runs': {'batter': 0, 'extras': 0, 'total': 0}}]}, {'over': 119, 'deliveries': [{'batter': 'AT Carey', 'bowler': 'KA Maharaj', 'non_striker': 'C Green', 'runs': {'batter': 1, 'extras': 0, 'total': 1}}, {'batter': 'C Green', 'bowler': 'KA Maharaj', 'non_striker': 'AT Carey', 'runs': {'batter': 2, 'extras': 0, 'total': 2}}, {'batter': 'C Green', 'bowler': 'KA Maharaj', 'non_striker': 'AT Carey', 'runs': {'batter': 0, 'extras': 0, 'total': 0}}, {'batter': 'C Green', 'bowler': 'KA Maharaj', 'non_striker': 'AT Carey', 'runs': {'batter': 0, 'extras': 0, 'total': 0}}, {'batter': 'C Green', 'bowler': 'KA Maharaj', 'non_striker': 'AT Carey', 'runs': {'batter': 0, 'extras': 0, 'total': 0}}, {'batter': 'C Green', 'bowler': 'KA Maharaj', 'non_striker': 'AT Carey', 'runs': {'batter': 0, 'extras': 0, 'total': 0}}]}, {'over': 120, 'deliveries': [{'batter': 'AT Carey', 'bowler': 'K Rabada', 'non_striker': 'C Green', 'runs': {'batter': 1, 'extras': 0, 'total': 1}}, {'batter': 'C Green', 'bowler': 'K Rabada', 'non_striker': 'AT Carey', 'runs': {'batter': 1, 'extras': 0, 'total': 1}}, {'batter': 'AT Carey', 'bowler': 'K Rabada', 'non_striker': 'C Green', 'runs': {'batter': 4, 'extras': 0, 'total': 4}}, {'batter': 'AT Carey', 'bowler': 'K Rabada', 'non_striker': 'C Green', 'runs': {'batter': 4, 'extras': 0, 'total': 4}}, {'batter': 'AT Carey', 'bowler': 'K Rabada', 'non_striker': 'C Green', 'runs': {'batter': 0, 'extras': 0, 'total': 0}}, {'batter': 'AT Carey', 'bowler': 'K Rabada', 'non_striker': 'C Green', 'runs': {'batter': 0, 'extras': 0, 'total': 0}}]}, {'over': 121, 'deliveries': [{'batter': 'C Green', 'bowler': 'KA Maharaj', 'non_striker': 'AT Carey', 'runs': {'batter': 0, 'extras': 0, 'total': 0}}, {'batter': 'C Green', 'bowler': 'KA Maharaj', 'non_striker': 'AT Carey', 'runs': {'batter': 0, 'extras': 0, 'total': 0}}, {'batter': 'C Green', 'bowler': 'KA Maharaj', 'non_striker': 'AT Carey', 'runs': {'batter': 0, 'extras': 0, 'total': 0}}, {'batter': 'C Green', 'bowler': 'KA Maharaj', 'non_striker': 'AT Carey', 'runs': {'batter': 1, 'extras': 0, 'total': 1}}, {'batter': 'AT Carey', 'bowler': 'KA Maharaj', 'non_striker': 'C Green', 'runs': {'batter': 0, 'extras': 0, 'total': 0}}, {'batter': 'AT Carey', 'bowler': 'KA Maharaj', 'non_striker': 'C Green', 'runs': {'batter': 0, 'extras': 0, 'total': 0}}]}, {'over': 122, 'deliveries': [{'batter': 'C Green', 'bowler': 'K Rabada', 'non_striker': 'AT Carey', 'runs': {'batter': 4, 'extras': 0, 'total': 4}}, {'batter': 'C Green', 'bowler': 'K Rabada', 'non_striker': 'AT Carey', 'runs': {'batter': 0, 'extras': 0, 'total': 0}}, {'batter': 'C Green', 'bowler': 'K Rabada', 'non_striker': 'AT Carey', 'runs': {'batter': 0, 'extras': 0, 'total': 0}}, {'batter': 'C Green', 'bowler': 'K Rabada', 'non_striker': 'AT Carey', 'runs': {'batter': 0, 'extras': 0, 'total': 0}}, {'batter': 'C Green', 'bowler': 'K Rabada', 'non_striker': 'AT Carey', 'runs': {'batter': 0, 'extras': 0, 'total': 0}}, {'batter': 'C Green', 'bowler': 'K Rabada', 'non_striker': 'AT Carey', 'runs': {'batter': 0, 'extras': 0, 'total': 0}}]}, {'over': 123, 'deliveries': [{'batter': 'AT Carey', 'bowler': 'KA Maharaj', 'non_striker': 'C Green', 'runs': {'batter': 1, 'extras': 0, 'total': 1}}, {'batter': 'C Green', 'bowler': 'KA Maharaj', 'non_striker': 'AT Carey', 'runs': {'batter': 0, 'extras': 0, 'total': 0}}, {'batter': 'C Green', 'bowler': 'KA Maharaj', 'non_striker': 'AT Carey', 'runs': {'batter': 1, 'extras': 0, 'total': 1}}, {'batter': 'AT Carey', 'bowler': 'KA Maharaj', 'non_striker': 'C Green', 'runs': {'batter': 0, 'extras': 0, 'total': 0}}, {'batter': 'AT Carey', 'bowler': 'KA Maharaj', 'non_striker': 'C Green', 'runs': {'batter': 1, 'extras': 0, 'total': 1}}, {'batter': 'C Green', 'bowler': 'KA Maharaj', 'non_striker': 'AT Carey', 'runs': {'batter': 0, 'extras': 0, 'total': 0}}]}, {'over': 124, 'deliveries': [{'batter': 'AT Carey', 'bowler': 'L Ngidi', 'non_striker': 'C Green', 'runs': {'batter': 0, 'extras': 0, 'total': 0}}, {'batter': 'AT Carey', 'bowler': 'L Ngidi', 'non_striker': 'C Green', 'runs': {'batter': 2, 'extras': 0, 'total': 2}}, {'batter': 'AT Carey', 'bowler': 'L Ngidi', 'non_striker': 'C Green', 'runs': {'batter': 1, 'extras': 0, 'total': 1}}, {'batter': 'C Green', 'bowler': 'L Ngidi', 'non_striker': 'AT Carey', 'runs': {'batter': 0, 'extras': 0, 'total': 0}}, {'batter': 'C Green', 'bowler': 'L Ngidi', 'non_striker': 'AT Carey', 'runs': {'batter': 0, 'extras': 0, 'total': 0}}, {'batter': 'C Green', 'bowler': 'L Ngidi', 'non_striker': 'AT Carey', 'runs': {'batter': 0, 'extras': 0, 'total': 0}}]}, {'over': 125, 'deliveries': [{'batter': 'AT Carey', 'bowler': 'KA Maharaj', 'non_striker': 'C Green', 'runs': {'batter': 0, 'extras': 0, 'total': 0}}, {'batter': 'AT Carey', 'bowler': 'KA Maharaj', 'non_striker': 'C Green', 'runs': {'batter': 1, 'extras': 0, 'total': 1}}, {'batter': 'C Green', 'bowler': 'KA Maharaj', 'non_striker': 'AT Carey', 'runs': {'batter': 0, 'extras': 0, 'total': 0}}, {'batter': 'C Green', 'bowler': 'KA Maharaj', 'non_striker': 'AT Carey', 'runs': {'batter': 0, 'extras': 0, 'total': 0}}, {'batter': 'C Green', 'bowler': 'KA Maharaj', 'non_striker': 'AT Carey', 'runs': {'batter': 0, 'extras': 0, 'total': 0}}, {'batter': 'C Green', 'bowler': 'KA Maharaj', 'non_striker': 'AT Carey', 'runs': {'batter': 0, 'extras': 0, 'total': 0}}]}, {'over': 126, 'deliveries': [{'batter': 'AT Carey', 'bowler': 'L Ngidi', 'non_striker': 'C Green', 'runs': {'batter': 4, 'extras': 0, 'total': 4}}, {'batter': 'AT Carey', 'bowler': 'L Ngidi', 'non_striker': 'C Green', 'runs': {'batter': 0, 'extras': 0, 'total': 0}}, {'batter': 'AT Carey', 'bowler': 'L Ngidi', 'non_striker': 'C Green', 'runs': {'batter': 1, 'extras': 0, 'total': 1}}, {'batter': 'C Green', 'bowler': 'L Ngidi', 'non_striker': 'AT Carey', 'runs': {'batter': 0, 'extras': 0, 'total': 0}}, {'batter': 'C Green', 'bowler': 'L Ngidi', 'non_striker': 'AT Carey', 'runs': {'batter': 0, 'extras': 0, 'total': 0}}, {'batter': 'C Green', 'bowler': 'L Ngidi', 'non_striker': 'AT Carey', 'runs': {'batter': 0, 'extras': 0, 'total': 0}}]}, {'over': 127, 'deliveries': [{'batter': 'AT Carey', 'bowler': 'KA Maharaj', 'non_striker': 'C Green', 'runs': {'batter': 1, 'extras': 0, 'total': 1}}, {'batter': 'C Green', 'bowler': 'KA Maharaj', 'non_striker': 'AT Carey', 'runs': {'batter': 0, 'extras': 0, 'total': 0}}, {'batter': 'C Green', 'bowler': 'KA Maharaj', 'non_striker': 'AT Carey', 'runs': {'batter': 0, 'extras': 0, 'total': 0}}, {'batter': 'C Green', 'bowler': 'KA Maharaj', 'non_striker': 'AT Carey', 'runs': {'batter': 0, 'extras': 0, 'total': 0}}, {'batter': 'C Green', 'bowler': 'KA Maharaj', 'non_striker': 'AT Carey', 'runs': {'batter': 0, 'extras': 0, 'total': 0}}, {'batter': 'C Green', 'bowler': 'KA Maharaj', 'non_striker': 'AT Carey', 'runs': {'batter': 0, 'extras': 0, 'total': 0}}]}, {'over': 128, 'deliveries': [{'batter': 'AT Carey', 'bowler': 'L Ngidi', 'non_striker': 'C Green', 'runs': {'batter': 0, 'extras': 0, 'total': 0}}, {'batter': 'AT Carey', 'bowler': 'L Ngidi', 'non_striker': 'C Green', 'runs': {'batter': 1, 'extras': 0, 'total': 1}}, {'batter': 'C Green', 'bowler': 'L Ngidi', 'non_striker': 'AT Carey', 'runs': {'batter': 0, 'extras': 0, 'total': 0}}, {'batter': 'C Green', 'bowler': 'L Ngidi', 'non_striker': 'AT Carey', 'runs': {'batter': 0, 'extras': 0, 'total': 0}}, {'batter': 'C Green', 'bowler': 'L Ngidi', 'non_striker': 'AT Carey', 'runs': {'batter': 0, 'extras': 0, 'total': 0}}, {'batter': 'C Green', 'bowler': 'L Ngidi', 'non_striker': 'AT Carey', 'runs': {'batter': 0, 'extras': 0, 'total': 0}}]}, {'over': 129, 'deliveries': [{'batter': 'AT Carey', 'bowler': 'KA Maharaj', 'non_striker': 'C Green', 'runs': {'batter': 0, 'extras': 0, 'total': 0}}, {'batter': 'AT Carey', 'bowler': 'KA Maharaj', 'non_striker': 'C Green', 'runs': {'batter': 1, 'extras': 0, 'total': 1}}, {'batter': 'C Green', 'bowler': 'KA Maharaj', 'non_striker': 'AT Carey', 'runs': {'batter': 1, 'extras': 0, 'total': 1}}, {'batter': 'AT Carey', 'bowler': 'KA Maharaj', 'non_striker': 'C Green', 'runs': {'batter': 0, 'extras': 0, 'total': 0}}, {'batter': 'AT Carey', 'bowler': 'KA Maharaj', 'non_striker': 'C Green', 'runs': {'batter': 1, 'extras': 0, 'total': 1}}, {'batter': 'C Green', 'bowler': 'KA Maharaj', 'non_striker': 'AT Carey', 'runs': {'batter': 0, 'extras': 0, 'total': 0}}]}, {'over': 130, 'deliveries': [{'batter': 'AT Carey', 'bowler': 'L Ngidi', 'non_striker': 'C Green', 'runs': {'batter': 0, 'extras': 0, 'total': 0}}, {'batter': 'AT Carey', 'bowler': 'L Ngidi', 'non_striker': 'C Green', 'runs': {'batter': 1, 'extras': 0, 'total': 1}}, {'batter': 'C Green', 'bowler': 'L Ngidi', 'non_striker': 'AT Carey', 'runs': {'batter': 4, 'extras': 0, 'total': 4}}, {'batter': 'C Green', 'bowler': 'L Ngidi', 'non_striker': 'AT Carey', 'runs': {'batter': 0, 'extras': 0, 'total': 0}}, {'batter': 'C Green', 'bowler': 'L Ngidi', 'non_striker': 'AT Carey', 'runs': {'batter': 0, 'extras': 0, 'total': 0}}, {'batter': 'C Green', 'bowler': 'L Ngidi', 'non_striker': 'AT Carey', 'runs': {'batter': 0, 'extras': 0, 'total': 0}}]}, {'over': 131, 'deliveries': [{'batter': 'AT Carey', 'bowler': 'KA Maharaj', 'non_striker': 'C Green', 'runs': {'batter': 1, 'extras': 0, 'total': 1}}, {'batter': 'C Green', 'bowler': 'KA Maharaj', 'non_striker': 'AT Carey', 'runs': {'batter': 0, 'extras': 0, 'total': 0}}, {'batter': 'C Green', 'bowler': 'KA Maharaj', 'non_striker': 'AT Carey', 'runs': {'batter': 0, 'extras': 0, 'total': 0}}, {'batter': 'C Green', 'bowler': 'KA Maharaj', 'non_striker': 'AT Carey', 'runs': {'batter': 0, 'extras': 0, 'total': 0}}, {'batter': 'C Green', 'bowler': 'KA Maharaj', 'non_striker': 'AT Carey', 'runs': {'batter': 0, 'extras': 0, 'total': 0}}, {'batter': 'C Green', 'bowler': 'KA Maharaj', 'non_striker': 'AT Carey', 'runs': {'batter': 0, 'extras': 0, 'total': 0}}]}, {'over': 132, 'deliveries': [{'batter': 'AT Carey', 'bowler': 'M Jansen', 'non_striker': 'C Green', 'runs': {'batter': 0, 'extras': 0, 'total': 0}}, {'batter': 'AT Carey', 'bowler': 'M Jansen', 'non_striker': 'C Green', 'runs': {'batter': 3, 'extras': 0, 'total': 3}}, {'batter': 'C Green', 'bowler': 'M Jansen', 'non_striker': 'AT Carey', 'runs': {'batter': 0, 'extras': 0, 'total': 0}}, {'batter': 'C Green', 'bowler': 'M Jansen', 'non_striker': 'AT Carey', 'runs': {'batter': 1, 'extras': 0, 'total': 1}}, {'batter': 'AT Carey', 'bowler': 'M Jansen', 'non_striker': 'C Green', 'runs': {'batter': 0, 'extras': 0, 'total': 0}}, {'batter': 'AT Carey', 'bowler': 'M Jansen', 'non_striker': 'C Green', 'runs': {'batter': 0, 'extras': 0, 'total': 0}}]}, {'over': 133, 'deliveries': [{'batter': 'C Green', 'bowler': 'KA Maharaj', 'non_striker': 'AT Carey', 'runs': {'batter': 0, 'extras': 0, 'total': 0}}, {'batter': 'C Green', 'bowler': 'KA Maharaj', 'non_striker': 'AT Carey', 'runs': {'batter': 0, 'extras': 0, 'total': 0}}, {'batter': 'C Green', 'bowler': 'KA Maharaj', 'non_striker': 'AT Carey', 'runs': {'batter': 0, 'extras': 0, 'total': 0}}, {'batter': 'C Green', 'bowler': 'KA Maharaj', 'non_striker': 'AT Carey', 'runs': {'batter': 0, 'extras': 0, 'total': 0}}, {'batter': 'C Green', 'bowler': 'KA Maharaj', 'non_striker': 'AT Carey', 'runs': {'batter': 0, 'extras': 0, 'total': 0}}, {'batter': 'C Green', 'bowler': 'KA Maharaj', 'non_striker': 'AT Carey', 'runs': {'batter': 0, 'extras': 0, 'total': 0}}]}, {'over': 134, 'deliveries': [{'batter': 'AT Carey', 'bowler': 'M Jansen', 'non_striker': 'C Green', 'runs': {'batter': 0, 'extras': 0, 'total': 0}}, {'batter': 'AT Carey', 'bowler': 'M Jansen', 'non_striker': 'C Green', 'runs': {'batter': 1, 'extras': 0, 'total': 1}}, {'batter': 'C Green', 'bowler': 'M Jansen', 'non_striker': 'AT Carey', 'runs': {'batter': 0, 'extras': 0, 'total': 0}}, {'batter': 'C Green', 'bowler': 'M Jansen', 'non_striker': 'AT Carey', 'runs': {'batter': 0, 'extras': 0, 'total': 0}}, {'batter': 'C Green', 'bowler': 'M Jansen', 'non_striker': 'AT Carey', 'runs': {'batter': 0, 'extras': 0, 'total': 0}}, {'batter': 'C Green', 'bowler': 'M Jansen', 'non_striker': 'AT Carey', 'runs': {'batter': 1, 'extras': 0, 'total': 1}}]}, {'over': 135, 'deliveries': [{'batter': 'C Green', 'bowler': 'KA Maharaj', 'non_striker': 'AT Carey', 'runs': {'batter': 0, 'extras': 0, 'total': 0}}, {'batter': 'C Green', 'bowler': 'KA Maharaj', 'non_striker': 'AT Carey', 'runs': {'batter': 0, 'extras': 0, 'total': 0}}, {'batter': 'C Green', 'bowler': 'KA Maharaj', 'non_striker': 'AT Carey', 'runs': {'batter': 0, 'extras': 0, 'total': 0}}, {'batter': 'C Green', 'bowler': 'KA Maharaj', 'non_striker': 'AT Carey', 'runs': {'batter': 0, 'extras': 0, 'total': 0}}, {'batter': 'C Green', 'bowler': 'KA Maharaj', 'non_striker': 'AT Carey', 'runs': {'batter': 0, 'extras': 0, 'total': 0}}, {'batter': 'C Green', 'bowler': 'KA Maharaj', 'non_striker': 'AT Carey', 'runs': {'batter': 0, 'extras': 0, 'total': 0}}]}, {'over': 136, 'deliveries': [{'batter': 'AT Carey', 'bowler': 'M Jansen', 'non_striker': 'C Green', 'runs': {'batter': 1, 'extras': 0, 'total': 1}}, {'batter': 'C Green', 'bowler': 'M Jansen', 'non_striker': 'AT Carey', 'runs': {'batter': 4, 'extras': 0, 'total': 4}}, {'batter': 'C Green', 'bowler': 'M Jansen', 'non_striker': 'AT Carey', 'runs': {'batter': 0, 'extras': 0, 'total': 0}}, {'batter': 'C Green', 'bowler': 'M Jansen', 'non_striker': 'AT Carey', 'runs': {'batter': 0, 'extras': 0, 'total': 0}}, {'batter': 'C Green', 'bowler': 'M Jansen', 'non_striker': 'AT Carey', 'runs': {'batter': 0, 'extras': 0, 'total': 0}}, {'batter': 'C Green', 'bowler': 'M Jansen', 'non_striker': 'AT Carey', 'runs': {'batter': 0, 'extras': 0, 'total': 0}}]}, {'over': 137, 'deliveries': [{'batter': 'AT Carey', 'bowler': 'KA Maharaj', 'non_striker': 'C Green', 'runs': {'batter': 0, 'extras': 0, 'total': 0}}, {'batter': 'AT Carey', 'bowler': 'KA Maharaj', 'non_striker': 'C Green', 'runs': {'batter': 0, 'extras': 0, 'total': 0}}, {'batter': 'AT Carey', 'bowler': 'KA Maharaj', 'non_striker': 'C Green', 'runs': {'batter': 2, 'extras': 0, 'total': 2}}, {'batter': 'AT Carey', 'bowler': 'KA Maharaj', 'non_striker': 'C Green', 'runs': {'batter': 0, 'extras': 0, 'total': 0}}, {'batter': 'AT Carey', 'bowler': 'KA Maharaj', 'non_striker': 'C Green', 'runs': {'batter': 0, 'extras': 0, 'total': 0}}, {'batter': 'AT Carey', 'bowler': 'KA Maharaj', 'non_striker': 'C Green', 'runs': {'batter': 1, 'extras': 0, 'total': 1}}]}, {'over': 138, 'deliveries': [{'batter': 'AT Carey', 'bowler': 'M Jansen', 'non_striker': 'C Green', 'runs': {'batter': 1, 'extras': 0, 'total': 1}}, {'batter': 'C Green', 'bowler': 'M Jansen', 'non_striker': 'AT Carey', 'runs': {'batter': 0, 'extras': 0, 'total': 0}}, {'batter': 'C Green', 'bowler': 'M Jansen', 'non_striker': 'AT Carey', 'runs': {'batter': 0, 'extras': 0, 'total': 0}}, {'batter': 'C Green', 'bowler': 'M Jansen', 'non_striker': 'AT Carey', 'runs': {'batter': 0, 'extras': 0, 'total': 0}}, {'batter': 'C Green', 'bowler': 'M Jansen', 'non_striker': 'AT Carey', 'runs': {'batter': 0, 'extras': 0, 'total': 0}}, {'batter': 'C Green', 'bowler': 'M Jansen', 'non_striker': 'AT Carey', 'runs': {'batter': 0, 'extras': 0, 'total': 0}}]}, {'over': 139, 'deliveries': [{'batter': 'AT Carey', 'bowler': 'KA Maharaj', 'non_striker': 'C Green', 'runs': {'batter': 2, 'extras': 0, 'total': 2}}, {'batter': 'AT Carey', 'bowler': 'KA Maharaj', 'non_striker': 'C Green', 'runs': {'batter': 1, 'extras': 0, 'total': 1}}, {'batter': 'C Green', 'bowler': 'KA Maharaj', 'non_striker': 'AT Carey', 'runs': {'batter': 2, 'extras': 0, 'total': 2}}, {'batter': 'C Green', 'bowler': 'KA Maharaj', 'non_striker': 'AT Carey', 'runs': {'batter': 0, 'extras': 0, 'total': 0}}, {'batter': 'C Green', 'bowler': 'KA Maharaj', 'non_striker': 'AT Carey', 'runs': {'batter': 0, 'extras': 0, 'total': 0}}, {'batter': 'C Green', 'bowler': 'KA Maharaj', 'non_striker': 'AT Carey', 'runs': {'batter': 0, 'extras': 0, 'total': 0}}]}, {'over': 140, 'deliveries': [{'batter': 'AT Carey', 'bowler': 'M Jansen', 'non_striker': 'C Green', 'runs': {'batter': 1, 'extras': 0, 'total': 1}}, {'batter': 'C Green', 'bowler': 'M Jansen', 'non_striker': 'AT Carey', 'runs': {'batter': 0, 'extras': 0, 'total': 0}}, {'batter': 'C Green', 'bowler': 'M Jansen', 'non_striker': 'AT Carey', 'runs': {'batter': 0, 'extras': 0, 'total': 0}}, {'batter': 'C Green', 'bowler': 'M Jansen', 'non_striker': 'AT Carey', 'runs': {'batter': 1, 'extras': 0, 'total': 1}}, {'batter': 'AT Carey', 'bowler': 'M Jansen', 'non_striker': 'C Green', 'runs': {'batter': 0, 'extras': 0, 'total': 0}, 'wickets': [{'player_out': 'AT Carey', 'kind': 'caught and bowled'}]}, {'batter': 'MA Starc', 'bowler': 'M Jansen', 'non_striker': 'C Green', 'runs': {'batter': 0, 'extras': 0, 'total': 0}}]}, {'over': 141, 'deliveries': [{'batter': 'C Green', 'bowler': 'A Nortje', 'non_striker': 'MA Starc', 'runs': {'batter': 0, 'extras': 0, 'total': 0}}, {'batter': 'C Green', 'bowler': 'A Nortje', 'non_striker': 'MA Starc', 'runs': {'batter': 2, 'extras': 0, 'total': 2}}, {'batter': 'C Green', 'bowler': 'A Nortje', 'non_striker': 'MA Starc', 'runs': {'batter': 0, 'extras': 0, 'total': 0}}, {'batter': 'C Green', 'bowler': 'A Nortje', 'non_striker': 'MA Starc', 'runs': {'batter': 1, 'extras': 0, 'total': 1}}, {'batter': 'MA Starc', 'bowler': 'A Nortje', 'non_striker': 'C Green', 'runs': {'batter': 0, 'extras': 0, 'total': 0}}, {'batter': 'MA Starc', 'bowler': 'A Nortje', 'non_striker': 'C Green', 'runs': {'batter': 0, 'extras': 0, 'total': 0}}]}, {'over': 142, 'deliveries': [{'batter': 'C Green', 'bowler': 'M Jansen', 'non_striker': 'MA Starc', 'runs': {'batter': 0, 'extras': 0, 'total': 0}}, {'batter': 'C Green', 'bowler': 'M Jansen', 'non_striker': 'MA Starc', 'runs': {'batter': 4, 'extras': 0, 'total': 4}}, {'batter': 'C Green', 'bowler': 'M Jansen', 'non_striker': 'MA Starc', 'runs': {'batter': 0, 'extras': 0, 'total': 0}}, {'batter': 'C Green', 'bowler': 'M Jansen', 'non_striker': 'MA Starc', 'runs': {'batter': 0, 'extras': 0, 'total': 0}}, {'batter': 'C Green', 'bowler': 'M Jansen', 'non_striker': 'MA Starc', 'runs': {'batter': 0, 'extras': 0, 'total': 0}}, {'batter': 'C Green', 'bowler': 'M Jansen', 'non_striker': 'MA Starc', 'runs': {'batter': 0, 'extras': 0, 'total': 0}}]}, {'over': 143, 'deliveries': [{'batter': 'MA Starc', 'bowler': 'A Nortje', 'non_striker': 'C Green', 'runs': {'batter': 0, 'extras': 0, 'total': 0}}, {'batter': 'MA Starc', 'bowler': 'A Nortje', 'non_striker': 'C Green', 'runs': {'batter': 2, 'extras': 0, 'total': 2}}, {'batter': 'MA Starc', 'bowler': 'A Nortje', 'non_striker': 'C Green', 'runs': {'batter': 6, 'extras': 0, 'total': 6}}, {'batter': 'MA Starc', 'bowler': 'A Nortje', 'non_striker': 'C Green', 'runs': {'batter': 0, 'extras': 0, 'total': 0}}, {'batter': 'MA Starc', 'bowler': 'A Nortje', 'non_striker': 'C Green', 'runs': {'batter': 1, 'extras': 0, 'total': 1}}, {'batter': 'C Green', 'bowler': 'A Nortje', 'non_striker': 'MA Starc', 'runs': {'batter': 0, 'extras': 0, 'total': 0}}]}, {'over': 144, 'deliveries': [{'batter': 'MA Starc', 'bowler': 'M Jansen', 'non_striker': 'C Green', 'runs': {'batter': 0, 'extras': 0, 'total': 0}}, {'batter': 'MA Starc', 'bowler': 'M Jansen', 'non_striker': 'C Green', 'runs': {'batter': 0, 'extras': 0, 'total': 0}}, {'batter': 'MA Starc', 'bowler': 'M Jansen', 'non_striker': 'C Green', 'runs': {'batter': 1, 'extras': 0, 'total': 1}}, {'batter': 'C Green', 'bowler': 'M Jansen', 'non_striker': 'MA Starc', 'runs': {'batter': 0, 'extras': 0, 'total': 0}}, {'batter': 'C Green', 'bowler': 'M Jansen', 'non_striker': 'MA Starc', 'runs': {'batter': 1, 'extras': 0, 'total': 1}}, {'batter': 'MA Starc', 'bowler': 'M Jansen', 'non_striker': 'C Green', 'runs': {'batter': 0, 'extras': 0, 'total': 0}}]}], 'declared': True}, {'team': 'South Africa', 'overs': [{'over': 0, 'deliveries': [{'batter': 'SJ Erwee', 'bowler': 'MA Starc', 'non_striker': 'D Elgar', 'runs': {'batter': 0, 'extras': 0, 'total': 0}}, {'batter': 'SJ Erwee', 'bowler': 'MA Starc', 'non_striker': 'D Elgar', 'runs': {'batter': 0, 'extras': 0, 'total': 0}}, {'batter': 'SJ Erwee', 'bowler': 'MA Starc', 'non_striker': 'D Elgar', 'runs': {'batter': 0, 'extras': 0, 'total': 0}}, {'batter': 'SJ Erwee', 'bowler': 'MA Starc', 'non_striker': 'D Elgar', 'runs': {'batter': 0, 'extras': 0, 'total': 0}}, {'batter': 'SJ Erwee', 'bowler': 'MA Starc', 'non_striker': 'D Elgar', 'runs': {'batter': 0, 'extras': 0, 'total': 0}}, {'batter': 'SJ Erwee', 'bowler': 'MA Starc', 'non_striker': 'D Elgar', 'runs': {'batter': 0, 'extras': 0, 'total': 0}}]}, {'over': 1, 'deliveries': [{'batter': 'D Elgar', 'bowler': 'PJ Cummins', 'non_striker': 'SJ Erwee', 'runs': {'batter': 0, 'extras': 0, 'total': 0}}, {'batter': 'D Elgar', 'bowler': 'PJ Cummins', 'non_striker': 'SJ Erwee', 'runs': {'batter': 0, 'extras': 0, 'total': 0}}, {'batter': 'D Elgar', 'bowler': 'PJ Cummins', 'non_striker': 'SJ Erwee', 'runs': {'batter': 0, 'extras': 0, 'total': 0}, 'wickets': [{'player_out': 'D Elgar', 'fielders': [{'name': 'AT Carey'}], 'kind': 'caught'}]}, {'batter': 'TB de Bruyn', 'bowler': 'PJ Cummins', 'non_striker': 'SJ Erwee', 'runs': {'batter': 0, 'extras': 0, 'total': 0}}, {'batter': 'TB de Bruyn', 'bowler': 'PJ Cummins', 'non_striker': 'SJ Erwee', 'runs': {'batter': 0, 'extras': 0, 'total': 0}}, {'batter': 'TB de Bruyn', 'bowler': 'PJ Cummins', 'non_striker': 'SJ Erwee', 'runs': {'batter': 0, 'extras': 0, 'total': 0}}]}, {'over': 2, 'deliveries': [{'batter': 'SJ Erwee', 'bowler': 'MA Starc', 'non_striker': 'TB de Bruyn', 'runs': {'batter': 1, 'extras': 0, 'total': 1}}, {'batter': 'TB de Bruyn', 'bowler': 'MA Starc', 'non_striker': 'SJ Erwee', 'runs': {'batter': 0, 'extras': 0, 'total': 0}}, {'batter': 'TB de Bruyn', 'bowler': 'MA Starc', 'non_striker': 'SJ Erwee', 'runs': {'batter': 3, 'extras': 0, 'total': 3}}, {'batter': 'SJ Erwee', 'bowler': 'MA Starc', 'non_striker': 'TB de Bruyn', 'runs': {'batter': 0, 'extras': 0, 'total': 0}}, {'batter': 'SJ Erwee', 'bowler': 'MA Starc', 'non_striker': 'TB de Bruyn', 'runs': {'batter': 0, 'extras': 0, 'total': 0}}, {'batter': 'SJ Erwee', 'bowler': 'MA Starc', 'non_striker': 'TB de Bruyn', 'runs': {'batter': 0, 'extras': 0, 'total': 0}}]}, {'over': 3, 'deliveries': [{'batter': 'TB de Bruyn', 'bowler': 'PJ Cummins', 'non_striker': 'SJ Erwee', 'runs': {'batter': 0, 'extras': 0, 'total': 0}}, {'batter': 'TB de Bruyn', 'bowler': 'PJ Cummins', 'non_striker': 'SJ Erwee', 'runs': {'batter': 0, 'extras': 0, 'total': 0}}, {'batter': 'TB de Bruyn', 'bowler': 'PJ Cummins', 'non_striker': 'SJ Erwee', 'runs': {'batter': 0, 'extras': 0, 'total': 0}}, {'batter': 'TB de Bruyn', 'bowler': 'PJ Cummins', 'non_striker': 'SJ Erwee', 'runs': {'batter': 0, 'extras': 0, 'total': 0}}, {'batter': 'TB de Bruyn', 'bowler': 'PJ Cummins', 'non_striker': 'SJ Erwee', 'runs': {'batter': 0, 'extras': 0, 'total': 0}}, {'batter': 'TB de Bruyn', 'bowler': 'PJ Cummins', 'non_striker': 'SJ Erwee', 'runs': {'batter': 0, 'extras': 0, 'total': 0}}]}, {'over': 4, 'deliveries': [{'batter': 'SJ Erwee', 'bowler': 'MA Starc', 'non_striker': 'TB de Bruyn', 'runs': {'batter': 3, 'extras': 0, 'total': 3}}, {'batter': 'TB de Bruyn', 'bowler': 'MA Starc', 'extras': {'legbyes': 1}, 'non_striker': 'SJ Erwee', 'runs': {'batter': 0, 'extras': 1, 'total': 1}}, {'batter': 'SJ Erwee', 'bowler': 'MA Starc', 'non_striker': 'TB de Bruyn', 'runs': {'batter': 1, 'extras': 0, 'total': 1}}, {'batter': 'TB de Bruyn', 'bowler': 'MA Starc', 'non_striker': 'SJ Erwee', 'runs': {'batter': 0, 'extras': 0, 'total': 0}}, {'batter': 'TB de Bruyn', 'bowler': 'MA Starc', 'non_striker': 'SJ Erwee', 'runs': {'batter': 0, 'extras': 0, 'total': 0}}, {'batter': 'TB de Bruyn', 'bowler': 'MA Starc', 'non_striker': 'SJ Erwee', 'runs': {'batter': 0, 'extras': 0, 'total': 0}}]}, {'over': 5, 'deliveries': [{'batter': 'SJ Erwee', 'bowler': 'PJ Cummins', 'non_striker': 'TB de Bruyn', 'runs': {'batter': 0, 'extras': 0, 'total': 0}}, {'batter': 'SJ Erwee', 'bowler': 'PJ Cummins', 'non_striker': 'TB de Bruyn', 'runs': {'batter': 0, 'extras': 0, 'total': 0}}, {'batter': 'SJ Erwee', 'bowler': 'PJ Cummins', 'non_striker': 'TB de Bruyn', 'runs': {'batter': 0, 'extras': 0, 'total': 0}}, {'batter': 'SJ Erwee', 'bowler': 'PJ Cummins', 'non_striker': 'TB de Bruyn', 'runs': {'batter': 0, 'extras': 0, 'total': 0}}, {'batter': 'SJ Erwee', 'bowler': 'PJ Cummins', 'non_striker': 'TB de Bruyn', 'runs': {'batter': 0, 'extras': 0, 'total': 0}}, {'batter': 'SJ Erwee', 'bowler': 'PJ Cummins', 'non_striker': 'TB de Bruyn', 'runs': {'batter': 0, 'extras': 0, 'total': 0}}]}, {'over': 6, 'deliveries': [{'batter': 'TB de Bruyn', 'bowler': 'MA Starc', 'extras': {'legbyes': 1}, 'non_striker': 'SJ Erwee', 'runs': {'batter': 0, 'extras': 1, 'total': 1}}, {'batter': 'SJ Erwee', 'bowler': 'MA Starc', 'non_striker': 'TB de Bruyn', 'runs': {'batter': 1, 'extras': 0, 'total': 1}}, {'batter': 'TB de Bruyn', 'bowler': 'MA Starc', 'non_striker': 'SJ Erwee', 'runs': {'batter': 0, 'extras': 0, 'total': 0}}, {'batter': 'TB de Bruyn', 'bowler': 'MA Starc', 'non_striker': 'SJ Erwee', 'runs': {'batter': 3, 'extras': 0, 'total': 3}}, {'batter': 'SJ Erwee', 'bowler': 'MA Starc', 'non_striker': 'TB de Bruyn', 'runs': {'batter': 0, 'extras': 0, 'total': 0}}, {'batter': 'SJ Erwee', 'bowler': 'MA Starc', 'non_striker': 'TB de Bruyn', 'runs': {'batter': 1, 'extras': 0, 'total': 1}}]}, {'over': 7, 'deliveries': [{'batter': 'SJ Erwee', 'bowler': 'PJ Cummins', 'non_striker': 'TB de Bruyn', 'runs': {'batter': 0, 'extras': 0, 'total': 0}}, {'batter': 'SJ Erwee', 'bowler': 'PJ Cummins', 'non_striker': 'TB de Bruyn', 'runs': {'batter': 0, 'extras': 0, 'total': 0}}, {'batter': 'SJ Erwee', 'bowler': 'PJ Cummins', 'non_striker': 'TB de Bruyn', 'runs': {'batter': 0, 'extras': 0, 'total': 0}}, {'batter': 'SJ Erwee', 'bowler': 'PJ Cummins', 'non_striker': 'TB de Bruyn', 'runs': {'batter': 0, 'extras': 0, 'total': 0}}, {'batter': 'SJ Erwee', 'bowler': 'PJ Cummins', 'non_striker': 'TB de Bruyn', 'runs': {'batter': 0, 'extras': 0, 'total': 0}}, {'batter': 'SJ Erwee', 'bowler': 'PJ Cummins', 'non_striker': 'TB de Bruyn', 'runs': {'batter': 0, 'extras': 0, 'total': 0}}]}, {'over': 8, 'deliveries': [{'batter': 'TB de Bruyn', 'bowler': 'MA Starc', 'non_striker': 'SJ Erwee', 'runs': {'batter': 0, 'extras': 0, 'total': 0}}, {'batter': 'TB de Bruyn', 'bowler': 'MA Starc', 'non_striker': 'SJ Erwee', 'runs': {'batter': 0, 'extras': 0, 'total': 0}}, {'batter': 'TB de Bruyn', 'bowler': 'MA Starc', 'non_striker': 'SJ Erwee', 'runs': {'batter': 0, 'extras': 0, 'total': 0}}, {'batter': 'TB de Bruyn', 'bowler': 'MA Starc', 'non_striker': 'SJ Erwee', 'runs': {'batter': 0, 'extras': 0, 'total': 0}}, {'batter': 'TB de Bruyn', 'bowler': 'MA Starc', 'non_striker': 'SJ Erwee', 'runs': {'batter': 0, 'extras': 0, 'total': 0}}, {'batter': 'TB de Bruyn', 'bowler': 'MA Starc', 'non_striker': 'SJ Erwee', 'runs': {'batter': 0, 'extras': 0, 'total': 0}}]}, {'over': 9, 'deliveries': [{'batter': 'SJ Erwee', 'bowler': 'PJ Cummins', 'non_striker': 'TB de Bruyn', 'runs': {'batter': 0, 'extras': 0, 'total': 0}}, {'batter': 'SJ Erwee', 'bowler': 'PJ Cummins', 'extras': {'byes': 1, 'noballs': 1}, 'non_striker': 'TB de Bruyn', 'runs': {'batter': 0, 'extras': 2, 'total': 2}}, {'batter': 'TB de Bruyn', 'bowler': 'PJ Cummins', 'non_striker': 'SJ Erwee', 'runs': {'batter': 0, 'extras': 0, 'total': 0}}, {'batter': 'TB de Bruyn', 'bowler': 'PJ Cummins', 'non_striker': 'SJ Erwee', 'runs': {'batter': 0, 'extras': 0, 'total': 0}}, {'batter': 'TB de Bruyn', 'bowler': 'PJ Cummins', 'non_striker': 'SJ Erwee', 'runs': {'batter': 0, 'extras': 0, 'total': 0}}, {'batter': 'TB de Bruyn', 'bowler': 'PJ Cummins', 'non_striker': 'SJ Erwee', 'runs': {'batter': 2, 'extras': 0, 'total': 2}}, {'batter': 'TB de Bruyn', 'bowler': 'PJ Cummins', 'non_striker': 'SJ Erwee', 'runs': {'batter': 0, 'extras': 0, 'total': 0}}]}, {'over': 10, 'deliveries': [{'batter': 'SJ Erwee', 'bowler': 'MA Starc', 'non_striker': 'TB de Bruyn', 'runs': {'batter': 1, 'extras': 0, 'total': 1}}, {'batter': 'TB de Bruyn', 'bowler': 'MA Starc', 'non_striker': 'SJ Erwee', 'runs': {'batter': 0, 'extras': 0, 'total': 0}}, {'batter': 'TB de Bruyn', 'bowler': 'MA Starc', 'non_striker': 'SJ Erwee', 'runs': {'batter': 0, 'extras': 0, 'total': 0}}, {'batter': 'TB de Bruyn', 'bowler': 'MA Starc', 'non_striker': 'SJ Erwee', 'runs': {'batter': 0, 'extras': 0, 'total': 0}}, {'batter': 'TB de Bruyn', 'bowler': 'MA Starc', 'non_striker': 'SJ Erwee', 'runs': {'batter': 0, 'extras': 0, 'total': 0}}, {'batter': 'TB de Bruyn', 'bowler': 'MA Starc', 'non_striker': 'SJ Erwee', 'runs': {'batter': 3, 'extras': 0, 'total': 3}}]}, {'over': 11, 'deliveries': [{'batter': 'TB de Bruyn', 'bowler': 'PJ Cummins', 'non_striker': 'SJ Erwee', 'runs': {'batter': 0, 'extras': 0, 'total': 0}}, {'batter': 'TB de Bruyn', 'bowler': 'PJ Cummins', 'non_striker': 'SJ Erwee', 'runs': {'batter': 0, 'extras': 0, 'total': 0}}, {'batter': 'TB de Bruyn', 'bowler': 'PJ Cummins', 'non_striker': 'SJ Erwee', 'runs': {'batter': 0, 'extras': 0, 'total': 0}}, {'batter': 'TB de Bruyn', 'bowler': 'PJ Cummins', 'non_striker': 'SJ Erwee', 'runs': {'batter': 0, 'extras': 0, 'total': 0}}, {'batter': 'TB de Bruyn', 'bowler': 'PJ Cummins', 'non_striker': 'SJ Erwee', 'runs': {'batter': 0, 'extras': 0, 'total': 0}}, {'batter': 'TB de Bruyn', 'bowler': 'PJ Cummins', 'non_striker': 'SJ Erwee', 'runs': {'batter': 0, 'extras': 0, 'total': 0}}]}, {'over': 12, 'deliveries': [{'batter': 'SJ Erwee', 'bowler': 'MA Starc', 'non_striker': 'TB de Bruyn', 'runs': {'batter': 0, 'extras': 0, 'total': 0}}, {'batter': 'SJ Erwee', 'bowler': 'MA Starc', 'extras': {'legbyes': 1}, 'non_striker': 'TB de Bruyn', 'runs': {'batter': 0, 'extras': 1, 'total': 1}}, {'batter': 'TB de Bruyn', 'bowler': 'MA Starc', 'non_striker': 'SJ Erwee', 'runs': {'batter': 0, 'extras': 0, 'total': 0}}, {'batter': 'TB de Bruyn', 'bowler': 'MA Starc', 'non_striker': 'SJ Erwee', 'runs': {'batter': 0, 'extras': 0, 'total': 0}}, {'batter': 'TB de Bruyn', 'bowler': 'MA Starc', 'non_striker': 'SJ Erwee', 'runs': {'batter': 0, 'extras': 0, 'total': 0}}, {'batter': 'TB de Bruyn', 'bowler': 'MA Starc', 'non_striker': 'SJ Erwee', 'runs': {'batter': 0, 'extras': 0, 'total': 0}}]}, {'over': 13, 'deliveries': [{'batter': 'SJ Erwee', 'bowler': 'SM Boland', 'non_striker': 'TB de Bruyn', 'runs': {'batter': 2, 'extras': 0, 'total': 2}}, {'batter': 'SJ Erwee', 'bowler': 'SM Boland', 'non_striker': 'TB de Bruyn', 'runs': {'batter': 0, 'extras': 0, 'total': 0}}, {'batter': 'SJ Erwee', 'bowler': 'SM Boland', 'non_striker': 'TB de Bruyn', 'runs': {'batter': 3, 'extras': 0, 'total': 3}}, {'batter': 'TB de Bruyn', 'bowler': 'SM Boland', 'non_striker': 'SJ Erwee', 'runs': {'batter': 0, 'extras': 0, 'total': 0}}, {'batter': 'TB de Bruyn', 'bowler': 'SM Boland', 'non_striker': 'SJ Erwee', 'runs': {'batter': 1, 'extras': 0, 'total': 1}}, {'batter': 'SJ Erwee', 'bowler': 'SM Boland', 'non_striker': 'TB de Bruyn', 'runs': {'batter': 4, 'extras': 0, 'non_boundary': True, 'total': 4}}]}, {'over': 14, 'deliveries': [{'batter': 'TB de Bruyn', 'bowler': 'MA Starc', 'non_striker': 'SJ Erwee', 'runs': {'batter': 0, 'extras': 0, 'total': 0}}, {'batter': 'TB de Bruyn', 'bowler': 'MA Starc', 'non_striker': 'SJ Erwee', 'runs': {'batter': 0, 'extras': 0, 'total': 0}}, {'batter': 'TB de Bruyn', 'bowler': 'MA Starc', 'non_striker': 'SJ Erwee', 'runs': {'batter': 0, 'extras': 0, 'total': 0}}, {'batter': 'TB de Bruyn', 'bowler': 'MA Starc', 'non_striker': 'SJ Erwee', 'runs': {'batter': 1, 'extras': 0, 'total': 1}}, {'batter': 'SJ Erwee', 'bowler': 'MA Starc', 'non_striker': 'TB de Bruyn', 'runs': {'batter': 4, 'extras': 0, 'total': 4}}, {'batter': 'SJ Erwee', 'bowler': 'MA Starc', 'non_striker': 'TB de Bruyn', 'runs': {'batter': 0, 'extras': 0, 'total': 0}}]}, {'over': 15, 'deliveries': [{'batter': 'TB de Bruyn', 'bowler': 'SM Boland', 'non_striker': 'SJ Erwee', 'runs': {'batter': 0, 'extras': 0, 'total': 0}}, {'batter': 'TB de Bruyn', 'bowler': 'SM Boland', 'non_striker': 'SJ Erwee', 'runs': {'batter': 0, 'extras': 0, 'total': 0}}, {'batter': 'TB de Bruyn', 'bowler': 'SM Boland', 'non_striker': 'SJ Erwee', 'runs': {'batter': 0, 'extras': 0, 'total': 0}}, {'batter': 'TB de Bruyn', 'bowler': 'SM Boland', 'non_striker': 'SJ Erwee', 'runs': {'batter': 1, 'extras': 0, 'total': 1}}, {'batter': 'SJ Erwee', 'bowler': 'SM Boland', 'non_striker': 'TB de Bruyn', 'runs': {'batter': 0, 'extras': 0, 'total': 0}}, {'batter': 'SJ Erwee', 'bowler': 'SM Boland', 'non_striker': 'TB de Bruyn', 'runs': {'batter': 0, 'extras': 0, 'total': 0}}]}, {'over': 16, 'deliveries': [{'batter': 'TB de Bruyn', 'bowler': 'MA Starc', 'non_striker': 'SJ Erwee', 'runs': {'batter': 4, 'extras': 0, 'total': 4}}, {'batter': 'TB de Bruyn', 'bowler': 'MA Starc', 'non_striker': 'SJ Erwee', 'runs': {'batter': 0, 'extras': 0, 'total': 0}}, {'batter': 'TB de Bruyn', 'bowler': 'MA Starc', 'non_striker': 'SJ Erwee', 'runs': {'batter': 0, 'extras': 0, 'total': 0}}, {'batter': 'TB de Bruyn', 'bowler': 'MA Starc', 'non_striker': 'SJ Erwee', 'runs': {'batter': 0, 'extras': 0, 'total': 0}}, {'batter': 'TB de Bruyn', 'bowler': 'MA Starc', 'non_striker': 'SJ Erwee', 'runs': {'batter': 3, 'extras': 0, 'total': 3}}, {'batter': 'SJ Erwee', 'bowler': 'MA Starc', 'non_striker': 'TB de Bruyn', 'review': {'by': 'Australia', 'umpire': 'PR Reiffel', 'batter': 'SJ Erwee', 'decision': 'upheld'}, 'runs': {'batter': 0, 'extras': 0, 'total': 0}, 'wickets': [{'player_out': 'SJ Erwee', 'kind': 'lbw'}]}]}, {'over': 17, 'deliveries': [{'batter': 'TB de Bruyn', 'bowler': 'SM Boland', 'non_striker': 'T Bavuma', 'runs': {'batter': 4, 'extras': 0, 'total': 4}}, {'batter': 'TB de Bruyn', 'bowler': 'SM Boland', 'non_striker': 'T Bavuma', 'runs': {'batter': 0, 'extras': 0, 'total': 0}}, {'batter': 'TB de Bruyn', 'bowler': 'SM Boland', 'non_striker': 'T Bavuma', 'runs': {'batter': 0, 'extras': 0, 'total': 0}}, {'batter': 'TB de Bruyn', 'bowler': 'SM Boland', 'non_striker': 'T Bavuma', 'runs': {'batter': 0, 'extras': 0, 'total': 0}}, {'batter': 'TB de Bruyn', 'bowler': 'SM Boland', 'non_striker': 'T Bavuma', 'runs': {'batter': 0, 'extras': 0, 'total': 0}}, {'batter': 'TB de Bruyn', 'bowler': 'SM Boland', 'non_striker': 'T Bavuma', 'runs': {'batter': 0, 'extras': 0, 'total': 0}}]}, {'over': 18, 'deliveries': [{'batter': 'T Bavuma', 'bowler': 'MA Starc', 'non_striker': 'TB de Bruyn', 'runs': {'batter': 0, 'extras': 0, 'total': 0}}, {'batter': 'T Bavuma', 'bowler': 'MA Starc', 'non_striker': 'TB de Bruyn', 'runs': {'batter': 0, 'extras': 0, 'total': 0}}, {'batter': 'T Bavuma', 'bowler': 'MA Starc', 'non_striker': 'TB de Bruyn', 'runs': {'batter': 0, 'extras': 0, 'total': 0}}, {'batter': 'T Bavuma', 'bowler': 'MA Starc', 'non_striker': 'TB de Bruyn', 'runs': {'batter': 0, 'extras': 0, 'total': 0}}, {'batter': 'T Bavuma', 'bowler': 'MA Starc', 'non_striker': 'TB de Bruyn', 'runs': {'batter': 0, 'extras': 0, 'total': 0}}, {'batter': 'T Bavuma', 'bowler': 'MA Starc', 'non_striker': 'TB de Bruyn', 'runs': {'batter': 0, 'extras': 0, 'total': 0}}]}, {'over': 19, 'deliveries': [{'batter': 'TB de Bruyn', 'bowler': 'SM Boland', 'non_striker': 'T Bavuma', 'runs': {'batter': 0, 'extras': 0, 'total': 0}}, {'batter': 'TB de Bruyn', 'bowler': 'SM Boland', 'non_striker': 'T Bavuma', 'runs': {'batter': 3, 'extras': 0, 'total': 3}}, {'batter': 'T Bavuma', 'bowler': 'SM Boland', 'non_striker': 'TB de Bruyn', 'runs': {'batter': 0, 'extras': 0, 'total': 0}}, {'batter': 'T Bavuma', 'bowler': 'SM Boland', 'non_striker': 'TB de Bruyn', 'runs': {'batter': 3, 'extras': 0, 'total': 3}}, {'batter': 'TB de Bruyn', 'bowler': 'SM Boland', 'non_striker': 'T Bavuma', 'runs': {'batter': 0, 'extras': 0, 'total': 0}, 'wickets': [{'player_out': 'TB de Bruyn', 'fielders': [{'name': 'SPD Smith'}], 'kind': 'caught'}]}, {'batter': 'K Zondo', 'bowler': 'SM Boland', 'non_striker': 'T Bavuma', 'runs': {'batter': 0, 'extras': 0, 'total': 0}}]}, {'over': 20, 'deliveries': [{'batter': 'T Bavuma', 'bowler': 'PJ Cummins', 'non_striker': 'K Zondo', 'runs': {'batter': 0, 'extras': 0, 'total': 0}}, {'batter': 'T Bavuma', 'bowler': 'PJ Cummins', 'non_striker': 'K Zondo', 'runs': {'batter': 0, 'extras': 0, 'total': 0}}, {'batter': 'T Bavuma', 'bowler': 'PJ Cummins', 'non_striker': 'K Zondo', 'runs': {'batter': 0, 'extras': 0, 'total': 0}}, {'batter': 'T Bavuma', 'bowler': 'PJ Cummins', 'non_striker': 'K Zondo', 'runs': {'batter': 1, 'extras': 0, 'total': 1}}, {'batter': 'K Zondo', 'bowler': 'PJ Cummins', 'non_striker': 'T Bavuma', 'runs': {'batter': 0, 'extras': 0, 'total': 0}}, {'batter': 'K Zondo', 'bowler': 'PJ Cummins', 'non_striker': 'T Bavuma', 'runs': {'batter': 0, 'extras': 0, 'total': 0}}]}, {'over': 21, 'deliveries': [{'batter': 'T Bavuma', 'bowler': 'SM Boland', 'non_striker': 'K Zondo', 'runs': {'batter': 0, 'extras': 0, 'total': 0}}, {'batter': 'T Bavuma', 'bowler': 'SM Boland', 'non_striker': 'K Zondo', 'runs': {'batter': 0, 'extras': 0, 'total': 0}}, {'batter': 'T Bavuma', 'bowler': 'SM Boland', 'non_striker': 'K Zondo', 'runs': {'batter': 0, 'extras': 0, 'total': 0}}, {'batter': 'T Bavuma', 'bowler': 'SM Boland', 'non_striker': 'K Zondo', 'runs': {'batter': 0, 'extras': 0, 'total': 0}}, {'batter': 'T Bavuma', 'bowler': 'SM Boland', 'non_striker': 'K Zondo', 'runs': {'batter': 4, 'extras': 0, 'total': 4}}, {'batter': 'T Bavuma', 'bowler': 'SM Boland', 'non_striker': 'K Zondo', 'runs': {'batter': 0, 'extras': 0, 'total': 0}}]}, {'over': 22, 'deliveries': [{'batter': 'K Zondo', 'bowler': 'PJ Cummins', 'non_striker': 'T Bavuma', 'runs': {'batter': 0, 'extras': 0, 'total': 0}}, {'batter': 'K Zondo', 'bowler': 'PJ Cummins', 'non_striker': 'T Bavuma', 'runs': {'batter': 0, 'extras': 0, 'total': 0}}, {'batter': 'K Zondo', 'bowler': 'PJ Cummins', 'extras': {'legbyes': 1}, 'non_striker': 'T Bavuma', 'runs': {'batter': 0, 'extras': 1, 'total': 1}}, {'batter': 'T Bavuma', 'bowler': 'PJ Cummins', 'non_striker': 'K Zondo', 'runs': {'batter': 0, 'extras': 0, 'total': 0}}, {'batter': 'T Bavuma', 'bowler': 'PJ Cummins', 'non_striker': 'K Zondo', 'runs': {'batter': 0, 'extras': 0, 'total': 0}}, {'batter': 'T Bavuma', 'bowler': 'PJ Cummins', 'non_striker': 'K Zondo', 'runs': {'batter': 0, 'extras': 0, 'total': 0}}]}, {'over': 23, 'deliveries': [{'batter': 'K Zondo', 'bowler': 'NM Lyon', 'non_striker': 'T Bavuma', 'runs': {'batter': 0, 'extras': 0, 'total': 0}}, {'batter': 'K Zondo', 'bowler': 'NM Lyon', 'non_striker': 'T Bavuma', 'runs': {'batter': 0, 'extras': 0, 'total': 0}}, {'batter': 'K Zondo', 'bowler': 'NM Lyon', 'non_striker': 'T Bavuma', 'runs': {'batter': 0, 'extras': 0, 'total': 0}}, {'batter': 'K Zondo', 'bowler': 'NM Lyon', 'non_striker': 'T Bavuma', 'runs': {'batter': 1, 'extras': 0, 'total': 1}}, {'batter': 'T Bavuma', 'bowler': 'NM Lyon', 'non_striker': 'K Zondo', 'runs': {'batter': 0, 'extras': 0, 'total': 0}}, {'batter': 'T Bavuma', 'bowler': 'NM Lyon', 'non_striker': 'K Zondo', 'runs': {'batter': 0, 'extras': 0, 'total': 0}}]}, {'over': 24, 'deliveries': [{'batter': 'K Zondo', 'bowler': 'PJ Cummins', 'non_striker': 'T Bavuma', 'runs': {'batter': 0, 'extras': 0, 'total': 0}}, {'batter': 'K Zondo', 'bowler': 'PJ Cummins', 'non_striker': 'T Bavuma', 'runs': {'batter': 0, 'extras': 0, 'total': 0}}, {'batter': 'K Zondo', 'bowler': 'PJ Cummins', 'non_striker': 'T Bavuma', 'runs': {'batter': 0, 'extras': 0, 'total': 0}}, {'batter': 'K Zondo', 'bowler': 'PJ Cummins', 'non_striker': 'T Bavuma', 'runs': {'batter': 0, 'extras': 0, 'total': 0}}, {'batter': 'K Zondo', 'bowler': 'PJ Cummins', 'non_striker': 'T Bavuma', 'runs': {'batter': 0, 'extras': 0, 'total': 0}}, {'batter': 'K Zondo', 'bowler': 'PJ Cummins', 'non_striker': 'T Bavuma', 'runs': {'batter': 0, 'extras': 0, 'total': 0}}]}, {'over': 25, 'deliveries': [{'batter': 'T Bavuma', 'bowler': 'NM Lyon', 'non_striker': 'K Zondo', 'runs': {'batter': 0, 'extras': 0, 'total': 0}}, {'batter': 'T Bavuma', 'bowler': 'NM Lyon', 'non_striker': 'K Zondo', 'runs': {'batter': 0, 'extras': 0, 'total': 0}}, {'batter': 'T Bavuma', 'bowler': 'NM Lyon', 'non_striker': 'K Zondo', 'runs': {'batter': 1, 'extras': 0, 'total': 1}}, {'batter': 'K Zondo', 'bowler': 'NM Lyon', 'non_striker': 'T Bavuma', 'runs': {'batter': 0, 'extras': 0, 'total': 0}}, {'batter': 'K Zondo', 'bowler': 'NM Lyon', 'non_striker': 'T Bavuma', 'runs': {'batter': 0, 'extras': 0, 'total': 0}}, {'batter': 'K Zondo', 'bowler': 'NM Lyon', 'non_striker': 'T Bavuma', 'runs': {'batter': 0, 'extras': 0, 'total': 0}}]}, {'over': 26, 'deliveries': [{'batter': 'T Bavuma', 'bowler': 'PJ Cummins', 'non_striker': 'K Zondo', 'runs': {'batter': 0, 'extras': 0, 'total': 0}}, {'batter': 'T Bavuma', 'bowler': 'PJ Cummins', 'non_striker': 'K Zondo', 'runs': {'batter': 0, 'extras': 0, 'total': 0}}, {'batter': 'T Bavuma', 'bowler': 'PJ Cummins', 'non_striker': 'K Zondo', 'runs': {'batter': 0, 'extras': 0, 'total': 0}}, {'batter': 'T Bavuma', 'bowler': 'PJ Cummins', 'non_striker': 'K Zondo', 'runs': {'batter': 0, 'extras': 0, 'total': 0}}, {'batter': 'T Bavuma', 'bowler': 'PJ Cummins', 'non_striker': 'K Zondo', 'runs': {'batter': 0, 'extras': 0, 'total': 0}}, {'batter': 'T Bavuma', 'bowler': 'PJ Cummins', 'non_striker': 'K Zondo', 'runs': {'batter': 0, 'extras': 0, 'total': 0}, 'wickets': [{'player_out': 'K Zondo', 'fielders': [{'name': 'TM Head'}], 'kind': 'run out'}]}]}, {'over': 27, 'deliveries': [{'batter': 'T Bavuma', 'bowler': 'NM Lyon', 'non_striker': 'K Verreynne', 'runs': {'batter': 4, 'extras': 0, 'total': 4}}, {'batter': 'T Bavuma', 'bowler': 'NM Lyon', 'non_striker': 'K Verreynne', 'runs': {'batter': 0, 'extras': 0, 'total': 0}}, {'batter': 'T Bavuma', 'bowler': 'NM Lyon', 'non_striker': 'K Verreynne', 'runs': {'batter': 0, 'extras': 0, 'total': 0}}, {'batter': 'T Bavuma', 'bowler': 'NM Lyon', 'non_striker': 'K Verreynne', 'runs': {'batter': 0, 'extras': 0, 'total': 0}}, {'batter': 'T Bavuma', 'bowler': 'NM Lyon', 'non_striker': 'K Verreynne', 'runs': {'batter': 0, 'extras': 0, 'total': 0}}, {'batter': 'T Bavuma', 'bowler': 'NM Lyon', 'non_striker': 'K Verreynne', 'runs': {'batter': 1, 'extras': 0, 'total': 1}}]}, {'over': 28, 'deliveries': [{'batter': 'T Bavuma', 'bowler': 'PJ Cummins', 'non_striker': 'K Verreynne', 'runs': {'batter': 0, 'extras': 0, 'total': 0}}, {'batter': 'T Bavuma', 'bowler': 'PJ Cummins', 'non_striker': 'K Verreynne', 'runs': {'batter': 0, 'extras': 0, 'total': 0}}, {'batter': 'T Bavuma', 'bowler': 'PJ Cummins', 'non_striker': 'K Verreynne', 'runs': {'batter': 0, 'extras': 0, 'total': 0}}, {'batter': 'T Bavuma', 'bowler': 'PJ Cummins', 'non_striker': 'K Verreynne', 'runs': {'batter': 0, 'extras': 0, 'total': 0}}, {'batter': 'T Bavuma', 'bowler': 'PJ Cummins', 'non_striker': 'K Verreynne', 'runs': {'batter': 4, 'extras': 0, 'total': 4}}, {'batter': 'T Bavuma', 'bowler': 'PJ Cummins', 'non_striker': 'K Verreynne', 'runs': {'batter': 0, 'extras': 0, 'total': 0}}]}, {'over': 29, 'deliveries': [{'batter': 'K Verreynne', 'bowler': 'NM Lyon', 'non_striker': 'T Bavuma', 'runs': {'batter': 0, 'extras': 0, 'total': 0}}, {'batter': 'K Verreynne', 'bowler': 'NM Lyon', 'non_striker': 'T Bavuma', 'runs': {'batter': 0, 'extras': 0, 'total': 0}}, {'batter': 'K Verreynne', 'bowler': 'NM Lyon', 'non_striker': 'T Bavuma', 'runs': {'batter': 0, 'extras': 0, 'total': 0}}, {'batter': 'K Verreynne', 'bowler': 'NM Lyon', 'non_striker': 'T Bavuma', 'runs': {'batter': 0, 'extras': 0, 'total': 0}}, {'batter': 'K Verreynne', 'bowler': 'NM Lyon', 'non_striker': 'T Bavuma', 'runs': {'batter': 4, 'extras': 0, 'total': 4}}, {'batter': 'K Verreynne', 'bowler': 'NM Lyon', 'non_striker': 'T Bavuma', 'runs': {'batter': 0, 'extras': 0, 'total': 0}}]}, {'over': 30, 'deliveries': [{'batter': 'T Bavuma', 'bowler': 'SM Boland', 'non_striker': 'K Verreynne', 'runs': {'batter': 0, 'extras': 0, 'total': 0}}, {'batter': 'T Bavuma', 'bowler': 'SM Boland', 'non_striker': 'K Verreynne', 'runs': {'batter': 0, 'extras': 0, 'total': 0}}, {'batter': 'T Bavuma', 'bowler': 'SM Boland', 'non_striker': 'K Verreynne', 'runs': {'batter': 0, 'extras': 0, 'total': 0}}, {'batter': 'T Bavuma', 'bowler': 'SM Boland', 'non_striker': 'K Verreynne', 'runs': {'batter': 0, 'extras': 0, 'total': 0}}, {'batter': 'T Bavuma', 'bowler': 'SM Boland', 'non_striker': 'K Verreynne', 'runs': {'batter': 2, 'extras': 0, 'total': 2}}, {'batter': 'T Bavuma', 'bowler': 'SM Boland', 'non_striker': 'K Verreynne', 'runs': {'batter': 0, 'extras': 0, 'total': 0}}]}, {'over': 31, 'deliveries': [{'batter': 'K Verreynne', 'bowler': 'NM Lyon', 'non_striker': 'T Bavuma', 'runs': {'batter': 0, 'extras': 0, 'total': 0}}, {'batter': 'K Verreynne', 'bowler': 'NM Lyon', 'non_striker': 'T Bavuma', 'runs': {'batter': 0, 'extras': 0, 'total': 0}}, {'batter': 'K Verreynne', 'bowler': 'NM Lyon', 'non_striker': 'T Bavuma', 'runs': {'batter': 1, 'extras': 0, 'total': 1}}, {'batter': 'T Bavuma', 'bowler': 'NM Lyon', 'non_striker': 'K Verreynne', 'runs': {'batter': 0, 'extras': 0, 'total': 0}}, {'batter': 'T Bavuma', 'bowler': 'NM Lyon', 'non_striker': 'K Verreynne', 'runs': {'batter': 0, 'extras': 0, 'total': 0}}, {'batter': 'T Bavuma', 'bowler': 'NM Lyon', 'non_striker': 'K Verreynne', 'runs': {'batter': 1, 'extras': 0, 'total': 1}}]}, {'over': 32, 'deliveries': [{'batter': 'T Bavuma', 'bowler': 'SM Boland', 'non_striker': 'K Verreynne', 'runs': {'batter': 0, 'extras': 0, 'total': 0}}, {'batter': 'T Bavuma', 'bowler': 'SM Boland', 'non_striker': 'K Verreynne', 'runs': {'batter': 0, 'extras': 0, 'total': 0}}, {'batter': 'T Bavuma', 'bowler': 'SM Boland', 'non_striker': 'K Verreynne', 'runs': {'batter': 0, 'extras': 0, 'total': 0}}, {'batter': 'T Bavuma', 'bowler': 'SM Boland', 'non_striker': 'K Verreynne', 'runs': {'batter': 0, 'extras': 0, 'total': 0}}, {'batter': 'T Bavuma', 'bowler': 'SM Boland', 'non_striker': 'K Verreynne', 'runs': {'batter': 1, 'extras': 0, 'total': 1}}, {'batter': 'K Verreynne', 'bowler': 'SM Boland', 'non_striker': 'T Bavuma', 'runs': {'batter': 0, 'extras': 0, 'total': 0}}]}, {'over': 33, 'deliveries': [{'batter': 'T Bavuma', 'bowler': 'NM Lyon', 'non_striker': 'K Verreynne', 'runs': {'batter': 0, 'extras': 0, 'total': 0}}, {'batter': 'T Bavuma', 'bowler': 'NM Lyon', 'non_striker': 'K Verreynne', 'runs': {'batter': 2, 'extras': 0, 'total': 2}}, {'batter': 'T Bavuma', 'bowler': 'NM Lyon', 'non_striker': 'K Verreynne', 'runs': {'batter': 0, 'extras': 0, 'total': 0}}, {'batter': 'T Bavuma', 'bowler': 'NM Lyon', 'non_striker': 'K Verreynne', 'runs': {'batter': 1, 'extras': 0, 'total': 1}}, {'batter': 'K Verreynne', 'bowler': 'NM Lyon', 'non_striker': 'T Bavuma', 'runs': {'batter': 1, 'extras': 0, 'total': 1}}, {'batter': 'T Bavuma', 'bowler': 'NM Lyon', 'non_striker': 'K Verreynne', 'runs': {'batter': 0, 'extras': 0, 'total': 0}}]}, {'over': 34, 'deliveries': [{'batter': 'K Verreynne', 'bowler': 'SM Boland', 'non_striker': 'T Bavuma', 'runs': {'batter': 0, 'extras': 0, 'total': 0}}, {'batter': 'K Verreynne', 'bowler': 'SM Boland', 'non_striker': 'T Bavuma', 'runs': {'batter': 0, 'extras': 0, 'total': 0}}, {'batter': 'K Verreynne', 'bowler': 'SM Boland', 'non_striker': 'T Bavuma', 'runs': {'batter': 4, 'extras': 0, 'total': 4}}, {'batter': 'K Verreynne', 'bowler': 'SM Boland', 'non_striker': 'T Bavuma', 'runs': {'batter': 2, 'extras': 0, 'total': 2}}, {'batter': 'K Verreynne', 'bowler': 'SM Boland', 'non_striker': 'T Bavuma', 'runs': {'batter': 0, 'extras': 0, 'total': 0}}, {'batter': 'K Verreynne', 'bowler': 'SM Boland', 'non_striker': 'T Bavuma', 'runs': {'batter': 0, 'extras': 0, 'total': 0}}]}, {'over': 35, 'deliveries': [{'batter': 'T Bavuma', 'bowler': 'NM Lyon', 'non_striker': 'K Verreynne', 'runs': {'batter': 4, 'extras': 0, 'total': 4}}, {'batter': 'T Bavuma', 'bowler': 'NM Lyon', 'non_striker': 'K Verreynne', 'runs': {'batter': 0, 'extras': 0, 'total': 0}}, {'batter': 'T Bavuma', 'bowler': 'NM Lyon', 'non_striker': 'K Verreynne', 'runs': {'batter': 0, 'extras': 0, 'total': 0}}, {'batter': 'T Bavuma', 'bowler': 'NM Lyon', 'non_striker': 'K Verreynne', 'runs': {'batter': 0, 'extras': 0, 'total': 0}}, {'batter': 'T Bavuma', 'bowler': 'NM Lyon', 'non_striker': 'K Verreynne', 'runs': {'batter': 0, 'extras': 0, 'total': 0}}, {'batter': 'T Bavuma', 'bowler': 'NM Lyon', 'non_striker': 'K Verreynne', 'runs': {'batter': 0, 'extras': 0, 'total': 0}}]}, {'over': 36, 'deliveries': [{'batter': 'K Verreynne', 'bowler': 'MA Starc', 'non_striker': 'T Bavuma', 'runs': {'batter': 0, 'extras': 0, 'total': 0}}, {'batter': 'K Verreynne', 'bowler': 'MA Starc', 'non_striker': 'T Bavuma', 'runs': {'batter': 0, 'extras': 0, 'total': 0}}, {'batter': 'K Verreynne', 'bowler': 'MA Starc', 'non_striker': 'T Bavuma', 'runs': {'batter': 1, 'extras': 0, 'total': 1}}, {'batter': 'T Bavuma', 'bowler': 'MA Starc', 'non_striker': 'K Verreynne', 'runs': {'batter': 4, 'extras': 0, 'total': 4}}, {'batter': 'T Bavuma', 'bowler': 'MA Starc', 'non_striker': 'K Verreynne', 'runs': {'batter': 0, 'extras': 0, 'total': 0}}, {'batter': 'T Bavuma', 'bowler': 'MA Starc', 'non_striker': 'K Verreynne', 'runs': {'batter': 0, 'extras': 0, 'total': 0}}]}, {'over': 37, 'deliveries': [{'batter': 'K Verreynne', 'bowler': 'NM Lyon', 'non_striker': 'T Bavuma', 'runs': {'batter': 4, 'extras': 0, 'total': 4}}, {'batter': 'K Verreynne', 'bowler': 'NM Lyon', 'non_striker': 'T Bavuma', 'runs': {'batter': 0, 'extras': 0, 'total': 0}}, {'batter': 'K Verreynne', 'bowler': 'NM Lyon', 'non_striker': 'T Bavuma', 'runs': {'batter': 1, 'extras': 0, 'total': 1}}, {'batter': 'T Bavuma', 'bowler': 'NM Lyon', 'non_striker': 'K Verreynne', 'runs': {'batter': 0, 'extras': 0, 'total': 0}}, {'batter': 'T Bavuma', 'bowler': 'NM Lyon', 'non_striker': 'K Verreynne', 'runs': {'batter': 0, 'extras': 0, 'total': 0}}, {'batter': 'T Bavuma', 'bowler': 'NM Lyon', 'non_striker': 'K Verreynne', 'runs': {'batter': 1, 'extras': 0, 'total': 1}}]}, {'over': 38, 'deliveries': [{'batter': 'T Bavuma', 'bowler': 'MA Starc', 'non_striker': 'K Verreynne', 'runs': {'batter': 1, 'extras': 0, 'total': 1}}, {'batter': 'K Verreynne', 'bowler': 'MA Starc', 'non_striker': 'T Bavuma', 'runs': {'batter': 4, 'extras': 0, 'total': 4}}, {'batter': 'K Verreynne', 'bowler': 'MA Starc', 'non_striker': 'T Bavuma', 'runs': {'batter': 0, 'extras': 0, 'total': 0}}, {'batter': 'K Verreynne', 'bowler': 'MA Starc', 'non_striker': 'T Bavuma', 'runs': {'batter': 2, 'extras': 0, 'total': 2}}, {'batter': 'K Verreynne', 'bowler': 'MA Starc', 'non_striker': 'T Bavuma', 'runs': {'batter': 0, 'extras': 0, 'total': 0}}, {'batter': 'K Verreynne', 'bowler': 'MA Starc', 'non_striker': 'T Bavuma', 'runs': {'batter': 0, 'extras': 0, 'total': 0}}]}, {'over': 39, 'deliveries': [{'batter': 'T Bavuma', 'bowler': 'NM Lyon', 'non_striker': 'K Verreynne', 'runs': {'batter': 0, 'extras': 0, 'total': 0}}, {'batter': 'T Bavuma', 'bowler': 'NM Lyon', 'non_striker': 'K Verreynne', 'runs': {'batter': 0, 'extras': 0, 'total': 0}}, {'batter': 'T Bavuma', 'bowler': 'NM Lyon', 'non_striker': 'K Verreynne', 'runs': {'batter': 0, 'extras': 0, 'total': 0}}, {'batter': 'T Bavuma', 'bowler': 'NM Lyon', 'non_striker': 'K Verreynne', 'runs': {'batter': 0, 'extras': 0, 'total': 0}}, {'batter': 'T Bavuma', 'bowler': 'NM Lyon', 'non_striker': 'K Verreynne', 'runs': {'batter': 0, 'extras': 0, 'total': 0}}, {'batter': 'T Bavuma', 'bowler': 'NM Lyon', 'non_striker': 'K Verreynne', 'runs': {'batter': 2, 'extras': 0, 'total': 2}}]}, {'over': 40, 'deliveries': [{'batter': 'K Verreynne', 'bowler': 'MA Starc', 'non_striker': 'T Bavuma', 'runs': {'batter': 0, 'extras': 0, 'total': 0}}, {'batter': 'K Verreynne', 'bowler': 'MA Starc', 'non_striker': 'T Bavuma', 'runs': {'batter': 0, 'extras': 0, 'total': 0}}, {'batter': 'K Verreynne', 'bowler': 'MA Starc', 'non_striker': 'T Bavuma', 'runs': {'batter': 0, 'extras': 0, 'total': 0}}, {'batter': 'K Verreynne', 'bowler': 'MA Starc', 'non_striker': 'T Bavuma', 'runs': {'batter': 0, 'extras': 0, 'total': 0}}, {'batter': 'K Verreynne', 'bowler': 'MA Starc', 'non_striker': 'T Bavuma', 'runs': {'batter': 3, 'extras': 0, 'total': 3}}, {'batter': 'T Bavuma', 'bowler': 'MA Starc', 'non_striker': 'K Verreynne', 'runs': {'batter': 0, 'extras': 0, 'total': 0}}]}, {'over': 41, 'deliveries': [{'batter': 'K Verreynne', 'bowler': 'SM Boland', 'non_striker': 'T Bavuma', 'runs': {'batter': 1, 'extras': 0, 'total': 1}}, {'batter': 'T Bavuma', 'bowler': 'SM Boland', 'non_striker': 'K Verreynne', 'runs': {'batter': 0, 'extras': 0, 'total': 0}}, {'batter': 'T Bavuma', 'bowler': 'SM Boland', 'non_striker': 'K Verreynne', 'runs': {'batter': 0, 'extras': 0, 'total': 0}}, {'batter': 'T Bavuma', 'bowler': 'SM Boland', 'non_striker': 'K Verreynne', 'runs': {'batter': 0, 'extras': 0, 'total': 0}}, {'batter': 'T Bavuma', 'bowler': 'SM Boland', 'non_striker': 'K Verreynne', 'runs': {'batter': 0, 'extras': 0, 'total': 0}}, {'batter': 'T Bavuma', 'bowler': 'SM Boland', 'non_striker': 'K Verreynne', 'runs': {'batter': 2, 'extras': 0, 'total': 2}}]}, {'over': 42, 'deliveries': [{'batter': 'K Verreynne', 'bowler': 'PJ Cummins', 'non_striker': 'T Bavuma', 'runs': {'batter': 1, 'extras': 0, 'total': 1}}, {'batter': 'T Bavuma', 'bowler': 'PJ Cummins', 'non_striker': 'K Verreynne', 'runs': {'batter': 0, 'extras': 0, 'total': 0}}, {'batter': 'T Bavuma', 'bowler': 'PJ Cummins', 'non_striker': 'K Verreynne', 'runs': {'batter': 0, 'extras': 0, 'total': 0}}, {'batter': 'T Bavuma', 'bowler': 'PJ Cummins', 'non_striker': 'K Verreynne', 'runs': {'batter': 0, 'extras': 0, 'total': 0}}, {'batter': 'T Bavuma', 'bowler': 'PJ Cummins', 'non_striker': 'K Verreynne', 'runs': {'batter': 0, 'extras': 0, 'total': 0}}, {'batter': 'T Bavuma', 'bowler': 'PJ Cummins', 'non_striker': 'K Verreynne', 'runs': {'batter': 0, 'extras': 0, 'total': 0}}]}, {'over': 43, 'deliveries': [{'batter': 'K Verreynne', 'bowler': 'SM Boland', 'non_striker': 'T Bavuma', 'runs': {'batter': 0, 'extras': 0, 'total': 0}}, {'batter': 'K Verreynne', 'bowler': 'SM Boland', 'non_striker': 'T Bavuma', 'runs': {'batter': 4, 'extras': 0, 'total': 4}}, {'batter': 'K Verreynne', 'bowler': 'SM Boland', 'non_striker': 'T Bavuma', 'runs': {'batter': 0, 'extras': 0, 'total': 0}}, {'batter': 'K Verreynne', 'bowler': 'SM Boland', 'non_striker': 'T Bavuma', 'runs': {'batter': 0, 'extras': 0, 'total': 0}}, {'batter': 'K Verreynne', 'bowler': 'SM Boland', 'non_striker': 'T Bavuma', 'review': {'by': 'South Africa', 'umpire': 'RA Kettleborough', 'batter': 'K Verreynne', 'decision': 'struck down'}, 'runs': {'batter': 0, 'extras': 0, 'total': 0}, 'wickets': [{'player_out': 'K Verreynne', 'kind': 'lbw'}]}, {'batter': 'M Jansen', 'bowler': 'SM Boland', 'non_striker': 'T Bavuma', 'runs': {'batter': 0, 'extras': 0, 'total': 0}}]}, {'over': 44, 'deliveries': [{'batter': 'T Bavuma', 'bowler': 'PJ Cummins', 'non_striker': 'M Jansen', 'runs': {'batter': 0, 'extras': 0, 'total': 0}}, {'batter': 'T Bavuma', 'bowler': 'PJ Cummins', 'non_striker': 'M Jansen', 'runs': {'batter': 3, 'extras': 0, 'total': 3}}, {'batter': 'M Jansen', 'bowler': 'PJ Cummins', 'non_striker': 'T Bavuma', 'runs': {'batter': 0, 'extras': 0, 'total': 0}}, {'batter': 'M Jansen', 'bowler': 'PJ Cummins', 'non_striker': 'T Bavuma', 'runs': {'batter': 0, 'extras': 0, 'total': 0}}, {'batter': 'M Jansen', 'bowler': 'PJ Cummins', 'non_striker': 'T Bavuma', 'runs': {'batter': 0, 'extras': 0, 'total': 0}}, {'batter': 'M Jansen', 'bowler': 'PJ Cummins', 'non_striker': 'T Bavuma', 'runs': {'batter': 0, 'extras': 0, 'total': 0}}]}, {'over': 45, 'deliveries': [{'batter': 'T Bavuma', 'bowler': 'SM Boland', 'non_striker': 'M Jansen', 'runs': {'batter': 0, 'extras': 0, 'total': 0}}, {'batter': 'T Bavuma', 'bowler': 'SM Boland', 'non_striker': 'M Jansen', 'review': {'by': 'Australia', 'umpire': 'RA Kettleborough', 'batter': 'T Bavuma', 'decision': 'struck down'}, 'runs': {'batter': 0, 'extras': 0, 'total': 0}}, {'batter': 'T Bavuma', 'bowler': 'SM Boland', 'non_striker': 'M Jansen', 'runs': {'batter': 0, 'extras': 0, 'total': 0}}, {'batter': 'T Bavuma', 'bowler': 'SM Boland', 'non_striker': 'M Jansen', 'runs': {'batter': 0, 'extras': 0, 'total': 0}}, {'batter': 'T Bavuma', 'bowler': 'SM Boland', 'non_striker': 'M Jansen', 'runs': {'batter': 0, 'extras': 0, 'total': 0}}, {'batter': 'T Bavuma', 'bowler': 'SM Boland', 'non_striker': 'M Jansen', 'runs': {'batter': 0, 'extras': 0, 'total': 0}}]}, {'over': 46, 'deliveries': [{'batter': 'M Jansen', 'bowler': 'PJ Cummins', 'extras': {'noballs': 1}, 'non_striker': 'T Bavuma', 'runs': {'batter': 0, 'extras': 1, 'total': 1}}, {'batter': 'M Jansen', 'bowler': 'PJ Cummins', 'non_striker': 'T Bavuma', 'runs': {'batter': 2, 'extras': 0, 'total': 2}}, {'batter': 'M Jansen', 'bowler': 'PJ Cummins', 'non_striker': 'T Bavuma', 'runs': {'batter': 0, 'extras': 0, 'total': 0}}, {'batter': 'M Jansen', 'bowler': 'PJ Cummins', 'non_striker': 'T Bavuma', 'runs': {'batter': 1, 'extras': 0, 'total': 1}}, {'batter': 'T Bavuma', 'bowler': 'PJ Cummins', 'non_striker': 'M Jansen', 'runs': {'batter': 0, 'extras': 0, 'total': 0}}, {'batter': 'T Bavuma', 'bowler': 'PJ Cummins', 'non_striker': 'M Jansen', 'runs': {'batter': 0, 'extras': 0, 'total': 0}}, {'batter': 'T Bavuma', 'bowler': 'PJ Cummins', 'non_striker': 'M Jansen', 'runs': {'batter': 0, 'extras': 0, 'total': 0}}]}, {'over': 47, 'deliveries': [{'batter': 'M Jansen', 'bowler': 'SM Boland', 'non_striker': 'T Bavuma', 'runs': {'batter': 0, 'extras': 0, 'total': 0}}, {'batter': 'M Jansen', 'bowler': 'SM Boland', 'non_striker': 'T Bavuma', 'runs': {'batter': 0, 'extras': 0, 'total': 0}}, {'batter': 'M Jansen', 'bowler': 'SM Boland', 'non_striker': 'T Bavuma', 'runs': {'batter': 0, 'extras': 0, 'total': 0}}, {'batter': 'M Jansen', 'bowler': 'SM Boland', 'non_striker': 'T Bavuma', 'runs': {'batter': 2, 'extras': 0, 'total': 2}}, {'batter': 'M Jansen', 'bowler': 'SM Boland', 'non_striker': 'T Bavuma', 'runs': {'batter': 0, 'extras': 0, 'total': 0}}, {'batter': 'M Jansen', 'bowler': 'SM Boland', 'non_striker': 'T Bavuma', 'runs': {'batter': 0, 'extras': 0, 'total': 0}}]}, {'over': 48, 'deliveries': [{'batter': 'T Bavuma', 'bowler': 'PJ Cummins', 'non_striker': 'M Jansen', 'runs': {'batter': 1, 'extras': 0, 'total': 1}}, {'batter': 'M Jansen', 'bowler': 'PJ Cummins', 'non_striker': 'T Bavuma', 'runs': {'batter': 0, 'extras': 0, 'total': 0}}, {'batter': 'M Jansen', 'bowler': 'PJ Cummins', 'non_striker': 'T Bavuma', 'runs': {'batter': 0, 'extras': 0, 'total': 0}}, {'batter': 'M Jansen', 'bowler': 'PJ Cummins', 'non_striker': 'T Bavuma', 'runs': {'batter': 0, 'extras': 0, 'total': 0}}, {'batter': 'M Jansen', 'bowler': 'PJ Cummins', 'non_striker': 'T Bavuma', 'runs': {'batter': 0, 'extras': 0, 'total': 0}}, {'batter': 'M Jansen', 'bowler': 'PJ Cummins', 'non_striker': 'T Bavuma', 'runs': {'batter': 0, 'extras': 0, 'total': 0}}]}, {'over': 49, 'deliveries': [{'batter': 'T Bavuma', 'bowler': 'SM Boland', 'non_striker': 'M Jansen', 'runs': {'batter': 0, 'extras': 0, 'total': 0}}, {'batter': 'T Bavuma', 'bowler': 'SM Boland', 'non_striker': 'M Jansen', 'runs': {'batter': 0, 'extras': 0, 'total': 0}}, {'batter': 'T Bavuma', 'bowler': 'SM Boland', 'non_striker': 'M Jansen', 'runs': {'batter': 0, 'extras': 0, 'total': 0}}, {'batter': 'T Bavuma', 'bowler': 'SM Boland', 'non_striker': 'M Jansen', 'runs': {'batter': 0, 'extras': 0, 'total': 0}}, {'batter': 'T Bavuma', 'bowler': 'SM Boland', 'non_striker': 'M Jansen', 'runs': {'batter': 0, 'extras': 0, 'total': 0}}, {'batter': 'T Bavuma', 'bowler': 'SM Boland', 'non_striker': 'M Jansen', 'runs': {'batter': 0, 'extras': 0, 'total': 0}}]}, {'over': 50, 'deliveries': [{'batter': 'M Jansen', 'bowler': 'PJ Cummins', 'non_striker': 'T Bavuma', 'runs': {'batter': 0, 'extras': 0, 'total': 0}}, {'batter': 'M Jansen', 'bowler': 'PJ Cummins', 'non_striker': 'T Bavuma', 'runs': {'batter': 0, 'extras': 0, 'total': 0}}, {'batter': 'M Jansen', 'bowler': 'PJ Cummins', 'non_striker': 'T Bavuma', 'runs': {'batter': 0, 'extras': 0, 'total': 0}}, {'batter': 'M Jansen', 'bowler': 'PJ Cummins', 'extras': {'legbyes': 1}, 'non_striker': 'T Bavuma', 'runs': {'batter': 0, 'extras': 1, 'total': 1}}, {'batter': 'T Bavuma', 'bowler': 'PJ Cummins', 'non_striker': 'M Jansen', 'runs': {'batter': 3, 'extras': 0, 'total': 3}}, {'batter': 'M Jansen', 'bowler': 'PJ Cummins', 'non_striker': 'T Bavuma', 'runs': {'batter': 0, 'extras': 0, 'total': 0}}]}, {'over': 51, 'deliveries': [{'batter': 'T Bavuma', 'bowler': 'SM Boland', 'non_striker': 'M Jansen', 'runs': {'batter': 0, 'extras': 0, 'total': 0}}, {'batter': 'T Bavuma', 'bowler': 'SM Boland', 'non_striker': 'M Jansen', 'runs': {'batter': 0, 'extras': 0, 'total': 0}}, {'batter': 'T Bavuma', 'bowler': 'SM Boland', 'non_striker': 'M Jansen', 'runs': {'batter': 0, 'extras': 0, 'total': 0}}, {'batter': 'T Bavuma', 'bowler': 'SM Boland', 'non_striker': 'M Jansen', 'runs': {'batter': 0, 'extras': 0, 'total': 0}}, {'batter': 'T Bavuma', 'bowler': 'SM Boland', 'non_striker': 'M Jansen', 'runs': {'batter': 1, 'extras': 0, 'total': 1}}, {'batter': 'M Jansen', 'bowler': 'SM Boland', 'non_striker': 'T Bavuma', 'runs': {'batter': 0, 'extras': 0, 'total': 0}}]}, {'over': 52, 'deliveries': [{'batter': 'T Bavuma', 'bowler': 'NM Lyon', 'non_striker': 'M Jansen', 'runs': {'batter': 0, 'extras': 0, 'total': 0}}, {'batter': 'T Bavuma', 'bowler': 'NM Lyon', 'non_striker': 'M Jansen', 'runs': {'batter': 0, 'extras': 0, 'total': 0}}, {'batter': 'T Bavuma', 'bowler': 'NM Lyon', 'non_striker': 'M Jansen', 'runs': {'batter': 1, 'extras': 0, 'total': 1}}, {'batter': 'M Jansen', 'bowler': 'NM Lyon', 'non_striker': 'T Bavuma', 'runs': {'batter': 0, 'extras': 0, 'total': 0}}, {'batter': 'M Jansen', 'bowler': 'NM Lyon', 'non_striker': 'T Bavuma', 'runs': {'batter': 0, 'extras': 0, 'total': 0}}, {'batter': 'M Jansen', 'bowler': 'NM Lyon', 'non_striker': 'T Bavuma', 'review': {'by': 'Australia', 'umpire': 'PR Reiffel', 'batter': 'M Jansen', 'decision': 'upheld'}, 'runs': {'batter': 0, 'extras': 0, 'total': 0}, 'wickets': [{'player_out': 'M Jansen', 'kind': 'lbw'}]}]}, {'over': 53, 'deliveries': [{'batter': 'T Bavuma', 'bowler': 'SM Boland', 'non_striker': 'KA Maharaj', 'runs': {'batter': 0, 'extras': 0, 'total': 0}}, {'batter': 'T Bavuma', 'bowler': 'SM Boland', 'non_striker': 'KA Maharaj', 'runs': {'batter': 0, 'extras': 0, 'total': 0}}, {'batter': 'T Bavuma', 'bowler': 'SM Boland', 'non_striker': 'KA Maharaj', 'runs': {'batter': 0, 'extras': 0, 'total': 0}}, {'batter': 'T Bavuma', 'bowler': 'SM Boland', 'non_striker': 'KA Maharaj', 'runs': {'batter': 4, 'extras': 0, 'total': 4}}, {'batter': 'T Bavuma', 'bowler': 'SM Boland', 'non_striker': 'KA Maharaj', 'runs': {'batter': 0, 'extras': 0, 'total': 0}}, {'batter': 'T Bavuma', 'bowler': 'SM Boland', 'non_striker': 'KA Maharaj', 'runs': {'batter': 1, 'extras': 0, 'total': 1}}]}, {'over': 54, 'deliveries': [{'batter': 'T Bavuma', 'bowler': 'NM Lyon', 'non_striker': 'KA Maharaj', 'runs': {'batter': 1, 'extras': 0, 'total': 1}}, {'batter': 'KA Maharaj', 'bowler': 'NM Lyon', 'non_striker': 'T Bavuma', 'runs': {'batter': 0, 'extras': 0, 'total': 0}}, {'batter': 'KA Maharaj', 'bowler': 'NM Lyon', 'non_striker': 'T Bavuma', 'runs': {'batter': 4, 'extras': 0, 'total': 4}}, {'batter': 'KA Maharaj', 'bowler': 'NM Lyon', 'non_striker': 'T Bavuma', 'runs': {'batter': 0, 'extras': 0, 'total': 0}}, {'batter': 'KA Maharaj', 'bowler': 'NM Lyon', 'non_striker': 'T Bavuma', 'runs': {'batter': 0, 'extras': 0, 'total': 0}}, {'batter': 'KA Maharaj', 'bowler': 'NM Lyon', 'non_striker': 'T Bavuma', 'runs': {'batter': 0, 'extras': 0, 'total': 0}}]}, {'over': 55, 'deliveries': [{'batter': 'T Bavuma', 'bowler': 'SPD Smith', 'non_striker': 'KA Maharaj', 'runs': {'batter': 1, 'extras': 0, 'total': 1}}, {'batter': 'KA Maharaj', 'bowler': 'SPD Smith', 'non_striker': 'T Bavuma', 'runs': {'batter': 1, 'extras': 0, 'total': 1}}, {'batter': 'T Bavuma', 'bowler': 'SPD Smith', 'non_striker': 'KA Maharaj', 'runs': {'batter': 0, 'extras': 0, 'total': 0}}, {'batter': 'T Bavuma', 'bowler': 'SPD Smith', 'non_striker': 'KA Maharaj', 'runs': {'batter': 2, 'extras': 0, 'total': 2}}, {'batter': 'T Bavuma', 'bowler': 'SPD Smith', 'non_striker': 'KA Maharaj', 'runs': {'batter': 1, 'extras': 0, 'total': 1}}, {'batter': 'KA Maharaj', 'bowler': 'SPD Smith', 'non_striker': 'T Bavuma', 'runs': {'batter': 0, 'extras': 0, 'total': 0}}]}, {'over': 56, 'deliveries': [{'batter': 'T Bavuma', 'bowler': 'NM Lyon', 'non_striker': 'KA Maharaj', 'runs': {'batter': 0, 'extras': 0, 'total': 0}}, {'batter': 'T Bavuma', 'bowler': 'NM Lyon', 'non_striker': 'KA Maharaj', 'runs': {'batter': 0, 'extras': 0, 'total': 0}}, {'batter': 'T Bavuma', 'bowler': 'NM Lyon', 'non_striker': 'KA Maharaj', 'runs': {'batter': 0, 'extras': 0, 'total': 0}}, {'batter': 'T Bavuma', 'bowler': 'NM Lyon', 'non_striker': 'KA Maharaj', 'runs': {'batter': 1, 'extras': 0, 'total': 1}}, {'batter': 'KA Maharaj', 'bowler': 'NM Lyon', 'non_striker': 'T Bavuma', 'runs': {'batter': 0, 'extras': 0, 'total': 0}}, {'batter': 'KA Maharaj', 'bowler': 'NM Lyon', 'non_striker': 'T Bavuma', 'runs': {'batter': 0, 'extras': 0, 'total': 0}}]}, {'over': 57, 'deliveries': [{'batter': 'T Bavuma', 'bowler': 'SPD Smith', 'non_striker': 'KA Maharaj', 'runs': {'batter': 0, 'extras': 0, 'total': 0}}, {'batter': 'T Bavuma', 'bowler': 'SPD Smith', 'non_striker': 'KA Maharaj', 'runs': {'batter': 0, 'extras': 0, 'total': 0}}, {'batter': 'T Bavuma', 'bowler': 'SPD Smith', 'non_striker': 'KA Maharaj', 'runs': {'batter': 0, 'extras': 0, 'total': 0}}, {'batter': 'T Bavuma', 'bowler': 'SPD Smith', 'non_striker': 'KA Maharaj', 'runs': {'batter': 0, 'extras': 0, 'total': 0}}, {'batter': 'T Bavuma', 'bowler': 'SPD Smith', 'non_striker': 'KA Maharaj', 'runs': {'batter': 2, 'extras': 0, 'total': 2}}, {'batter': 'T Bavuma', 'bowler': 'SPD Smith', 'non_striker': 'KA Maharaj', 'runs': {'batter': 0, 'extras': 0, 'total': 0}}]}, {'over': 58, 'deliveries': [{'batter': 'KA Maharaj', 'bowler': 'MA Starc', 'non_striker': 'T Bavuma', 'runs': {'batter': 0, 'extras': 0, 'total': 0}}, {'batter': 'KA Maharaj', 'bowler': 'MA Starc', 'non_striker': 'T Bavuma', 'runs': {'batter': 0, 'extras': 0, 'total': 0}}, {'batter': 'KA Maharaj', 'bowler': 'MA Starc', 'non_striker': 'T Bavuma', 'runs': {'batter': 0, 'extras': 0, 'total': 0}}, {'batter': 'KA Maharaj', 'bowler': 'MA Starc', 'non_striker': 'T Bavuma', 'runs': {'batter': 0, 'extras': 0, 'total': 0}}, {'batter': 'KA Maharaj', 'bowler': 'MA Starc', 'non_striker': 'T Bavuma', 'runs': {'batter': 1, 'extras': 0, 'total': 1}}, {'batter': 'T Bavuma', 'bowler': 'MA Starc', 'non_striker': 'KA Maharaj', 'runs': {'batter': 2, 'extras': 0, 'total': 2}}]}, {'over': 59, 'deliveries': [{'batter': 'KA Maharaj', 'bowler': 'NM Lyon', 'non_striker': 'T Bavuma', 'runs': {'batter': 4, 'extras': 0, 'total': 4}}, {'batter': 'KA Maharaj', 'bowler': 'NM Lyon', 'non_striker': 'T Bavuma', 'runs': {'batter': 0, 'extras': 0, 'total': 0}}, {'batter': 'KA Maharaj', 'bowler': 'NM Lyon', 'non_striker': 'T Bavuma', 'runs': {'batter': 0, 'extras': 0, 'total': 0}}, {'batter': 'KA Maharaj', 'bowler': 'NM Lyon', 'non_striker': 'T Bavuma', 'runs': {'batter': 0, 'extras': 0, 'total': 0}}, {'batter': 'KA Maharaj', 'bowler': 'NM Lyon', 'non_striker': 'T Bavuma', 'runs': {'batter': 1, 'extras': 0, 'total': 1}}, {'batter': 'T Bavuma', 'bowler': 'NM Lyon', 'non_striker': 'KA Maharaj', 'runs': {'batter': 2, 'extras': 0, 'total': 2}}]}, {'over': 60, 'deliveries': [{'batter': 'KA Maharaj', 'bowler': 'MA Starc', 'non_striker': 'T Bavuma', 'runs': {'batter': 2, 'extras': 0, 'total': 2}, 'wickets': [{'player_out': 'KA Maharaj', 'fielders': [{'name': 'M Labuschagne'}, {'name': 'MA Starc'}], 'kind': 'run out'}]}, {'batter': 'K Rabada', 'bowler': 'MA Starc', 'non_striker': 'T Bavuma', 'runs': {'batter': 0, 'extras': 0, 'total': 0}}, {'batter': 'K Rabada', 'bowler': 'MA Starc', 'non_striker': 'T Bavuma', 'runs': {'batter': 0, 'extras': 0, 'total': 0}}, {'batter': 'K Rabada', 'bowler': 'MA Starc', 'non_striker': 'T Bavuma', 'runs': {'batter': 0, 'extras': 0, 'total': 0}}, {'batter': 'K Rabada', 'bowler': 'MA Starc', 'non_striker': 'T Bavuma', 'runs': {'batter': 0, 'extras': 0, 'total': 0}}, {'batter': 'K Rabada', 'bowler': 'MA Starc', 'non_striker': 'T Bavuma', 'runs': {'batter': 1, 'extras': 0, 'total': 1}}]}, {'over': 61, 'deliveries': [{'batter': 'K Rabada', 'bowler': 'NM Lyon', 'non_striker': 'T Bavuma', 'runs': {'batter': 0, 'extras': 0, 'total': 0}}, {'batter': 'K Rabada', 'bowler': 'NM Lyon', 'non_striker': 'T Bavuma', 'runs': {'batter': 1, 'extras': 0, 'total': 1}}, {'batter': 'T Bavuma', 'bowler': 'NM Lyon', 'non_striker': 'K Rabada', 'runs': {'batter': 0, 'extras': 0, 'total': 0}, 'wickets': [{'player_out': 'T Bavuma', 'fielders': [{'name': 'MS Harris', 'substitute': True}], 'kind': 'caught'}]}, {'batter': 'A Nortje', 'bowler': 'NM Lyon', 'non_striker': 'K Rabada', 'runs': {'batter': 0, 'extras': 0, 'total': 0}}, {'batter': 'A Nortje', 'bowler': 'NM Lyon', 'non_striker': 'K Rabada', 'runs': {'batter': 0, 'extras': 0, 'total': 0}}, {'batter': 'A Nortje', 'bowler': 'NM Lyon', 'non_striker': 'K Rabada', 'runs': {'batter': 0, 'extras': 0, 'total': 0}}]}, {'over': 62, 'deliveries': [{'batter': 'K Rabada', 'bowler': 'MA Starc', 'non_striker': 'A Nortje', 'runs': {'batter': 0, 'extras': 0, 'total': 0}}, {'batter': 'K Rabada', 'bowler': 'MA Starc', 'non_striker': 'A Nortje', 'runs': {'batter': 0, 'extras': 0, 'total': 0}}, {'batter': 'K Rabada', 'bowler': 'MA Starc', 'non_striker': 'A Nortje', 'runs': {'batter': 1, 'extras': 0, 'total': 1}}, {'batter': 'A Nortje', 'bowler': 'MA Starc', 'non_striker': 'K Rabada', 'runs': {'batter': 0, 'extras': 0, 'total': 0}}, {'batter': 'A Nortje', 'bowler': 'MA Starc', 'non_striker': 'K Rabada', 'runs': {'batter': 0, 'extras': 0, 'total': 0}}, {'batter': 'A Nortje', 'bowler': 'MA Starc', 'non_striker': 'K Rabada', 'runs': {'batter': 0, 'extras': 0, 'total': 0}}]}, {'over': 63, 'deliveries': [{'batter': 'K Rabada', 'bowler': 'NM Lyon', 'non_striker': 'A Nortje', 'runs': {'batter': 0, 'extras': 0, 'total': 0}}, {'batter': 'K Rabada', 'bowler': 'NM Lyon', 'non_striker': 'A Nortje', 'runs': {'batter': 0, 'extras': 0, 'total': 0}, 'wickets': [{'player_out': 'K Rabada', 'fielders': [{'name': 'PJ Cummins'}], 'kind': 'caught'}]}, {'batter': 'L Ngidi', 'bowler': 'NM Lyon', 'non_striker': 'A Nortje', 'runs': {'batter': 0, 'extras': 0, 'total': 0}}, {'batter': 'L Ngidi', 'bowler': 'NM Lyon', 'non_striker': 'A Nortje', 'runs': {'batter': 0, 'extras': 0, 'total': 0}}, {'batter': 'L Ngidi', 'bowler': 'NM Lyon', 'non_striker': 'A Nortje', 'runs': {'batter': 0, 'extras': 0, 'total': 0}}, {'batter': 'L Ngidi', 'bowler': 'NM Lyon', 'non_striker': 'A Nortje', 'runs': {'batter': 0, 'extras': 0, 'total': 0}}]}, {'over': 64, 'deliveries': [{'batter': 'A Nortje', 'bowler': 'MA Starc', 'non_striker': 'L Ngidi', 'runs': {'batter': 0, 'extras': 0, 'total': 0}}, {'batter': 'A Nortje', 'bowler': 'MA Starc', 'non_striker': 'L Ngidi', 'runs': {'batter': 1, 'extras': 0, 'total': 1}}, {'batter': 'L Ngidi', 'bowler': 'MA Starc', 'non_striker': 'A Nortje', 'runs': {'batter': 0, 'extras': 0, 'total': 0}}, {'batter': 'L Ngidi', 'bowler': 'MA Starc', 'non_striker': 'A Nortje', 'runs': {'batter': 0, 'extras': 0, 'total': 0}}, {'batter': 'L Ngidi', 'bowler': 'MA Starc', 'non_striker': 'A Nortje', 'runs': {'batter': 0, 'extras': 0, 'total': 0}}, {'batter': 'L Ngidi', 'bowler': 'MA Starc', 'non_striker': 'A Nortje', 'runs': {'batter': 4, 'extras': 0, 'total': 4}}]}, {'over': 65, 'deliveries': [{'batter': 'A Nortje', 'bowler': 'NM Lyon', 'non_striker': 'L Ngidi', 'runs': {'batter': 0, 'extras': 0, 'total': 0}}, {'batter': 'A Nortje', 'bowler': 'NM Lyon', 'non_striker': 'L Ngidi', 'runs': {'batter': 1, 'extras': 0, 'total': 1}}, {'batter': 'L Ngidi', 'bowler': 'NM Lyon', 'non_striker': 'A Nortje', 'runs': {'batter': 2, 'extras': 0, 'total': 2}}, {'batter': 'L Ngidi', 'bowler': 'NM Lyon', 'non_striker': 'A Nortje', 'runs': {'batter': 0, 'extras': 0, 'total': 0}}, {'batter': 'L Ngidi', 'bowler': 'NM Lyon', 'non_striker': 'A Nortje', 'runs': {'batter': 6, 'extras': 0, 'total': 6}}, {'batter': 'L Ngidi', 'bowler': 'NM Lyon', 'non_striker': 'A Nortje', 'runs': {'batter': 0, 'extras': 0, 'total': 0}}]}, {'over': 66, 'deliveries': [{'batter': 'A Nortje', 'bowler': 'MA Starc', 'non_striker': 'L Ngidi', 'runs': {'batter': 1, 'extras': 0, 'total': 1}}, {'batter': 'L Ngidi', 'bowler': 'MA Starc', 'non_striker': 'A Nortje', 'runs': {'batter': 0, 'extras': 0, 'total': 0}}, {'batter': 'L Ngidi', 'bowler': 'MA Starc', 'non_striker': 'A Nortje', 'runs': {'batter': 0, 'extras': 0, 'total': 0}}, {'batter': 'L Ngidi', 'bowler': 'MA Starc', 'non_striker': 'A Nortje', 'runs': {'batter': 1, 'extras': 0, 'total': 1}}, {'batter': 'A Nortje', 'bowler': 'MA Starc', 'non_striker': 'L Ngidi', 'runs': {'batter': 0, 'extras': 0, 'total': 0}}, {'batter': 'A Nortje', 'bowler': 'MA Starc', 'non_striker': 'L Ngidi', 'runs': {'batter': 4, 'extras': 0, 'total': 4}}]}, {'over': 67, 'deliveries': [{'batter': 'L Ngidi', 'bowler': 'NM Lyon', 'non_striker': 'A Nortje', 'runs': {'batter': 0, 'extras': 0, 'total': 0}}, {'batter': 'L Ngidi', 'bowler': 'NM Lyon', 'non_striker': 'A Nortje', 'runs': {'batter': 4, 'extras': 0, 'total': 4}}, {'batter': 'L Ngidi', 'bowler': 'NM Lyon', 'non_striker': 'A Nortje', 'runs': {'batter': 1, 'extras': 0, 'total': 1}}, {'batter': 'A Nortje', 'bowler': 'NM Lyon', 'non_striker': 'L Ngidi', 'runs': {'batter': 0, 'extras': 0, 'total': 0}}, {'batter': 'A Nortje', 'bowler': 'NM Lyon', 'non_striker': 'L Ngidi', 'runs': {'batter': 0, 'extras': 0, 'total': 0}}, {'batter': 'A Nortje', 'bowler': 'NM Lyon', 'non_striker': 'L Ngidi', 'runs': {'batter': 0, 'extras': 0, 'total': 0}}]}, {'over': 68, 'deliveries': [{'batter': 'L Ngidi', 'bowler': 'SPD Smith', 'non_striker': 'A Nortje', 'runs': {'batter': 1, 'extras': 0, 'total': 1}}, {'batter': 'A Nortje', 'bowler': 'SPD Smith', 'non_striker': 'L Ngidi', 'runs': {'batter': 0, 'extras': 0, 'total': 0}}, {'batter': 'A Nortje', 'bowler': 'SPD Smith', 'non_striker': 'L Ngidi', 'runs': {'batter': 1, 'extras': 0, 'total': 1}}, {'batter': 'L Ngidi', 'bowler': 'SPD Smith', 'non_striker': 'A Nortje', 'runs': {'batter': 0, 'extras': 0, 'total': 0}}, {'batter': 'L Ngidi', 'bowler': 'SPD Smith', 'non_striker': 'A Nortje', 'runs': {'batter': 0, 'extras': 0, 'total': 0}, 'wickets': [{'player_out': 'L Ngidi', 'kind': 'bowled'}]}]}]}]}\n",
      "Expecting value: line 1 column 1 (char 0)\n"
     ]
    }
   ],
   "source": [
    "df: pl.DataFrame = pl.DataFrame()\n",
    "jmb_matches: list[Match] = []\n",
    "btf_matches: list[Match] = []\n",
    "for subdir, dirs, files in os.walk(f\"{root}/tests_json\"):\n",
    "    for file in files:\n",
    "        try:\n",
    "            with open(f\"{subdir}/{file}\", \"r\") as f:\n",
    "                data = json.load(f)\n",
    "        except json.JSONDecodeError as e:\n",
    "            print(data)\n",
    "            print(e)\n",
    "            continue\n",
    "        players = data[\"info\"][\"players\"]\n",
    "        if \"England\" not in players:\n",
    "            continue\n",
    "        english_players = players[\"England\"]\n",
    "        jmb_playing = jmb in english_players\n",
    "        btf_playing = btf in english_players\n",
    "        if not jmb_playing and not btf_playing:\n",
    "            continue\n",
    "        innings: list[Inning] = data[\"innings\"]\n",
    "        # If Foakes is playing he's keeping, otherwise Bairstow is\n",
    "        if btf_playing:\n",
    "            btf_matches.append(Match(innings))\n",
    "        elif jmb_playing:\n",
    "            jmb_matches.append(Match(innings))\n",
    "        else:\n",
    "            raise Exception(\"Unreachable\")\n",
    "        "
   ]
  },
  {
   "cell_type": "code",
   "execution_count": 171,
   "metadata": {},
   "outputs": [],
   "source": [
    "def calculate_data(matches: list[Match], player: str) -> Player:\n",
    "    matches_data: list[Data] = []\n",
    "    total = Data.new()\n",
    "    for match in matches:\n",
    "        match_data = Data.new()\n",
    "        for inning in match.innings:\n",
    "            is_fielding = inning[\"team\"] != \"England\"\n",
    "            for over in inning[\"overs\"]:\n",
    "                for delivery in over[\"deliveries\"]:\n",
    "                    if delivery[\"batter\"] == player:\n",
    "                        match_data.runs += delivery[\"runs\"][\"batter\"]\n",
    "                        match_data.net += delivery[\"runs\"][\"batter\"]\n",
    "                    elif is_fielding:\n",
    "                        if (wickets := delivery.get(\"wickets\")) is not None:\n",
    "                            for wicket in wickets:\n",
    "                                if (fielders := wicket.get(\"fielders\")) is not None:\n",
    "                                    if player in [fielder[\"name\"] for fielder in fielders]:\n",
    "                                        if wicket[\"kind\"] == \"caught\":\n",
    "                                            match_data.catches += 1\n",
    "                                        if wicket[\"kind\"] == \"stumped\":\n",
    "                                            match_data.stumpings += 1\n",
    "                        if (extras := delivery.get(\"extras\")) is not None:\n",
    "                            if (byes := extras.get(\"byes\")) is not None:\n",
    "                                match_data.byes += byes\n",
    "                                match_data.net -= byes\n",
    "\n",
    "        total += match_data\n",
    "        matches_data.append(match_data)\n",
    "        \n",
    "    return Player(player, matches_data, total)"
   ]
  },
  {
   "cell_type": "code",
   "execution_count": 172,
   "metadata": {},
   "outputs": [
    {
     "data": {
      "text/plain": [
       "Runs: 4675, Byes: 575, Net: 4100, Catches: 212, Stumpings: 13"
      ]
     },
     "execution_count": 172,
     "metadata": {},
     "output_type": "execute_result"
    }
   ],
   "source": [
    "jmb_data = calculate_data(jmb_matches, jmb)\n",
    "jmb_data.total"
   ]
  },
  {
   "cell_type": "code",
   "execution_count": 173,
   "metadata": {},
   "outputs": [
    {
     "data": {
      "text/plain": [
       "Runs: 934, Byes: 125, Net: 809, Catches: 57, Stumpings: 6"
      ]
     },
     "execution_count": 173,
     "metadata": {},
     "output_type": "execute_result"
    }
   ],
   "source": [
    "btf_data = calculate_data(btf_matches, btf)\n",
    "btf_data.total"
   ]
  },
  {
   "cell_type": "code",
   "execution_count": 174,
   "metadata": {},
   "outputs": [
    {
     "data": {
      "application/vnd.plotly.v1+json": {
       "config": {
        "plotlyServerURL": "https://plot.ly"
       },
       "data": [
        {
         "hovertemplate": "variable=JM Bairstow efficiency<br>test #=%{x}<br>value=%{y}<extra></extra>",
         "legendgroup": "JM Bairstow efficiency",
         "line": {
          "color": "#636efa",
          "dash": "solid",
          "shape": "spline"
         },
         "marker": {
          "symbol": "circle"
         },
         "mode": "lines",
         "name": "JM Bairstow efficiency",
         "orientation": "v",
         "showlegend": true,
         "type": "scatter",
         "x": [
          0,
          1,
          2,
          3,
          4,
          5,
          6,
          7,
          8,
          9,
          10,
          11,
          12,
          13,
          14,
          15,
          16,
          17,
          18,
          19,
          20,
          21,
          22,
          23,
          24,
          25,
          26,
          27,
          28,
          29,
          30,
          31,
          32,
          33,
          34,
          35,
          36,
          37,
          38,
          39,
          40,
          41,
          42,
          43,
          44,
          45,
          46,
          47,
          48,
          49,
          50,
          51,
          52,
          53,
          54,
          55,
          56,
          57,
          58,
          59,
          60,
          61,
          62,
          63,
          64,
          65,
          66,
          67,
          68,
          69,
          70,
          71,
          72,
          73,
          74,
          75,
          76,
          77,
          78,
          79
         ],
         "xaxis": "x",
         "y": [
          0,
          1,
          0.5357142857142857,
          0.9252336448598131,
          0.855072463768116,
          0.53125,
          0.9666666666666667,
          0,
          0.6428571428571429,
          0.8831168831168831,
          0.625,
          0.6,
          0.8076923076923077,
          0.9754901960784313,
          0.9607843137254902,
          0.90625,
          0.896551724137931,
          0.9708029197080292,
          0.9230769230769231,
          0.7142857142857143,
          0.918918918918919,
          0.3076923076923077,
          0.9,
          0.5294117647058824,
          0.6,
          1,
          0.9555555555555556,
          0.9056603773584906,
          0.8461538461538461,
          0.8181818181818182,
          0.6666666666666666,
          0.7272727272727273,
          0.8787878787878788,
          0.9514563106796117,
          0.9565217391304348,
          0.7666666666666667,
          0.875,
          0.8163265306122449,
          0.9782608695652174,
          0.6666666666666666,
          0.92,
          0.9393939393939394,
          0.8840579710144928,
          0.95,
          0.8253968253968254,
          0.9285714285714286,
          0.9076923076923077,
          0.975,
          0.8472222222222222,
          0.9396551724137931,
          0.95,
          0.9213483146067416,
          0.9,
          0.8333333333333334,
          0.86,
          0.56,
          0.7872340425531915,
          1,
          1,
          0.9197530864197531,
          0.9523809523809523,
          0.6666666666666666,
          0.9782608695652174,
          0.6666666666666666,
          0.9047619047619048,
          0.49056603773584906,
          0.8666666666666667,
          0.5625,
          1,
          0.4,
          0.8850574712643678,
          0.9157894736842105,
          1,
          0.9523809523809523,
          0.84,
          0.8461538461538461,
          0.9615384615384616,
          0.7961165048543689,
          1,
          0.7636363636363637
         ],
         "yaxis": "y"
        },
        {
         "hovertemplate": "variable=BT Foakes efficiency<br>test #=%{x}<br>value=%{y}<extra></extra>",
         "legendgroup": "BT Foakes efficiency",
         "line": {
          "color": "#EF553B",
          "dash": "solid",
          "shape": "spline"
         },
         "marker": {
          "symbol": "circle"
         },
         "mode": "lines",
         "name": "BT Foakes efficiency",
         "orientation": "v",
         "showlegend": true,
         "type": "scatter",
         "x": [
          0,
          1,
          2,
          3,
          4,
          5,
          6,
          7,
          8,
          9,
          10,
          11,
          12,
          13,
          14,
          15,
          16,
          17,
          18,
          19,
          20,
          21,
          22,
          23,
          24,
          25,
          26,
          27,
          28,
          29,
          30,
          31,
          32,
          33,
          34,
          35,
          36,
          37,
          38,
          39,
          40,
          41,
          42,
          43,
          44,
          45,
          46,
          47,
          48,
          49,
          50,
          51,
          52,
          53,
          54,
          55,
          56,
          57,
          58,
          59,
          60,
          61,
          62,
          63,
          64,
          65,
          66,
          67,
          68,
          69,
          70,
          71,
          72,
          73,
          74,
          75,
          76,
          77,
          78,
          79
         ],
         "xaxis": "x",
         "y": [
          0.8717948717948718,
          0.956989247311828,
          0,
          0.8571428571428571,
          0.8842105263157894,
          0.9142857142857143,
          0.875,
          0.7777777777777778,
          0.8,
          0.8596491228070176,
          1,
          0.8181818181818182,
          0.86,
          0.5833333333333334,
          0.8571428571428571,
          0.6666666666666666,
          0.9722222222222222,
          0.8979591836734694,
          0.9186991869918699,
          0.975,
          null,
          null,
          null,
          null,
          null,
          null,
          null,
          null,
          null,
          null,
          null,
          null,
          null,
          null,
          null,
          null,
          null,
          null,
          null,
          null,
          null,
          null,
          null,
          null,
          null,
          null,
          null,
          null,
          null,
          null,
          null,
          null,
          null,
          null,
          null,
          null,
          null,
          null,
          null,
          null,
          null,
          null,
          null,
          null,
          null,
          null,
          null,
          null,
          null,
          null,
          null,
          null,
          null,
          null,
          null,
          null,
          null,
          null,
          null,
          null
         ],
         "yaxis": "y"
        }
       ],
       "layout": {
        "font": {
         "color": "#7f7f7f",
         "family": "Lato, sans-serif",
         "size": 24
        },
        "legend": {
         "title": {
          "text": "variable"
         },
         "tracegroupgap": 0
        },
        "template": {
         "data": {
          "bar": [
           {
            "error_x": {
             "color": "#2a3f5f"
            },
            "error_y": {
             "color": "#2a3f5f"
            },
            "marker": {
             "line": {
              "color": "#E5ECF6",
              "width": 0.5
             },
             "pattern": {
              "fillmode": "overlay",
              "size": 10,
              "solidity": 0.2
             }
            },
            "type": "bar"
           }
          ],
          "barpolar": [
           {
            "marker": {
             "line": {
              "color": "#E5ECF6",
              "width": 0.5
             },
             "pattern": {
              "fillmode": "overlay",
              "size": 10,
              "solidity": 0.2
             }
            },
            "type": "barpolar"
           }
          ],
          "carpet": [
           {
            "aaxis": {
             "endlinecolor": "#2a3f5f",
             "gridcolor": "white",
             "linecolor": "white",
             "minorgridcolor": "white",
             "startlinecolor": "#2a3f5f"
            },
            "baxis": {
             "endlinecolor": "#2a3f5f",
             "gridcolor": "white",
             "linecolor": "white",
             "minorgridcolor": "white",
             "startlinecolor": "#2a3f5f"
            },
            "type": "carpet"
           }
          ],
          "choropleth": [
           {
            "colorbar": {
             "outlinewidth": 0,
             "ticks": ""
            },
            "type": "choropleth"
           }
          ],
          "contour": [
           {
            "colorbar": {
             "outlinewidth": 0,
             "ticks": ""
            },
            "colorscale": [
             [
              0,
              "#0d0887"
             ],
             [
              0.1111111111111111,
              "#46039f"
             ],
             [
              0.2222222222222222,
              "#7201a8"
             ],
             [
              0.3333333333333333,
              "#9c179e"
             ],
             [
              0.4444444444444444,
              "#bd3786"
             ],
             [
              0.5555555555555556,
              "#d8576b"
             ],
             [
              0.6666666666666666,
              "#ed7953"
             ],
             [
              0.7777777777777778,
              "#fb9f3a"
             ],
             [
              0.8888888888888888,
              "#fdca26"
             ],
             [
              1,
              "#f0f921"
             ]
            ],
            "type": "contour"
           }
          ],
          "contourcarpet": [
           {
            "colorbar": {
             "outlinewidth": 0,
             "ticks": ""
            },
            "type": "contourcarpet"
           }
          ],
          "heatmap": [
           {
            "colorbar": {
             "outlinewidth": 0,
             "ticks": ""
            },
            "colorscale": [
             [
              0,
              "#0d0887"
             ],
             [
              0.1111111111111111,
              "#46039f"
             ],
             [
              0.2222222222222222,
              "#7201a8"
             ],
             [
              0.3333333333333333,
              "#9c179e"
             ],
             [
              0.4444444444444444,
              "#bd3786"
             ],
             [
              0.5555555555555556,
              "#d8576b"
             ],
             [
              0.6666666666666666,
              "#ed7953"
             ],
             [
              0.7777777777777778,
              "#fb9f3a"
             ],
             [
              0.8888888888888888,
              "#fdca26"
             ],
             [
              1,
              "#f0f921"
             ]
            ],
            "type": "heatmap"
           }
          ],
          "heatmapgl": [
           {
            "colorbar": {
             "outlinewidth": 0,
             "ticks": ""
            },
            "colorscale": [
             [
              0,
              "#0d0887"
             ],
             [
              0.1111111111111111,
              "#46039f"
             ],
             [
              0.2222222222222222,
              "#7201a8"
             ],
             [
              0.3333333333333333,
              "#9c179e"
             ],
             [
              0.4444444444444444,
              "#bd3786"
             ],
             [
              0.5555555555555556,
              "#d8576b"
             ],
             [
              0.6666666666666666,
              "#ed7953"
             ],
             [
              0.7777777777777778,
              "#fb9f3a"
             ],
             [
              0.8888888888888888,
              "#fdca26"
             ],
             [
              1,
              "#f0f921"
             ]
            ],
            "type": "heatmapgl"
           }
          ],
          "histogram": [
           {
            "marker": {
             "pattern": {
              "fillmode": "overlay",
              "size": 10,
              "solidity": 0.2
             }
            },
            "type": "histogram"
           }
          ],
          "histogram2d": [
           {
            "colorbar": {
             "outlinewidth": 0,
             "ticks": ""
            },
            "colorscale": [
             [
              0,
              "#0d0887"
             ],
             [
              0.1111111111111111,
              "#46039f"
             ],
             [
              0.2222222222222222,
              "#7201a8"
             ],
             [
              0.3333333333333333,
              "#9c179e"
             ],
             [
              0.4444444444444444,
              "#bd3786"
             ],
             [
              0.5555555555555556,
              "#d8576b"
             ],
             [
              0.6666666666666666,
              "#ed7953"
             ],
             [
              0.7777777777777778,
              "#fb9f3a"
             ],
             [
              0.8888888888888888,
              "#fdca26"
             ],
             [
              1,
              "#f0f921"
             ]
            ],
            "type": "histogram2d"
           }
          ],
          "histogram2dcontour": [
           {
            "colorbar": {
             "outlinewidth": 0,
             "ticks": ""
            },
            "colorscale": [
             [
              0,
              "#0d0887"
             ],
             [
              0.1111111111111111,
              "#46039f"
             ],
             [
              0.2222222222222222,
              "#7201a8"
             ],
             [
              0.3333333333333333,
              "#9c179e"
             ],
             [
              0.4444444444444444,
              "#bd3786"
             ],
             [
              0.5555555555555556,
              "#d8576b"
             ],
             [
              0.6666666666666666,
              "#ed7953"
             ],
             [
              0.7777777777777778,
              "#fb9f3a"
             ],
             [
              0.8888888888888888,
              "#fdca26"
             ],
             [
              1,
              "#f0f921"
             ]
            ],
            "type": "histogram2dcontour"
           }
          ],
          "mesh3d": [
           {
            "colorbar": {
             "outlinewidth": 0,
             "ticks": ""
            },
            "type": "mesh3d"
           }
          ],
          "parcoords": [
           {
            "line": {
             "colorbar": {
              "outlinewidth": 0,
              "ticks": ""
             }
            },
            "type": "parcoords"
           }
          ],
          "pie": [
           {
            "automargin": true,
            "type": "pie"
           }
          ],
          "scatter": [
           {
            "fillpattern": {
             "fillmode": "overlay",
             "size": 10,
             "solidity": 0.2
            },
            "type": "scatter"
           }
          ],
          "scatter3d": [
           {
            "line": {
             "colorbar": {
              "outlinewidth": 0,
              "ticks": ""
             }
            },
            "marker": {
             "colorbar": {
              "outlinewidth": 0,
              "ticks": ""
             }
            },
            "type": "scatter3d"
           }
          ],
          "scattercarpet": [
           {
            "marker": {
             "colorbar": {
              "outlinewidth": 0,
              "ticks": ""
             }
            },
            "type": "scattercarpet"
           }
          ],
          "scattergeo": [
           {
            "marker": {
             "colorbar": {
              "outlinewidth": 0,
              "ticks": ""
             }
            },
            "type": "scattergeo"
           }
          ],
          "scattergl": [
           {
            "marker": {
             "colorbar": {
              "outlinewidth": 0,
              "ticks": ""
             }
            },
            "type": "scattergl"
           }
          ],
          "scattermapbox": [
           {
            "marker": {
             "colorbar": {
              "outlinewidth": 0,
              "ticks": ""
             }
            },
            "type": "scattermapbox"
           }
          ],
          "scatterpolar": [
           {
            "marker": {
             "colorbar": {
              "outlinewidth": 0,
              "ticks": ""
             }
            },
            "type": "scatterpolar"
           }
          ],
          "scatterpolargl": [
           {
            "marker": {
             "colorbar": {
              "outlinewidth": 0,
              "ticks": ""
             }
            },
            "type": "scatterpolargl"
           }
          ],
          "scatterternary": [
           {
            "marker": {
             "colorbar": {
              "outlinewidth": 0,
              "ticks": ""
             }
            },
            "type": "scatterternary"
           }
          ],
          "surface": [
           {
            "colorbar": {
             "outlinewidth": 0,
             "ticks": ""
            },
            "colorscale": [
             [
              0,
              "#0d0887"
             ],
             [
              0.1111111111111111,
              "#46039f"
             ],
             [
              0.2222222222222222,
              "#7201a8"
             ],
             [
              0.3333333333333333,
              "#9c179e"
             ],
             [
              0.4444444444444444,
              "#bd3786"
             ],
             [
              0.5555555555555556,
              "#d8576b"
             ],
             [
              0.6666666666666666,
              "#ed7953"
             ],
             [
              0.7777777777777778,
              "#fb9f3a"
             ],
             [
              0.8888888888888888,
              "#fdca26"
             ],
             [
              1,
              "#f0f921"
             ]
            ],
            "type": "surface"
           }
          ],
          "table": [
           {
            "cells": {
             "fill": {
              "color": "#EBF0F8"
             },
             "line": {
              "color": "white"
             }
            },
            "header": {
             "fill": {
              "color": "#C8D4E3"
             },
             "line": {
              "color": "white"
             }
            },
            "type": "table"
           }
          ]
         },
         "layout": {
          "annotationdefaults": {
           "arrowcolor": "#2a3f5f",
           "arrowhead": 0,
           "arrowwidth": 1
          },
          "autotypenumbers": "strict",
          "coloraxis": {
           "colorbar": {
            "outlinewidth": 0,
            "ticks": ""
           }
          },
          "colorscale": {
           "diverging": [
            [
             0,
             "#8e0152"
            ],
            [
             0.1,
             "#c51b7d"
            ],
            [
             0.2,
             "#de77ae"
            ],
            [
             0.3,
             "#f1b6da"
            ],
            [
             0.4,
             "#fde0ef"
            ],
            [
             0.5,
             "#f7f7f7"
            ],
            [
             0.6,
             "#e6f5d0"
            ],
            [
             0.7,
             "#b8e186"
            ],
            [
             0.8,
             "#7fbc41"
            ],
            [
             0.9,
             "#4d9221"
            ],
            [
             1,
             "#276419"
            ]
           ],
           "sequential": [
            [
             0,
             "#0d0887"
            ],
            [
             0.1111111111111111,
             "#46039f"
            ],
            [
             0.2222222222222222,
             "#7201a8"
            ],
            [
             0.3333333333333333,
             "#9c179e"
            ],
            [
             0.4444444444444444,
             "#bd3786"
            ],
            [
             0.5555555555555556,
             "#d8576b"
            ],
            [
             0.6666666666666666,
             "#ed7953"
            ],
            [
             0.7777777777777778,
             "#fb9f3a"
            ],
            [
             0.8888888888888888,
             "#fdca26"
            ],
            [
             1,
             "#f0f921"
            ]
           ],
           "sequentialminus": [
            [
             0,
             "#0d0887"
            ],
            [
             0.1111111111111111,
             "#46039f"
            ],
            [
             0.2222222222222222,
             "#7201a8"
            ],
            [
             0.3333333333333333,
             "#9c179e"
            ],
            [
             0.4444444444444444,
             "#bd3786"
            ],
            [
             0.5555555555555556,
             "#d8576b"
            ],
            [
             0.6666666666666666,
             "#ed7953"
            ],
            [
             0.7777777777777778,
             "#fb9f3a"
            ],
            [
             0.8888888888888888,
             "#fdca26"
            ],
            [
             1,
             "#f0f921"
            ]
           ]
          },
          "colorway": [
           "#636efa",
           "#EF553B",
           "#00cc96",
           "#ab63fa",
           "#FFA15A",
           "#19d3f3",
           "#FF6692",
           "#B6E880",
           "#FF97FF",
           "#FECB52"
          ],
          "font": {
           "color": "#2a3f5f"
          },
          "geo": {
           "bgcolor": "white",
           "lakecolor": "white",
           "landcolor": "#E5ECF6",
           "showlakes": true,
           "showland": true,
           "subunitcolor": "white"
          },
          "hoverlabel": {
           "align": "left"
          },
          "hovermode": "closest",
          "mapbox": {
           "style": "light"
          },
          "paper_bgcolor": "white",
          "plot_bgcolor": "#E5ECF6",
          "polar": {
           "angularaxis": {
            "gridcolor": "white",
            "linecolor": "white",
            "ticks": ""
           },
           "bgcolor": "#E5ECF6",
           "radialaxis": {
            "gridcolor": "white",
            "linecolor": "white",
            "ticks": ""
           }
          },
          "scene": {
           "xaxis": {
            "backgroundcolor": "#E5ECF6",
            "gridcolor": "white",
            "gridwidth": 2,
            "linecolor": "white",
            "showbackground": true,
            "ticks": "",
            "zerolinecolor": "white"
           },
           "yaxis": {
            "backgroundcolor": "#E5ECF6",
            "gridcolor": "white",
            "gridwidth": 2,
            "linecolor": "white",
            "showbackground": true,
            "ticks": "",
            "zerolinecolor": "white"
           },
           "zaxis": {
            "backgroundcolor": "#E5ECF6",
            "gridcolor": "white",
            "gridwidth": 2,
            "linecolor": "white",
            "showbackground": true,
            "ticks": "",
            "zerolinecolor": "white"
           }
          },
          "shapedefaults": {
           "line": {
            "color": "#2a3f5f"
           }
          },
          "ternary": {
           "aaxis": {
            "gridcolor": "white",
            "linecolor": "white",
            "ticks": ""
           },
           "baxis": {
            "gridcolor": "white",
            "linecolor": "white",
            "ticks": ""
           },
           "bgcolor": "#E5ECF6",
           "caxis": {
            "gridcolor": "white",
            "linecolor": "white",
            "ticks": ""
           }
          },
          "title": {
           "x": 0.05
          },
          "xaxis": {
           "automargin": true,
           "gridcolor": "white",
           "linecolor": "white",
           "ticks": "",
           "title": {
            "standoff": 15
           },
           "zerolinecolor": "white",
           "zerolinewidth": 2
          },
          "yaxis": {
           "automargin": true,
           "gridcolor": "white",
           "linecolor": "white",
           "ticks": "",
           "title": {
            "standoff": 15
           },
           "zerolinecolor": "white",
           "zerolinewidth": 2
          }
         }
        },
        "title": {
         "text": "JM Bairstow vs BT Foakes efficiency (JMB Fitness: 52.86 | BTF Fitness: 48.79)"
        },
        "xaxis": {
         "anchor": "y",
         "domain": [
          0,
          1
         ],
         "title": {
          "text": "test #"
         }
        },
        "yaxis": {
         "anchor": "x",
         "domain": [
          0,
          1
         ],
         "title": {
          "text": "value"
         }
        }
       }
      }
     },
     "metadata": {},
     "output_type": "display_data"
    }
   ],
   "source": [
    "import plotly.express as px\n",
    "\n",
    "joined = (\n",
    "    jmb_data\n",
    "        .to_df()\n",
    "        .join(\n",
    "            btf_data.to_df(),\n",
    "            on=\"test #\",\n",
    "            how=\"outer\",\n",
    "        )\n",
    "        .rename({\n",
    "            \"runs\": f\"{jmb} runs\",\n",
    "            \"byes\": f\"{jmb} byes\",\n",
    "            \"net\": f\"{jmb} net\",\n",
    "            \"efficiency\": f\"{jmb} efficiency\",\n",
    "            \"runs_right\": f\"{btf} runs\",\n",
    "            \"byes_right\": f\"{btf} byes\",\n",
    "            \"net_right\": f\"{btf} net\",\n",
    "            \"efficiency_right\": f\"{btf} efficiency\",\n",
    "        })\n",
    ")\n",
    "\n",
    "fig = px.line(\n",
    "    data_frame=joined.to_pandas(),\n",
    "    x=\"test #\",\n",
    "    y=[f\"{jmb} efficiency\", f\"{btf} efficiency\"],\n",
    "    title=f\"{jmb} vs {btf} efficiency (JMB Fitness: {jmb_data.dismissal_weighted_average():.2f} | BTF Fitness: {btf_data.dismissal_weighted_average():.2f})\",\n",
    "    line_shape=\"spline\",\n",
    ")\n",
    "fig.update_layout(\n",
    "    font=dict(\n",
    "        family=\"Lato, sans-serif\",\n",
    "        size=24,\n",
    "        color=\"#7f7f7f\"\n",
    "    )\n",
    ")"
   ]
  },
  {
   "cell_type": "code",
   "execution_count": 175,
   "metadata": {},
   "outputs": [
    {
     "name": "stdout",
     "output_type": "stream",
     "text": [
      "2.8125 3.15\n",
      "58.4375 46.7\n",
      "7.1875 6.25\n"
     ]
    }
   ],
   "source": [
    "print(\n",
    "    jmb_data.dismissals_per_match(),\n",
    "    btf_data.dismissals_per_match(),\n",
    ")\n",
    "print(\n",
    "    jmb_data.runs_per_match(),\n",
    "    btf_data.runs_per_match(),\n",
    ")\n",
    "print(\n",
    "    jmb_data.byes_per_match(),\n",
    "    btf_data.byes_per_match(),\n",
    ")"
   ]
  }
 ],
 "metadata": {
  "kernelspec": {
   "display_name": ".venv",
   "language": "python",
   "name": "python3"
  },
  "language_info": {
   "codemirror_mode": {
    "name": "ipython",
    "version": 3
   },
   "file_extension": ".py",
   "mimetype": "text/x-python",
   "name": "python",
   "nbconvert_exporter": "python",
   "pygments_lexer": "ipython3",
   "version": "3.10.6"
  },
  "orig_nbformat": 4
 },
 "nbformat": 4,
 "nbformat_minor": 2
}
